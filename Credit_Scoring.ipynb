{
 "cells": [
  {
   "cell_type": "code",
   "execution_count": 1,
   "metadata": {},
   "outputs": [],
   "source": [
    "import pandas as pd\n",
    "from scipy import stats\n",
    "from statsmodels.stats.weightstats import zconfint\n",
    "import scipy\n",
    "import numpy as np\n",
    "\n",
    "import matplotlib.pyplot as plt\n",
    "%matplotlib inline"
   ]
  },
  {
   "cell_type": "code",
   "execution_count": 2,
   "metadata": {},
   "outputs": [
    {
     "data": {
      "text/html": [
       "<div>\n",
       "<style scoped>\n",
       "    .dataframe tbody tr th:only-of-type {\n",
       "        vertical-align: middle;\n",
       "    }\n",
       "\n",
       "    .dataframe tbody tr th {\n",
       "        vertical-align: top;\n",
       "    }\n",
       "\n",
       "    .dataframe thead th {\n",
       "        text-align: right;\n",
       "    }\n",
       "</style>\n",
       "<table border=\"1\" class=\"dataframe\">\n",
       "  <thead>\n",
       "    <tr style=\"text-align: right;\">\n",
       "      <th></th>\n",
       "      <th>ID</th>\n",
       "      <th>LIMIT_BAL</th>\n",
       "      <th>SEX</th>\n",
       "      <th>EDUCATION</th>\n",
       "      <th>MARRIAGE</th>\n",
       "      <th>AGE</th>\n",
       "      <th>PAY_0</th>\n",
       "      <th>PAY_2</th>\n",
       "      <th>PAY_3</th>\n",
       "      <th>PAY_4</th>\n",
       "      <th>...</th>\n",
       "      <th>BILL_AMT4</th>\n",
       "      <th>BILL_AMT5</th>\n",
       "      <th>BILL_AMT6</th>\n",
       "      <th>PAY_AMT1</th>\n",
       "      <th>PAY_AMT2</th>\n",
       "      <th>PAY_AMT3</th>\n",
       "      <th>PAY_AMT4</th>\n",
       "      <th>PAY_AMT5</th>\n",
       "      <th>PAY_AMT6</th>\n",
       "      <th>default</th>\n",
       "    </tr>\n",
       "  </thead>\n",
       "  <tbody>\n",
       "    <tr>\n",
       "      <th>0</th>\n",
       "      <td>1</td>\n",
       "      <td>20000</td>\n",
       "      <td>2</td>\n",
       "      <td>2</td>\n",
       "      <td>1</td>\n",
       "      <td>24</td>\n",
       "      <td>2</td>\n",
       "      <td>2</td>\n",
       "      <td>0</td>\n",
       "      <td>0</td>\n",
       "      <td>...</td>\n",
       "      <td>0</td>\n",
       "      <td>0</td>\n",
       "      <td>0</td>\n",
       "      <td>0</td>\n",
       "      <td>689</td>\n",
       "      <td>0</td>\n",
       "      <td>0</td>\n",
       "      <td>0</td>\n",
       "      <td>0</td>\n",
       "      <td>1</td>\n",
       "    </tr>\n",
       "    <tr>\n",
       "      <th>1</th>\n",
       "      <td>2</td>\n",
       "      <td>120000</td>\n",
       "      <td>2</td>\n",
       "      <td>2</td>\n",
       "      <td>2</td>\n",
       "      <td>26</td>\n",
       "      <td>0</td>\n",
       "      <td>2</td>\n",
       "      <td>0</td>\n",
       "      <td>0</td>\n",
       "      <td>...</td>\n",
       "      <td>3272</td>\n",
       "      <td>3455</td>\n",
       "      <td>3261</td>\n",
       "      <td>0</td>\n",
       "      <td>1000</td>\n",
       "      <td>1000</td>\n",
       "      <td>1000</td>\n",
       "      <td>0</td>\n",
       "      <td>2000</td>\n",
       "      <td>1</td>\n",
       "    </tr>\n",
       "    <tr>\n",
       "      <th>2</th>\n",
       "      <td>3</td>\n",
       "      <td>90000</td>\n",
       "      <td>2</td>\n",
       "      <td>2</td>\n",
       "      <td>2</td>\n",
       "      <td>34</td>\n",
       "      <td>0</td>\n",
       "      <td>0</td>\n",
       "      <td>0</td>\n",
       "      <td>0</td>\n",
       "      <td>...</td>\n",
       "      <td>14331</td>\n",
       "      <td>14948</td>\n",
       "      <td>15549</td>\n",
       "      <td>1518</td>\n",
       "      <td>1500</td>\n",
       "      <td>1000</td>\n",
       "      <td>1000</td>\n",
       "      <td>1000</td>\n",
       "      <td>5000</td>\n",
       "      <td>0</td>\n",
       "    </tr>\n",
       "  </tbody>\n",
       "</table>\n",
       "<p>3 rows × 25 columns</p>\n",
       "</div>"
      ],
      "text/plain": [
       "   ID  LIMIT_BAL  SEX  EDUCATION  MARRIAGE  AGE  PAY_0  PAY_2  PAY_3  PAY_4  \\\n",
       "0   1      20000    2          2         1   24      2      2      0      0   \n",
       "1   2     120000    2          2         2   26      0      2      0      0   \n",
       "2   3      90000    2          2         2   34      0      0      0      0   \n",
       "\n",
       "    ...     BILL_AMT4  BILL_AMT5  BILL_AMT6  PAY_AMT1  PAY_AMT2  PAY_AMT3  \\\n",
       "0   ...             0          0          0         0       689         0   \n",
       "1   ...          3272       3455       3261         0      1000      1000   \n",
       "2   ...         14331      14948      15549      1518      1500      1000   \n",
       "\n",
       "   PAY_AMT4  PAY_AMT5  PAY_AMT6  default  \n",
       "0         0         0         0        1  \n",
       "1      1000         0      2000        1  \n",
       "2      1000      1000      5000        0  \n",
       "\n",
       "[3 rows x 25 columns]"
      ]
     },
     "execution_count": 2,
     "metadata": {},
     "output_type": "execute_result"
    }
   ],
   "source": [
    "df = pd.read_csv('credit_card_default_analysis.csv')\n",
    "df.head(3)"
   ]
  },
  {
   "cell_type": "code",
   "execution_count": 3,
   "metadata": {},
   "outputs": [
    {
     "data": {
      "text/plain": [
       "(30000, 25)"
      ]
     },
     "execution_count": 3,
     "metadata": {},
     "output_type": "execute_result"
    }
   ],
   "source": [
    "df.shape"
   ]
  },
  {
   "cell_type": "markdown",
   "metadata": {},
   "source": [
    "### TASK 1\n",
    "Размер кредитного лимита (LIMIT_BAL). В двух группах, тех людей, кто вернул кредит (default = 0) и тех, кто его не вернул (default = 1) проверьте гипотезы: a) о равенстве медианных значений кредитного лимита с помощью подходящей интервальной оценки b) о равенстве распределений с помощью одного из подходящих непараметрических критериев проверки равенства средних. Значимы ли полученные результаты с практической точки зрения ?"
   ]
  },
  {
   "cell_type": "code",
   "execution_count": 4,
   "metadata": {},
   "outputs": [
    {
     "data": {
      "text/plain": [
       "Index([u'ID', u'LIMIT_BAL', u'SEX', u'EDUCATION', u'MARRIAGE', u'AGE',\n",
       "       u'PAY_0', u'PAY_2', u'PAY_3', u'PAY_4', u'PAY_5', u'PAY_6',\n",
       "       u'BILL_AMT1', u'BILL_AMT2', u'BILL_AMT3', u'BILL_AMT4', u'BILL_AMT5',\n",
       "       u'BILL_AMT6', u'PAY_AMT1', u'PAY_AMT2', u'PAY_AMT3', u'PAY_AMT4',\n",
       "       u'PAY_AMT5', u'PAY_AMT6', u'default'],\n",
       "      dtype='object')"
      ]
     },
     "execution_count": 4,
     "metadata": {},
     "output_type": "execute_result"
    }
   ],
   "source": [
    "df.columns"
   ]
  },
  {
   "cell_type": "markdown",
   "metadata": {},
   "source": [
    "### описание полей:\n",
    "\n",
    "- LIMIT_BAL: размер кредитного лимита (в том числе и на семью клиента)\n",
    "- SEX: пол клиента (1 = мужской, 2 = женский )\n",
    "- EDUCATION: образование (0 = доктор, 1 = магистр; 2 = бакалавр; 3 = выпускник школы; 4 = начальное образование; 5= прочее; 6 = нет данных ).\n",
    "- MARRIAGE: (0 = отказываюсь отвечать; 1 = замужем/женат; 2 = холост; 3 = нет данных).\n",
    "- AGE: возраст в годах\n",
    "- PAY_0 - PAY_6 : История прошлых платежей по кредиту. PAY_6 - платеж в апреле, ... Pay_0 - платеж в сентябре. Платеж = (0 = исправный платеж, 1=задержка в один месяц, 2=задержка в 2 месяца ...)\n",
    "- BILL_AMT1 - BILL_AMT6: задолженность, BILL_AMT6 - на апрель, BILL_AMT1 - на сентябрь\n",
    "- PAY_AMT1 - PAY_AMT6: сумма уплаченная в PAY_AMT6 - апреле, ..., PAY_AMT1 - сентябре\n",
    "- default - индикатор невозврата денежных средств"
   ]
  },
  {
   "cell_type": "code",
   "execution_count": 5,
   "metadata": {},
   "outputs": [
    {
     "data": {
      "text/plain": [
       "<matplotlib.axes._subplots.AxesSubplot at 0xb453a20>"
      ]
     },
     "execution_count": 5,
     "metadata": {},
     "output_type": "execute_result"
    },
    {
     "data": {
      "image/png": "[encoded data removed]",
      "text/plain": [
       "<Figure size 432x288 with 1 Axes>"
      ]
     },
     "metadata": {
      "needs_background": "light"
     },
     "output_type": "display_data"
    }
   ],
   "source": [
    "df[df['default']==1]['LIMIT_BAL'].hist()"
   ]
  },
  {
   "cell_type": "code",
   "execution_count": 6,
   "metadata": {},
   "outputs": [
    {
     "data": {
      "text/plain": [
       "<matplotlib.axes._subplots.AxesSubplot at 0xbd44f98>"
      ]
     },
     "execution_count": 6,
     "metadata": {},
     "output_type": "execute_result"
    },
    {
     "data": {
      "image/png": "[encoded data removed]",
      "text/plain": [
       "<Figure size 432x288 with 1 Axes>"
      ]
     },
     "metadata": {
      "needs_background": "light"
     },
     "output_type": "display_data"
    }
   ],
   "source": [
    "df[df['default']==0]['LIMIT_BAL'].hist()"
   ]
  },
  {
   "cell_type": "code",
   "execution_count": 7,
   "metadata": {},
   "outputs": [
    {
     "data": {
      "text/plain": [
       "<matplotlib.axes._subplots.AxesSubplot at 0x4474438>"
      ]
     },
     "execution_count": 7,
     "metadata": {},
     "output_type": "execute_result"
    },
    {
     "data": {
      "image/png": "[encoded data removed]",
      "text/plain": [
       "<Figure size 432x288 with 1 Axes>"
      ]
     },
     "metadata": {
      "needs_background": "light"
     },
     "output_type": "display_data"
    }
   ],
   "source": [
    "df[['LIMIT_BAL', 'default']].boxplot(by='default', vert=False)"
   ]
  },
  {
   "cell_type": "markdown",
   "metadata": {},
   "source": [
    "=> гистограмма размера кредитного лимита клиентов вернувших кредит имеет более тяжелый хвост"
   ]
  },
  {
   "cell_type": "markdown",
   "metadata": {},
   "source": [
    "#### a) \n",
    "Проверяем гипотезу о равенстве мидианных значений:\n",
    "\n",
    "- **H_0:** df[df['default']==0]['LIMIT_BAL'] == df[df['default']==1]['LIMIT_BAL']\n",
    "- **H_a:** H_0: df[df['default']==0]['LIMIT_BAL'] == df[df['default']==1]['LIMIT_BAL'] + delta; delta != 0\n",
    "\n",
    "alpha = 0.05"
   ]
  },
  {
   "cell_type": "code",
   "execution_count": 8,
   "metadata": {},
   "outputs": [],
   "source": [
    "def get_bootstrap_samples(data, n_samples):\n",
    "    indices = np.random.randint(0, len(data), (n_samples, len(data)))\n",
    "    samples = data[indices]\n",
    "    return samples\n",
    "\n",
    "def stat_intervals(stat, alpha):\n",
    "    boundaries = np.percentile(stat, [100 * alpha / 2., 100 * (1 - alpha / 2.)])\n",
    "    return boundaries"
   ]
  },
  {
   "cell_type": "code",
   "execution_count": 9,
   "metadata": {},
   "outputs": [
    {
     "name": "stdout",
     "output_type": "stream",
     "text": [
      "95% confidence interval for default=1 median credit limit: [80000. 90000.]\n",
      "95% confidence interval for default=0 median credit limit: [150000. 150000.]\n"
     ]
    }
   ],
   "source": [
    "def_1 = map(np.median, get_bootstrap_samples(df[df['default']==1]['LIMIT_BAL'].values, 1000))\n",
    "def_0 = map(np.median, get_bootstrap_samples(df[df['default']==0]['LIMIT_BAL'].values, 1000))\n",
    "\n",
    "print \"95% confidence interval for default=1 median credit limit:\",  stat_intervals(def_1, 0.05)\n",
    "print \"95% confidence interval for default=0 median credit limit:\",  stat_intervals(def_0 , 0.05)"
   ]
  },
  {
   "cell_type": "markdown",
   "metadata": {},
   "source": [
    "Интервальные оценки медиан не пересекаются, что позволяет нам отвергнуть нулевую гипотезу о о равенстве мидианных значений на уровне значимости 0.05 в пользу альтернативной гипотезы"
   ]
  },
  {
   "cell_type": "markdown",
   "metadata": {},
   "source": [
    " #### b)\n",
    " проверяем гипотезу о равенстве распределений с помощью одного из подходящих непараметрических критериев проверки равенства средних. "
   ]
  },
  {
   "cell_type": "markdown",
   "metadata": {},
   "source": [
    "$H_0\\colon F_{X_1}(x) = F_{X_2}(x)$\n",
    "\n",
    "$H_1\\colon F_{X_1}(x) = F_{X_2}(x + \\Delta), \\Delta\\neq 0$"
   ]
  },
  {
   "cell_type": "code",
   "execution_count": 10,
   "metadata": {},
   "outputs": [],
   "source": [
    "def permutation_t_stat_ind(sample1, sample2):\n",
    "    return np.mean(sample1) - np.mean(sample2)\n",
    "\n",
    "def get_random_combinations(n1, n2, max_combinations):\n",
    "    index = range(n1 + n2)\n",
    "    indices = set([tuple(index)])\n",
    "    for i in range(max_combinations - 1):\n",
    "        np.random.shuffle(index)\n",
    "        indices.add(tuple(index))\n",
    "    return [(index[:n1], index[n1:]) for index in indices]\n",
    "\n",
    "def permutation_zero_dist_ind(sample1, sample2, max_combinations = None):\n",
    "    joined_sample = np.hstack((sample1, sample2))\n",
    "    n1 = len(sample1)\n",
    "    n = len(joined_sample)\n",
    "    \n",
    "    if max_combinations:\n",
    "        indices = get_random_combinations(n1, len(sample2), max_combinations)\n",
    "    else:\n",
    "        indices = [(list(index), filter(lambda i: i not in index, range(n))) \\\n",
    "                    for index in itertools.combinations(range(n), n1)]\n",
    "    \n",
    "    distr = [joined_sample[list(i[0])].mean() - joined_sample[list(i[1])].mean() \\\n",
    "             for i in indices]\n",
    "    return distr\n",
    "\n",
    "def permutation_test(sample, mean, max_permutations = None, alternative = 'two-sided'):\n",
    "    if alternative not in ('two-sided', 'less', 'greater'):\n",
    "        raise ValueError(\"alternative not recognized\\n\"\n",
    "                         \"should be 'two-sided', 'less' or 'greater'\")\n",
    "    \n",
    "    t_stat = permutation_t_stat_ind(sample, mean)\n",
    "    \n",
    "    zero_distr = permutation_zero_dist_ind(sample, mean, max_permutations)\n",
    "    \n",
    "    if alternative == 'two-sided':\n",
    "        return sum([1. if abs(x) >= abs(t_stat) else 0. for x in zero_distr]) / len(zero_distr)\n",
    "    \n",
    "    if alternative == 'less':\n",
    "        return sum([1. if x <= t_stat else 0. for x in zero_distr]) / len(zero_distr)\n",
    "\n",
    "    if alternative == 'greater':\n",
    "        return sum([1. if x >= t_stat else 0. for x in zero_distr]) / len(zero_distr)"
   ]
  },
  {
   "cell_type": "code",
   "execution_count": 11,
   "metadata": {},
   "outputs": [
    {
     "name": "stdout",
     "output_type": "stream",
     "text": [
      "p-value: 0.000100\n"
     ]
    }
   ],
   "source": [
    "print \"p-value: %f\" % permutation_test(df[df['default']==0]['LIMIT_BAL'], df[df['default']==1]['LIMIT_BAL'], max_permutations = 10000)"
   ]
  },
  {
   "cell_type": "markdown",
   "metadata": {},
   "source": [
    "p_value < alpha, что позволяет нам отвергнуть нулевую гипотезу о равенстве распределений по перестановочному критерию на уровне значимости 0.05 в пользу альтернативной гипотезы. \n",
    "\n",
    "Скорее всего имеет место обратная зависимость - клиентам, чья вероятность вернуть кредит по подсчетам банка больше, предоставляли более широкий кредитный лимит. Отсюда и сдвиг медианы"
   ]
  },
  {
   "cell_type": "markdown",
   "metadata": {},
   "source": [
    "### TASK 2\n",
    "\n",
    "Пол (SEX): Проверьте гипотезу о том, что **гендерный состав группы людей вернувших и не вернувших** кредит отличается. Хорошо, если вы предоставите несколько различных решений этой задачи (с помощью доверительного интервала и подходящего статистического критерия)"
   ]
  },
  {
   "cell_type": "code",
   "execution_count": 12,
   "metadata": {},
   "outputs": [],
   "source": [
    "df_0=df[df['default']==0]['SEX']-1\n",
    "df_1=df[df['default']==1]['SEX']-1"
   ]
  },
  {
   "cell_type": "code",
   "execution_count": 13,
   "metadata": {},
   "outputs": [
    {
     "data": {
      "image/png": "[encoded data removed]",
      "text/plain": [
       "<Figure size 576x576 with 2 Axes>"
      ]
     },
     "metadata": {},
     "output_type": "display_data"
    }
   ],
   "source": [
    "labels = 'woman', 'man'\n",
    "sizes_0 = [sum(df_0), df_0.shape[0]]\n",
    "sizes_1 = [sum(df_1), df_1.shape[0]]\n",
    "\n",
    "fig1, (ax1, ax2) = plt.subplots(1, 2)\n",
    "fig1.set_figheight(8)\n",
    "fig1.set_figwidth(8)\n",
    "ax1.pie(sizes_0, labels=labels, autopct='%1.1f%%',\n",
    "        shadow=True, startangle=90)\n",
    "ax1.axis('equal')\n",
    "ax1.set_title('default=0 proportion')\n",
    "\n",
    "ax2.pie(sizes_1, labels=labels, autopct='%1.1f%%',\n",
    "        shadow=True, startangle=90)\n",
    "ax2.axis('equal')\n",
    "ax2.set_title('default=1 proportion')\n",
    "\n",
    "plt.show()"
   ]
  },
  {
   "cell_type": "markdown",
   "metadata": {},
   "source": [
    "- H_0: P(woman|default=1) == P(woman|default=0)\n",
    "- H_a: P(woman|default=1) != P(woman|default=0)\n",
    "\n",
    "alpha = 0.05"
   ]
  },
  {
   "cell_type": "code",
   "execution_count": 14,
   "metadata": {},
   "outputs": [
    {
     "name": "stdout",
     "output_type": "stream",
     "text": [
      "interval for default=0 [0.607890, 0.620373]\n",
      "interval for default=1 [0.555102, 0.578938]\n"
     ]
    }
   ],
   "source": [
    "from statsmodels.stats.proportion import proportion_confint\n",
    "\n",
    "conf_interval_banner_def_0 = proportion_confint(sum(df_0), \n",
    "                                            df_0.shape[0],\n",
    "                                            method = 'wilson')\n",
    "conf_interval_banner_def_1 = proportion_confint(sum(df_1), \n",
    "                                            df_1.shape[0],\n",
    "                                            method = 'wilson')\n",
    "\n",
    "print 'interval for default=0 [%f, %f]' % conf_interval_banner_def_0\n",
    "print 'interval for default=1 [%f, %f]' % conf_interval_banner_def_1"
   ]
  },
  {
   "cell_type": "code",
   "execution_count": 15,
   "metadata": {},
   "outputs": [],
   "source": [
    "def proportions_diff_confint_ind(sample1, sample2, alpha = 0.05):    \n",
    "    z = scipy.stats.norm.ppf(1 - alpha / 2.)\n",
    "    \n",
    "    p1 = float(sum(sample1)) / len(sample1)\n",
    "    p2 = float(sum(sample2)) / len(sample2)\n",
    "    \n",
    "    left_boundary = (p1 - p2) - z * np.sqrt(p1 * (1 - p1)/ len(sample1) + p2 * (1 - p2)/ len(sample2))\n",
    "    right_boundary = (p1 - p2) + z * np.sqrt(p1 * (1 - p1)/ len(sample1) + p2 * (1 - p2)/ len(sample2))\n",
    "    \n",
    "    return (left_boundary, right_boundary)\n",
    "\n",
    "def proportions_diff_z_test(z_stat, alternative = 'two-sided'):\n",
    "    if alternative not in ('two-sided', 'less', 'greater'):\n",
    "        raise ValueError(\"alternative not recognized\\n\"\n",
    "                         \"should be 'two-sided', 'less' or 'greater'\")\n",
    "    \n",
    "    if alternative == 'two-sided':\n",
    "        return 2 * (1 - scipy.stats.norm.cdf(np.abs(z_stat)))\n",
    "    \n",
    "    if alternative == 'less':\n",
    "        return scipy.stats.norm.cdf(z_stat)\n",
    "\n",
    "    if alternative == 'greater':\n",
    "        return 1 - scipy.stats.norm.cdf(z_stat)\n",
    "    \n",
    "def proportions_diff_z_stat_ind(sample1, sample2):\n",
    "    n1 = len(sample1)\n",
    "    n2 = len(sample2)\n",
    "    \n",
    "    p1 = float(sum(sample1)) / n1\n",
    "    p2 = float(sum(sample2)) / n2 \n",
    "    P = float(p1*n1 + p2*n2) / (n1 + n2)\n",
    "    \n",
    "    return (p1 - p2) / np.sqrt(P * (1 - P) * (1. / n1 + 1. / n2))"
   ]
  },
  {
   "cell_type": "code",
   "execution_count": 16,
   "metadata": {},
   "outputs": [
    {
     "name": "stdout",
     "output_type": "stream",
     "text": [
      "95% confidence interval for a difference between proportions: [0.033635, 0.060548]\n"
     ]
    }
   ],
   "source": [
    "print \"95%% confidence interval for a difference between proportions: [%f, %f]\" %\\\n",
    "      proportions_diff_confint_ind(df_0, df_1)"
   ]
  },
  {
   "cell_type": "code",
   "execution_count": 17,
   "metadata": {},
   "outputs": [
    {
     "data": {
      "text/plain": [
       "4.472866521609831e-12"
      ]
     },
     "execution_count": 17,
     "metadata": {},
     "output_type": "execute_result"
    }
   ],
   "source": [
    "proportions_diff_z_test(proportions_diff_z_stat_ind(df_0, df_1))"
   ]
  },
  {
   "cell_type": "markdown",
   "metadata": {},
   "source": [
    "P_value < alpha, значит отвергаем нашу нулевую гипотезу о равенстве долей женщин в двух подвыборках в пользу альтернативной. 95% интервальные оценки не пересекаются, а их разница не содержит нуля, что говорит о различии долей в подвыборках. С практической точки зрения мы можем утверждать, что в мужчины на 3-6% более склонны к невозврату кредита, чем женщины"
   ]
  },
  {
   "cell_type": "markdown",
   "metadata": {},
   "source": [
    "### TASK 3\n",
    "\n",
    "Образование (EDUCATION): Проверьте гипотезу о том, что образование не влияет на то, вернет ли человек долг. Предложите способ наглядного представления разницы в ожидаемых и наблюдаемых значениях количества человек вернувших и не вернувших долг. Например, составьте таблицу сопряженности \"образование\" на \"возврат долга\", где значением ячейки была бы разность между наблюдаемым и ожидаемым количеством человек. Как бы вы предложили модифицировать таблицу так, чтобы привести значения ячеек к одному масштабу не потеряв в интерпретируемости ? Наличие какого образования является наилучшим индикатором того, что человек отдаст долг ? наоборт, не отдаст долг ?"
   ]
  },
  {
   "cell_type": "code",
   "execution_count": 18,
   "metadata": {},
   "outputs": [],
   "source": [
    "df_0=df[df['default']==0]['EDUCATION']\n",
    "df_1=df[df['default']==1]['EDUCATION']"
   ]
  },
  {
   "cell_type": "code",
   "execution_count": 19,
   "metadata": {},
   "outputs": [],
   "source": [
    "cross_table=np.zeros([2,7], dtype='int')\n",
    "\n",
    "for i in range(7):\n",
    "    cross_table[0,i] = np.sum(df_0==i)\n",
    "for i in range(7):\n",
    "    cross_table[1,i] = np.sum(df_1==i)"
   ]
  },
  {
   "cell_type": "code",
   "execution_count": 20,
   "metadata": {},
   "outputs": [
    {
     "data": {
      "image/png": "[encoded data removed]",
      "text/plain": [
       "<Figure size 1080x360 with 2 Axes>"
      ]
     },
     "metadata": {
      "needs_background": "light"
     },
     "output_type": "display_data"
    }
   ],
   "source": [
    "labels = ('Doctor', 'Master', 'Bachelor', 'School Graduate', 'Basic Education', 'Other', 'No Data')\n",
    "\n",
    "fig1, (ax1, ax2) = plt.subplots(1, 2)\n",
    "fig1.set_figheight(5)\n",
    "fig1.set_figwidth(15)\n",
    "\n",
    "ax1.bar(labels, cross_table[0], color='g')\n",
    "#ax1.axis('equal')\n",
    "ax1.set_title('default=0 proportion')\n",
    "ax1.tick_params(axis='x', labelrotation=90)\n",
    "\n",
    "ax2.bar(labels, cross_table[1], color='r')\n",
    "#ax2.axis('equal')\n",
    "ax2.set_title('default=1 proportion')\n",
    "ax2.tick_params(axis='x', labelrotation=90)\n",
    "\n",
    "plt.show()"
   ]
  },
  {
   "cell_type": "code",
   "execution_count": 21,
   "metadata": {},
   "outputs": [
    {
     "data": {
      "image/png": "[encoded data removed]",
      "text/plain": [
       "<Figure size 576x576 with 1 Axes>"
      ]
     },
     "metadata": {
      "needs_background": "light"
     },
     "output_type": "display_data"
    }
   ],
   "source": [
    "df_e=df.groupby('EDUCATION').size()\n",
    "\n",
    "labels = ('Doctor', 'Master', 'Bachelor', 'School Graduate', 'Basic Education', 'Other', 'No Data')\n",
    "fig1, ax1 = plt.subplots()\n",
    "fig1.set_figheight(8)\n",
    "fig1.set_figwidth(8)\n",
    "\n",
    "ax1.bar(labels, cross_table[0], color='g')\n",
    "ax1.bar(labels, cross_table[1], bottom=cross_table[0], color='r')\n",
    "#ax1.axis('equal')\n",
    "#ax1.set_title('default=0 proportion')\n",
    "plt.legend(('Default=0', 'Default=1'))\n",
    "ax1.tick_params(axis='x', labelrotation=90)"
   ]
  },
  {
   "cell_type": "code",
   "execution_count": 183,
   "metadata": {},
   "outputs": [
    {
     "name": "stdout",
     "output_type": "stream",
     "text": [
      "Критерий Хи квадрат: статистика = 27.5094090929579      уровень значимости = 1.5633210355976673e-07\n"
     ]
    }
   ],
   "source": [
    "chi2, p, dof, ex = scipy.stats.chi2_contingency(cross_table)\n",
    "print 'Критерий Хи квадрат: статистика =',chi2,'     уровень значимости =', p"
   ]
  },
  {
   "cell_type": "markdown",
   "metadata": {},
   "source": [
    "Уровень значимости для полученной статистики Хи квадрат (1.2e-32) значительно ниже 0.05, что позволяет уверенно отвергнуть гипотезу о том, что признаки независимы"
   ]
  },
  {
   "cell_type": "code",
   "execution_count": 23,
   "metadata": {},
   "outputs": [
    {
     "name": "stdout",
     "output_type": "stream",
     "text": [
      "Таблица сопряженности, где значения ячеек - наблюдаемое количество человек\n"
     ]
    },
    {
     "data": {
      "text/html": [
       "<div>\n",
       "<style scoped>\n",
       "    .dataframe tbody tr th:only-of-type {\n",
       "        vertical-align: middle;\n",
       "    }\n",
       "\n",
       "    .dataframe tbody tr th {\n",
       "        vertical-align: top;\n",
       "    }\n",
       "\n",
       "    .dataframe thead th {\n",
       "        text-align: right;\n",
       "    }\n",
       "</style>\n",
       "<table border=\"1\" class=\"dataframe\">\n",
       "  <thead>\n",
       "    <tr style=\"text-align: right;\">\n",
       "      <th></th>\n",
       "      <th>Doctor</th>\n",
       "      <th>Master</th>\n",
       "      <th>Bachelor</th>\n",
       "      <th>School Graduate</th>\n",
       "      <th>Basic Education</th>\n",
       "      <th>Other</th>\n",
       "      <th>No Data</th>\n",
       "    </tr>\n",
       "  </thead>\n",
       "  <tbody>\n",
       "    <tr>\n",
       "      <th>default=0</th>\n",
       "      <td>14</td>\n",
       "      <td>8549</td>\n",
       "      <td>10700</td>\n",
       "      <td>3680</td>\n",
       "      <td>116</td>\n",
       "      <td>262</td>\n",
       "      <td>43</td>\n",
       "    </tr>\n",
       "    <tr>\n",
       "      <th>default=1</th>\n",
       "      <td>0</td>\n",
       "      <td>2036</td>\n",
       "      <td>3330</td>\n",
       "      <td>1237</td>\n",
       "      <td>7</td>\n",
       "      <td>18</td>\n",
       "      <td>8</td>\n",
       "    </tr>\n",
       "  </tbody>\n",
       "</table>\n",
       "</div>"
      ],
      "text/plain": [
       "           Doctor  Master  Bachelor  School Graduate  Basic Education  Other  \\\n",
       "default=0      14    8549     10700             3680              116    262   \n",
       "default=1       0    2036      3330             1237                7     18   \n",
       "\n",
       "           No Data  \n",
       "default=0       43  \n",
       "default=1        8  "
      ]
     },
     "execution_count": 23,
     "metadata": {},
     "output_type": "execute_result"
    }
   ],
   "source": [
    "print 'Таблица сопряженности, где значения ячеек - наблюдаемое количество человек'\n",
    "pd.DataFrame(cross_table, \n",
    "             columns=['Doctor', 'Master', 'Bachelor', 'School Graduate', 'Basic Education', 'Other', 'No Data'], \n",
    "             index=['default=0', 'default=1'])"
   ]
  },
  {
   "cell_type": "code",
   "execution_count": 24,
   "metadata": {},
   "outputs": [
    {
     "name": "stdout",
     "output_type": "stream",
     "text": [
      "Таблица сопряженности, где значения ячеек - ожидаемое количество человек\n"
     ]
    },
    {
     "data": {
      "text/html": [
       "<div>\n",
       "<style scoped>\n",
       "    .dataframe tbody tr th:only-of-type {\n",
       "        vertical-align: middle;\n",
       "    }\n",
       "\n",
       "    .dataframe tbody tr th {\n",
       "        vertical-align: top;\n",
       "    }\n",
       "\n",
       "    .dataframe thead th {\n",
       "        text-align: right;\n",
       "    }\n",
       "</style>\n",
       "<table border=\"1\" class=\"dataframe\">\n",
       "  <thead>\n",
       "    <tr style=\"text-align: right;\">\n",
       "      <th></th>\n",
       "      <th>Doctor</th>\n",
       "      <th>Master</th>\n",
       "      <th>Bachelor</th>\n",
       "      <th>School Graduate</th>\n",
       "      <th>Basic Education</th>\n",
       "      <th>Other</th>\n",
       "      <th>No Data</th>\n",
       "    </tr>\n",
       "  </thead>\n",
       "  <tbody>\n",
       "    <tr>\n",
       "      <th>default=0</th>\n",
       "      <td>10</td>\n",
       "      <td>8243</td>\n",
       "      <td>10926</td>\n",
       "      <td>3829</td>\n",
       "      <td>95</td>\n",
       "      <td>218</td>\n",
       "      <td>39</td>\n",
       "    </tr>\n",
       "    <tr>\n",
       "      <th>default=1</th>\n",
       "      <td>3</td>\n",
       "      <td>2341</td>\n",
       "      <td>3103</td>\n",
       "      <td>1087</td>\n",
       "      <td>27</td>\n",
       "      <td>61</td>\n",
       "      <td>11</td>\n",
       "    </tr>\n",
       "  </tbody>\n",
       "</table>\n",
       "</div>"
      ],
      "text/plain": [
       "           Doctor  Master  Bachelor  School Graduate  Basic Education  Other  \\\n",
       "default=0      10    8243     10926             3829               95    218   \n",
       "default=1       3    2341      3103             1087               27     61   \n",
       "\n",
       "           No Data  \n",
       "default=0       39  \n",
       "default=1       11  "
      ]
     },
     "execution_count": 24,
     "metadata": {},
     "output_type": "execute_result"
    }
   ],
   "source": [
    "print 'Таблица сопряженности, где значения ячеек - ожидаемое количество человек'\n",
    "pd.DataFrame(ex.astype(int), \n",
    "             columns=['Doctor', 'Master', 'Bachelor', 'School Graduate', 'Basic Education', 'Other', 'No Data'], \n",
    "             index=['default=0', 'default=1'])"
   ]
  },
  {
   "cell_type": "markdown",
   "metadata": {},
   "source": [
    "Cоставим таблицу сопряженности \"образование\" на \"возврат долга\", где значением ячейки была бы разность между наблюдаемым и ожидаемым количеством человек"
   ]
  },
  {
   "cell_type": "code",
   "execution_count": 25,
   "metadata": {},
   "outputs": [
    {
     "name": "stdout",
     "output_type": "stream",
     "text": [
      "Таблица сопряженности, где значения ячеек - разность между наблюдаемым и ожидаемым количеством человек\n"
     ]
    },
    {
     "data": {
      "text/html": [
       "<div>\n",
       "<style scoped>\n",
       "    .dataframe tbody tr th:only-of-type {\n",
       "        vertical-align: middle;\n",
       "    }\n",
       "\n",
       "    .dataframe tbody tr th {\n",
       "        vertical-align: top;\n",
       "    }\n",
       "\n",
       "    .dataframe thead th {\n",
       "        text-align: right;\n",
       "    }\n",
       "</style>\n",
       "<table border=\"1\" class=\"dataframe\">\n",
       "  <thead>\n",
       "    <tr style=\"text-align: right;\">\n",
       "      <th></th>\n",
       "      <th>Doctor</th>\n",
       "      <th>Master</th>\n",
       "      <th>Bachelor</th>\n",
       "      <th>School Graduate</th>\n",
       "      <th>Basic Education</th>\n",
       "      <th>Other</th>\n",
       "      <th>No Data</th>\n",
       "    </tr>\n",
       "  </thead>\n",
       "  <tbody>\n",
       "    <tr>\n",
       "      <th>default=0</th>\n",
       "      <td>4</td>\n",
       "      <td>306</td>\n",
       "      <td>-226</td>\n",
       "      <td>-149</td>\n",
       "      <td>21</td>\n",
       "      <td>44</td>\n",
       "      <td>4</td>\n",
       "    </tr>\n",
       "    <tr>\n",
       "      <th>default=1</th>\n",
       "      <td>-3</td>\n",
       "      <td>-305</td>\n",
       "      <td>227</td>\n",
       "      <td>150</td>\n",
       "      <td>-20</td>\n",
       "      <td>-43</td>\n",
       "      <td>-3</td>\n",
       "    </tr>\n",
       "  </tbody>\n",
       "</table>\n",
       "</div>"
      ],
      "text/plain": [
       "           Doctor  Master  Bachelor  School Graduate  Basic Education  Other  \\\n",
       "default=0       4     306      -226             -149               21     44   \n",
       "default=1      -3    -305       227              150              -20    -43   \n",
       "\n",
       "           No Data  \n",
       "default=0        4  \n",
       "default=1       -3  "
      ]
     },
     "execution_count": 25,
     "metadata": {},
     "output_type": "execute_result"
    }
   ],
   "source": [
    "print 'Таблица сопряженности, где значения ячеек - разность между наблюдаемым и ожидаемым количеством человек'\n",
    "pd.DataFrame(cross_table-ex.astype(int), \n",
    "             columns=['Doctor', 'Master', 'Bachelor', 'School Graduate', 'Basic Education', 'Other', 'No Data'], \n",
    "             index=['default=0', 'default=1'])"
   ]
  },
  {
   "cell_type": "markdown",
   "metadata": {},
   "source": [
    "*Как бы вы предложили модифицировать таблицу так, чтобы привести значения ячеек к одному масштабу не потеряв в интерпретируемости ?*\n",
    "\n",
    "Для приведения значения ячеек к одному маштабу, можно расчитать процент невозврата и отклонение от общего процента невозврата для каждой таблицы"
   ]
  },
  {
   "cell_type": "code",
   "execution_count": 26,
   "metadata": {},
   "outputs": [
    {
     "name": "stdout",
     "output_type": "stream",
     "text": [
      "Доля невозврата по всей наблюдаемой выборке 22.12 %\n"
     ]
    }
   ],
   "source": [
    "default_rate = cross_table[1,:].sum()/cross_table.sum().astype(float)\n",
    "print u\"Доля невозврата по всей наблюдаемой выборке \" + str(default_rate*100) + \" %\""
   ]
  },
  {
   "cell_type": "code",
   "execution_count": 27,
   "metadata": {},
   "outputs": [],
   "source": [
    "cross_table_def_p=[]\n",
    "for i in cross_table.T:\n",
    "    cross_table_def_p.append(i[1]/float(i.sum()))"
   ]
  },
  {
   "cell_type": "code",
   "execution_count": 28,
   "metadata": {},
   "outputs": [],
   "source": [
    "ex_p=[]\n",
    "for i in ex.T:\n",
    "    ex_p.append(i[1]/float(i.sum()))"
   ]
  },
  {
   "cell_type": "code",
   "execution_count": 29,
   "metadata": {},
   "outputs": [
    {
     "data": {
      "text/plain": [
       "array([-0.2212    , -0.02885234,  0.01614854,  0.03037616, -0.16428943,\n",
       "       -0.15691429, -0.06433725])"
      ]
     },
     "execution_count": 29,
     "metadata": {},
     "output_type": "execute_result"
    }
   ],
   "source": [
    "cross_table_def_p-default_rate"
   ]
  },
  {
   "cell_type": "code",
   "execution_count": 30,
   "metadata": {},
   "outputs": [],
   "source": [
    "data_p=np.around(np.vstack((cross_table_def_p, ex_p, cross_table_def_p-default_rate)), 2)"
   ]
  },
  {
   "cell_type": "code",
   "execution_count": 31,
   "metadata": {},
   "outputs": [
    {
     "data": {
      "text/html": [
       "<div>\n",
       "<style scoped>\n",
       "    .dataframe tbody tr th:only-of-type {\n",
       "        vertical-align: middle;\n",
       "    }\n",
       "\n",
       "    .dataframe tbody tr th {\n",
       "        vertical-align: top;\n",
       "    }\n",
       "\n",
       "    .dataframe thead th {\n",
       "        text-align: right;\n",
       "    }\n",
       "</style>\n",
       "<table border=\"1\" class=\"dataframe\">\n",
       "  <thead>\n",
       "    <tr style=\"text-align: right;\">\n",
       "      <th></th>\n",
       "      <th>Doctor</th>\n",
       "      <th>Master</th>\n",
       "      <th>Bachelor</th>\n",
       "      <th>School Graduate</th>\n",
       "      <th>Basic Education</th>\n",
       "      <th>Other</th>\n",
       "      <th>No Data</th>\n",
       "    </tr>\n",
       "  </thead>\n",
       "  <tbody>\n",
       "    <tr>\n",
       "      <th>Expremental default prob.</th>\n",
       "      <td>0.00</td>\n",
       "      <td>0.19</td>\n",
       "      <td>0.24</td>\n",
       "      <td>0.25</td>\n",
       "      <td>0.06</td>\n",
       "      <td>0.06</td>\n",
       "      <td>0.16</td>\n",
       "    </tr>\n",
       "    <tr>\n",
       "      <th>Expected default prob.</th>\n",
       "      <td>0.22</td>\n",
       "      <td>0.22</td>\n",
       "      <td>0.22</td>\n",
       "      <td>0.22</td>\n",
       "      <td>0.22</td>\n",
       "      <td>0.22</td>\n",
       "      <td>0.22</td>\n",
       "    </tr>\n",
       "    <tr>\n",
       "      <th>The diff.</th>\n",
       "      <td>-0.22</td>\n",
       "      <td>-0.03</td>\n",
       "      <td>0.02</td>\n",
       "      <td>0.03</td>\n",
       "      <td>-0.16</td>\n",
       "      <td>-0.16</td>\n",
       "      <td>-0.06</td>\n",
       "    </tr>\n",
       "  </tbody>\n",
       "</table>\n",
       "</div>"
      ],
      "text/plain": [
       "                           Doctor  Master  Bachelor  School Graduate  \\\n",
       "Expremental default prob.    0.00    0.19      0.24             0.25   \n",
       "Expected default prob.       0.22    0.22      0.22             0.22   \n",
       "The diff.                   -0.22   -0.03      0.02             0.03   \n",
       "\n",
       "                           Basic Education  Other  No Data  \n",
       "Expremental default prob.             0.06   0.06     0.16  \n",
       "Expected default prob.                0.22   0.22     0.22  \n",
       "The diff.                            -0.16  -0.16    -0.06  "
      ]
     },
     "execution_count": 31,
     "metadata": {},
     "output_type": "execute_result"
    }
   ],
   "source": [
    "table_edu=pd.DataFrame(data_p, \n",
    "             columns=['Doctor', 'Master', 'Bachelor', 'School Graduate', 'Basic Education', 'Other', 'No Data'], \n",
    "             index=['Expremental default prob.', 'Expected default prob.', 'The diff.'])\n",
    "\n",
    "table_edu"
   ]
  },
  {
   "cell_type": "markdown",
   "metadata": {},
   "source": [
    "Из таблицы выше предлагаю отбросить значения столбцов, с количевством элементов в оригинальном датасете менее 40 штук"
   ]
  },
  {
   "cell_type": "code",
   "execution_count": 32,
   "metadata": {},
   "outputs": [
    {
     "data": {
      "text/html": [
       "<div>\n",
       "<style scoped>\n",
       "    .dataframe tbody tr th:only-of-type {\n",
       "        vertical-align: middle;\n",
       "    }\n",
       "\n",
       "    .dataframe tbody tr th {\n",
       "        vertical-align: top;\n",
       "    }\n",
       "\n",
       "    .dataframe thead th {\n",
       "        text-align: right;\n",
       "    }\n",
       "</style>\n",
       "<table border=\"1\" class=\"dataframe\">\n",
       "  <thead>\n",
       "    <tr style=\"text-align: right;\">\n",
       "      <th></th>\n",
       "      <th>Master</th>\n",
       "      <th>Bachelor</th>\n",
       "      <th>School Graduate</th>\n",
       "      <th>Basic Education</th>\n",
       "      <th>Other</th>\n",
       "    </tr>\n",
       "  </thead>\n",
       "  <tbody>\n",
       "    <tr>\n",
       "      <th>Expremental default prob.</th>\n",
       "      <td>0.19</td>\n",
       "      <td>0.24</td>\n",
       "      <td>0.25</td>\n",
       "      <td>0.06</td>\n",
       "      <td>0.06</td>\n",
       "    </tr>\n",
       "    <tr>\n",
       "      <th>Expected default prob.</th>\n",
       "      <td>0.22</td>\n",
       "      <td>0.22</td>\n",
       "      <td>0.22</td>\n",
       "      <td>0.22</td>\n",
       "      <td>0.22</td>\n",
       "    </tr>\n",
       "    <tr>\n",
       "      <th>The diff.</th>\n",
       "      <td>-0.03</td>\n",
       "      <td>0.02</td>\n",
       "      <td>0.03</td>\n",
       "      <td>-0.16</td>\n",
       "      <td>-0.16</td>\n",
       "    </tr>\n",
       "  </tbody>\n",
       "</table>\n",
       "</div>"
      ],
      "text/plain": [
       "                           Master  Bachelor  School Graduate  Basic Education  \\\n",
       "Expremental default prob.    0.19      0.24             0.25             0.06   \n",
       "Expected default prob.       0.22      0.22             0.22             0.22   \n",
       "The diff.                   -0.03      0.02             0.03            -0.16   \n",
       "\n",
       "                           Other  \n",
       "Expremental default prob.   0.06  \n",
       "Expected default prob.      0.22  \n",
       "The diff.                  -0.16  "
      ]
     },
     "execution_count": 32,
     "metadata": {},
     "output_type": "execute_result"
    }
   ],
   "source": [
    "table_edu[['Master', 'Bachelor', 'School Graduate', 'Basic Education', 'Other']]"
   ]
  },
  {
   "cell_type": "markdown",
   "metadata": {},
   "source": [
    "*Наличие какого образования является наилучшим индикатором того, что человек отдаст долг ? наоборт, не отдаст долг ?*\n",
    "\n",
    "Исходя из таблицы выше можно сделать вывод, что наличие базового образования может служить наилучшим индикатором того, что человек отдаст долг. В то же время школьного образования значительно повышает риск невозврата по кредиту"
   ]
  },
  {
   "cell_type": "markdown",
   "metadata": {},
   "source": [
    "### Task 4\n",
    "\n",
    "Семейное положение (MARRIAGE): Проверьте, как связан семейный статус с индикатором дефолта: нужно предложить меру, по которой можно измерить возможную связь этих переменных и посчитать ее значение."
   ]
  },
  {
   "cell_type": "code",
   "execution_count": 33,
   "metadata": {},
   "outputs": [
    {
     "name": "stdout",
     "output_type": "stream",
     "text": [
      "2    15964\n",
      "1    13659\n",
      "3      323\n",
      "0       54\n",
      "Name: MARRIAGE, dtype: int64\n",
      "MARRIAGE: (0 = отказываюсь отвечать; 1 = замужем/женат; 2 = холост; 3 = нет данных)\n"
     ]
    }
   ],
   "source": [
    "print df['MARRIAGE'].value_counts()\n",
    "print ('MARRIAGE: (0 = отказываюсь отвечать; 1 = замужем/женат; 2 = холост; 3 = нет данных)')"
   ]
  },
  {
   "cell_type": "code",
   "execution_count": 34,
   "metadata": {},
   "outputs": [],
   "source": [
    "df_m=df.groupby(['default', 'MARRIAGE']).size()"
   ]
  },
  {
   "cell_type": "code",
   "execution_count": 37,
   "metadata": {},
   "outputs": [
    {
     "data": {
      "image/png": "[encoded data removed]",
      "text/plain": [
       "<Figure size 576x576 with 1 Axes>"
      ]
     },
     "metadata": {
      "needs_background": "light"
     },
     "output_type": "display_data"
    }
   ],
   "source": [
    "labels = (u'отказываюсь отвечать', u'замужем/женат', u'холост', u'нет данных')\n",
    "fig1, ax1 = plt.subplots()\n",
    "fig1.set_figheight(8)\n",
    "fig1.set_figwidth(8)\n",
    "\n",
    "ax1.bar(labels, df_m[0], color='g')\n",
    "ax1.bar(labels, df_m[1], bottom=df_m[0], color='r')\n",
    "#ax1.axis('equal')\n",
    "#ax1.set_title('default=0 proportion')\n",
    "plt.legend(('Default=0', 'Default=1'))\n",
    "ax1.tick_params(axis='x', labelrotation=90)"
   ]
  },
  {
   "cell_type": "markdown",
   "metadata": {},
   "source": [
    "Значения признака \"отказываюсь отвечать\" и \"нет данных\" малочислены и не несут информации - удаляем их из дальнейшего рассмотрения."
   ]
  },
  {
   "cell_type": "code",
   "execution_count": 154,
   "metadata": {},
   "outputs": [
    {
     "data": {
      "text/plain": [
       "<matplotlib.legend.Legend at 0x4d37ef98>"
      ]
     },
     "execution_count": 154,
     "metadata": {},
     "output_type": "execute_result"
    },
    {
     "data": {
      "image/png": "[encoded data removed]",
      "text/plain": [
       "<Figure size 1152x576 with 2 Axes>"
      ]
     },
     "metadata": {
      "needs_background": "light"
     },
     "output_type": "display_data"
    }
   ],
   "source": [
    "labels = (u'замужем/женат', u'холост')\n",
    "fig1, (ax1, ax2) = plt.subplots(1,2)\n",
    "fig1.set_figheight(8)\n",
    "fig1.set_figwidth(16)\n",
    "\n",
    "\n",
    "ax1.bar(labels, df_m[0][1:3], color='g')\n",
    "ax1.bar(labels, df_m[1][1:3], bottom=df_m[0][1:3], color='r')\n",
    "ax1.tick_params(axis='x', labelrotation=0, labelsize=14)\n",
    "ax1.legend(('Default=0', 'Default=1'))\n",
    "ax1.annotate(str(df_m[0][1]), (0-0.1, df_m[0][1]/2), size=15)\n",
    "ax1.annotate(str(df_m[0][2]), (1-0.1, df_m[0][2]/2), size=15)\n",
    "ax1.title.set_text(u'Количество плательщиков и неплательщиков, \\n разделенное по семейному положению')\n",
    "ax1.title.set_size(15)\n",
    "ax1.annotate(str(df_m[1][1]), (0-0.1, df_m[0][1]+(df_m[1][1]/2)), size=15)\n",
    "ax1.annotate(str(df_m[1][2]), (1-0.1, df_m[0][2]+(df_m[1][2]/2)), size=15)\n",
    "\n",
    "sum_m=(df_m[1][1:3]+df_m[0][1:3]).astype(float)\n",
    "df0_m_p=np.around(df_m[0][1:3]/sum_m,2)\n",
    "df1_m_p=np.around(df_m[1][1:3]/sum_m,2)\n",
    "\n",
    "ax2.bar(labels, df0_m_p, color='g')\n",
    "ax2.bar(labels, df1_m_p, bottom=df0_m_p, color='r')\n",
    "\n",
    "ax2.annotate(str(df0_m_p[1]), (0-0.1, df0_m_p[1]/2), size=15)\n",
    "ax2.annotate(str(df0_m_p[2]), (1-0.1, df0_m_p[2]/2), size=15)\n",
    "\n",
    "ax2.annotate(str(df1_m_p[1]), (0-0.1, df0_m_p[1]+(df1_m_p[1]/2)), size=15)\n",
    "ax2.annotate(str(df1_m_p[2]), (1-0.1, df0_m_p[2]+(df1_m_p[2]/2)), size=15)\n",
    "\n",
    "\n",
    "ax2.title.set_text(u'Доля плательщиков и неплательщиков, \\n разделенное по семейному положению')\n",
    "ax2.title.set_size(15)\n",
    "ax2.tick_params(axis='x', labelrotation=0, labelsize=14)\n",
    "ax2.legend(('Default=0', 'Default=1'))"
   ]
  },
  {
   "cell_type": "markdown",
   "metadata": {},
   "source": [
    "На графиках видно, что доля неплательщиков больше среди женатых/замужних клиентов.\n",
    "\n",
    "Далее, аналогично предыдущему заданию, планируется применить критерий Хи квадрат для проверки гипотезы о том, что семейное положение не влияет на то, вернет ли человек долг"
   ]
  },
  {
   "cell_type": "code",
   "execution_count": 166,
   "metadata": {},
   "outputs": [],
   "source": [
    "cross_table = np.vstack((df_m[0][1:3], df_m[1][1:3]))"
   ]
  },
  {
   "cell_type": "code",
   "execution_count": 182,
   "metadata": {},
   "outputs": [
    {
     "name": "stdout",
     "output_type": "stream",
     "text": [
      "Критерий Хи квадрат: статистика = 27.5094090929579      уровень значимости = 1.5633210355976673e-07\n"
     ]
    }
   ],
   "source": [
    "chi2, p, dof, ex = scipy.stats.chi2_contingency(cross_table)\n",
    "print 'Критерий Хи квадрат: статистика =',chi2,'     уровень значимости =', p"
   ]
  },
  {
   "cell_type": "markdown",
   "metadata": {},
   "source": [
    "Уровень значимости для полученной статистики Хи квадрат (1.56e-7) значительно ниже 0.05, что позволяет уверенно отвергнуть гипотезу о том, что признаки независимы. \n",
    "\n",
    "Для того, чтобы измерить возможную связь переменных MARRIAGE и Deafault и посчитать ее значение, вычислим коэффициент корреляции Крэмера, меру взаимосвязи бинарных признаков"
   ]
  },
  {
   "cell_type": "code",
   "execution_count": 181,
   "metadata": {},
   "outputs": [
    {
     "name": "stdout",
     "output_type": "stream",
     "text": [
      "0.03\n"
     ]
    }
   ],
   "source": [
    "V = np.sqrt(chi2/cross_table.sum())\n",
    "print V.round(2)"
   ]
  },
  {
   "cell_type": "markdown",
   "metadata": {},
   "source": [
    "Полученное значение коэфициент корреляции Крамера весьма мало, что согласуется со слабой связью семейного положения с возвратом кредита."
   ]
  },
  {
   "cell_type": "markdown",
   "metadata": {},
   "source": [
    "### TASK 5\n",
    "Возраст (AGE): Относительно двух групп людей вернувших и не вернувших кредит проверьте следующие гипотезы: a) о равенстве медианных значений возрастов людей b) о равенстве распределений с помощью одного из подходящих непараметрических критериев проверки равенства средних. Значимы ли полученные результаты с практической точки зрения ?"
   ]
  },
  {
   "cell_type": "code",
   "execution_count": 184,
   "metadata": {},
   "outputs": [],
   "source": [
    "df_0=df[df['default']==0]['AGE']\n",
    "df_1=df[df['default']==1]['AGE']"
   ]
  },
  {
   "cell_type": "code",
   "execution_count": 194,
   "metadata": {},
   "outputs": [
    {
     "data": {
      "image/png": "[encoded data removed]",
      "text/plain": [
       "<Figure size 1080x360 with 2 Axes>"
      ]
     },
     "metadata": {
      "needs_background": "light"
     },
     "output_type": "display_data"
    }
   ],
   "source": [
    "fig1, (ax1, ax2) = plt.subplots(1, 2)\n",
    "fig1.set_figheight(5)\n",
    "fig1.set_figwidth(15)\n",
    "\n",
    "ax1.hist(df_0, color='g',bins=20)\n",
    "#ax1.axis('equal')\n",
    "ax1.set_title('default=0 hist')\n",
    "ax1.set_xlabel('Age')\n",
    "ax1.set_ylabel('Num of people')\n",
    "ax1.tick_params(axis='x', labelrotation=90)\n",
    "\n",
    "ax2.hist(df_1, color='r',bins=20)\n",
    "#ax2.axis('equal')\n",
    "ax2.set_title('default=1 hist')\n",
    "ax2.set_xlabel('Age')\n",
    "ax2.set_ylabel('Num of people')\n",
    "ax2.tick_params(axis='x', labelrotation=90)\n",
    "\n",
    "plt.show()"
   ]
  },
  {
   "cell_type": "markdown",
   "metadata": {},
   "source": [
    "A) оценка медианных значений возрастов людей реализованная через бутстрап"
   ]
  },
  {
   "cell_type": "code",
   "execution_count": 195,
   "metadata": {},
   "outputs": [],
   "source": [
    "def get_bootstrap_samples(data, n_samples):\n",
    "    indices = np.random.randint(0, len(data), (n_samples, len(data)))\n",
    "    samples = data[indices]\n",
    "    return samples\n",
    "\n",
    "def stat_intervals(stat, alpha):\n",
    "    boundaries = np.percentile(stat, [100 * alpha / 2., 100 * (1 - alpha / 2.)])\n",
    "    return boundaries"
   ]
  },
  {
   "cell_type": "code",
   "execution_count": 201,
   "metadata": {},
   "outputs": [
    {
     "name": "stdout",
     "output_type": "stream",
     "text": [
      "difference between medians: 0.0\n",
      "95% confidence interval for the ILEC median repair time: [34. 34.]\n",
      "95% confidence interval for the CLEC median repair time: [34. 35.]\n",
      "95% confidence interval for the difference between medians [0. 1.]\n"
     ]
    }
   ],
   "source": [
    "df0_median_scores = map(np.median, get_bootstrap_samples(df_0.values, 1000))\n",
    "df1_median_scores = map(np.median, get_bootstrap_samples(df_1.values, 1000))\n",
    "\n",
    "print \"difference between medians:\", np.median(df_0.values) - np.median(df_1.values)\n",
    "print \"95% confidence interval for the ILEC median repair time:\",  stat_intervals(df0_median_scores, 0.05)\n",
    "print \"95% confidence interval for the CLEC median repair time:\",  stat_intervals(df1_median_scores, 0.05)\n",
    "\n",
    "delta_median_scores = map(lambda x: x[1] - x[0], zip(df0_median_scores, df1_median_scores))\n",
    "print \"95% confidence interval for the difference between medians\",  stat_intervals(delta_median_scores, 0.05)"
   ]
  },
  {
   "cell_type": "markdown",
   "metadata": {},
   "source": [
    "95%-ые доверительные интервалы для оценок медиан двух подвыборок пересекаются, доверительный интервал для разности медиан содержит нуль, что не позволяет нам сделать вывод, что медианы подвыборок различны"
   ]
  },
  {
   "cell_type": "markdown",
   "metadata": {},
   "source": [
    "b) Проверяем равенство распределений с помощью непараметрического критерия проверки равенства средних Манна-Уитни\n",
    "\n",
    "$H_0\\colon F_{X_1}(x) = F_{X_2}(x)$\n",
    "\n",
    "$H_1\\colon F_{X_1}(x) = F_{X_2}(x + \\Delta), \\Delta\\neq 0$\n",
    "\n",
    "alpha = 0.05"
   ]
  },
  {
   "cell_type": "code",
   "execution_count": 203,
   "metadata": {},
   "outputs": [
    {
     "data": {
      "text/plain": [
       "MannwhitneyuResult(statistic=76966879.5, pvalue=0.3725035434898616)"
      ]
     },
     "execution_count": 203,
     "metadata": {},
     "output_type": "execute_result"
    }
   ],
   "source": [
    "stats.mannwhitneyu(df_0, df_1, alternative='two-sided')"
   ]
  },
  {
   "cell_type": "markdown",
   "metadata": {},
   "source": [
    "p_value > alpha, что не позволяет нам отвергнуть нулевую гипотезу о равенстве распределений по заданному критерию на уровне значимости 0.05 в пользу альтернативной гипотезы. Возрастные характеристики двух групп схожи и нет возможности делать выводы о возврате/невозврате кридита по одному лишь возрасту"
   ]
  }
 ],
 "metadata": {
  "kernelspec": {
   "display_name": "Python 2",
   "language": "python",
   "name": "python2"
  },
  "language_info": {
   "codemirror_mode": {
    "name": "ipython",
    "version": 2
   },
   "file_extension": ".py",
   "mimetype": "text/x-python",
   "name": "python",
   "nbconvert_exporter": "python",
   "pygments_lexer": "ipython2",
   "version": "2.7.15"
  }
 },
 "nbformat": 4,
 "nbformat_minor": 2
}
