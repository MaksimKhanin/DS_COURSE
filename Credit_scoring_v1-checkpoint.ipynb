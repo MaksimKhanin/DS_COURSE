{
 "cells": [
  {
   "cell_type": "code",
   "execution_count": 2,
   "metadata": {},
   "outputs": [],
   "source": [
    "import pandas as pd\n",
    "import numpy as np\n",
    "import matplotlib.pyplot as plt\n",
    "\n",
    "%matplotlib inline"
   ]
  },
  {
   "cell_type": "code",
   "execution_count": 3,
   "metadata": {},
   "outputs": [
    {
     "data": {
      "text/html": [
       "<div>\n",
       "<style scoped>\n",
       "    .dataframe tbody tr th:only-of-type {\n",
       "        vertical-align: middle;\n",
       "    }\n",
       "\n",
       "    .dataframe tbody tr th {\n",
       "        vertical-align: top;\n",
       "    }\n",
       "\n",
       "    .dataframe thead th {\n",
       "        text-align: right;\n",
       "    }\n",
       "</style>\n",
       "<table border=\"1\" class=\"dataframe\">\n",
       "  <thead>\n",
       "    <tr style=\"text-align: right;\">\n",
       "      <th></th>\n",
       "      <th>LIMIT_BAL</th>\n",
       "      <th>SEX</th>\n",
       "      <th>EDUCATION</th>\n",
       "      <th>MARRIAGE</th>\n",
       "      <th>AGE</th>\n",
       "      <th>PAY_0</th>\n",
       "      <th>PAY_2</th>\n",
       "      <th>PAY_3</th>\n",
       "      <th>PAY_4</th>\n",
       "      <th>PAY_5</th>\n",
       "      <th>...</th>\n",
       "      <th>BILL_AMT4</th>\n",
       "      <th>BILL_AMT5</th>\n",
       "      <th>BILL_AMT6</th>\n",
       "      <th>PAY_AMT1</th>\n",
       "      <th>PAY_AMT2</th>\n",
       "      <th>PAY_AMT3</th>\n",
       "      <th>PAY_AMT4</th>\n",
       "      <th>PAY_AMT5</th>\n",
       "      <th>PAY_AMT6</th>\n",
       "      <th>default</th>\n",
       "    </tr>\n",
       "    <tr>\n",
       "      <th>ID</th>\n",
       "      <th></th>\n",
       "      <th></th>\n",
       "      <th></th>\n",
       "      <th></th>\n",
       "      <th></th>\n",
       "      <th></th>\n",
       "      <th></th>\n",
       "      <th></th>\n",
       "      <th></th>\n",
       "      <th></th>\n",
       "      <th></th>\n",
       "      <th></th>\n",
       "      <th></th>\n",
       "      <th></th>\n",
       "      <th></th>\n",
       "      <th></th>\n",
       "      <th></th>\n",
       "      <th></th>\n",
       "      <th></th>\n",
       "      <th></th>\n",
       "      <th></th>\n",
       "    </tr>\n",
       "  </thead>\n",
       "  <tbody>\n",
       "    <tr>\n",
       "      <th>1</th>\n",
       "      <td>20000</td>\n",
       "      <td>2</td>\n",
       "      <td>2</td>\n",
       "      <td>1</td>\n",
       "      <td>24</td>\n",
       "      <td>2</td>\n",
       "      <td>2</td>\n",
       "      <td>0</td>\n",
       "      <td>0</td>\n",
       "      <td>0</td>\n",
       "      <td>...</td>\n",
       "      <td>0</td>\n",
       "      <td>0</td>\n",
       "      <td>0</td>\n",
       "      <td>0</td>\n",
       "      <td>689</td>\n",
       "      <td>0</td>\n",
       "      <td>0</td>\n",
       "      <td>0</td>\n",
       "      <td>0</td>\n",
       "      <td>1</td>\n",
       "    </tr>\n",
       "    <tr>\n",
       "      <th>2</th>\n",
       "      <td>120000</td>\n",
       "      <td>2</td>\n",
       "      <td>2</td>\n",
       "      <td>2</td>\n",
       "      <td>26</td>\n",
       "      <td>0</td>\n",
       "      <td>2</td>\n",
       "      <td>0</td>\n",
       "      <td>0</td>\n",
       "      <td>0</td>\n",
       "      <td>...</td>\n",
       "      <td>3272</td>\n",
       "      <td>3455</td>\n",
       "      <td>3261</td>\n",
       "      <td>0</td>\n",
       "      <td>1000</td>\n",
       "      <td>1000</td>\n",
       "      <td>1000</td>\n",
       "      <td>0</td>\n",
       "      <td>2000</td>\n",
       "      <td>1</td>\n",
       "    </tr>\n",
       "    <tr>\n",
       "      <th>3</th>\n",
       "      <td>90000</td>\n",
       "      <td>2</td>\n",
       "      <td>2</td>\n",
       "      <td>2</td>\n",
       "      <td>34</td>\n",
       "      <td>0</td>\n",
       "      <td>0</td>\n",
       "      <td>0</td>\n",
       "      <td>0</td>\n",
       "      <td>0</td>\n",
       "      <td>...</td>\n",
       "      <td>14331</td>\n",
       "      <td>14948</td>\n",
       "      <td>15549</td>\n",
       "      <td>1518</td>\n",
       "      <td>1500</td>\n",
       "      <td>1000</td>\n",
       "      <td>1000</td>\n",
       "      <td>1000</td>\n",
       "      <td>5000</td>\n",
       "      <td>0</td>\n",
       "    </tr>\n",
       "    <tr>\n",
       "      <th>4</th>\n",
       "      <td>50000</td>\n",
       "      <td>2</td>\n",
       "      <td>2</td>\n",
       "      <td>1</td>\n",
       "      <td>37</td>\n",
       "      <td>0</td>\n",
       "      <td>0</td>\n",
       "      <td>0</td>\n",
       "      <td>0</td>\n",
       "      <td>0</td>\n",
       "      <td>...</td>\n",
       "      <td>28314</td>\n",
       "      <td>28959</td>\n",
       "      <td>29547</td>\n",
       "      <td>2000</td>\n",
       "      <td>2019</td>\n",
       "      <td>1200</td>\n",
       "      <td>1100</td>\n",
       "      <td>1069</td>\n",
       "      <td>1000</td>\n",
       "      <td>0</td>\n",
       "    </tr>\n",
       "    <tr>\n",
       "      <th>5</th>\n",
       "      <td>50000</td>\n",
       "      <td>1</td>\n",
       "      <td>2</td>\n",
       "      <td>1</td>\n",
       "      <td>57</td>\n",
       "      <td>0</td>\n",
       "      <td>0</td>\n",
       "      <td>0</td>\n",
       "      <td>0</td>\n",
       "      <td>0</td>\n",
       "      <td>...</td>\n",
       "      <td>20940</td>\n",
       "      <td>19146</td>\n",
       "      <td>19131</td>\n",
       "      <td>2000</td>\n",
       "      <td>36681</td>\n",
       "      <td>10000</td>\n",
       "      <td>9000</td>\n",
       "      <td>689</td>\n",
       "      <td>679</td>\n",
       "      <td>0</td>\n",
       "    </tr>\n",
       "  </tbody>\n",
       "</table>\n",
       "<p>5 rows × 24 columns</p>\n",
       "</div>"
      ],
      "text/plain": [
       "    LIMIT_BAL  SEX  EDUCATION  MARRIAGE  AGE  PAY_0  PAY_2  PAY_3  PAY_4  \\\n",
       "ID                                                                         \n",
       "1       20000    2          2         1   24      2      2      0      0   \n",
       "2      120000    2          2         2   26      0      2      0      0   \n",
       "3       90000    2          2         2   34      0      0      0      0   \n",
       "4       50000    2          2         1   37      0      0      0      0   \n",
       "5       50000    1          2         1   57      0      0      0      0   \n",
       "\n",
       "    PAY_5  ...  BILL_AMT4  BILL_AMT5  BILL_AMT6  PAY_AMT1  PAY_AMT2  PAY_AMT3  \\\n",
       "ID         ...                                                                  \n",
       "1       0  ...          0          0          0         0       689         0   \n",
       "2       0  ...       3272       3455       3261         0      1000      1000   \n",
       "3       0  ...      14331      14948      15549      1518      1500      1000   \n",
       "4       0  ...      28314      28959      29547      2000      2019      1200   \n",
       "5       0  ...      20940      19146      19131      2000     36681     10000   \n",
       "\n",
       "    PAY_AMT4  PAY_AMT5  PAY_AMT6  default  \n",
       "ID                                         \n",
       "1          0         0         0        1  \n",
       "2       1000         0      2000        1  \n",
       "3       1000      1000      5000        0  \n",
       "4       1100      1069      1000        0  \n",
       "5       9000       689       679        0  \n",
       "\n",
       "[5 rows x 24 columns]"
      ]
     },
     "execution_count": 3,
     "metadata": {},
     "output_type": "execute_result"
    }
   ],
   "source": [
    "data = pd.read_csv('credit_card_default_analysis.csv', index_col='ID')\n",
    "_data = data.copy()\n",
    "\n",
    "data.head()"
   ]
  },
  {
   "cell_type": "code",
   "execution_count": 4,
   "metadata": {},
   "outputs": [],
   "source": [
    "def print_plots(data1, data2, label1, label2, boxplot_label='', hist_label='', show_boxplot=True):\n",
    "    if show_boxplot:\n",
    "        plt.figure(figsize=(14, 8))\n",
    "        plt.boxplot([data1, data2], labels=[label1, label2])\n",
    "        plt.ylabel(boxplot_label)\n",
    "        plt.show()\n",
    "\n",
    "    plt.figure(figsize=(16, 7))\n",
    "\n",
    "    plt.subplot(121)\n",
    "    plt.hist(data1, label=label1)\n",
    "    plt.xlabel(label1)\n",
    "    plt.ylabel(hist_label)\n",
    "\n",
    "    plt.subplot(122)\n",
    "    plt.hist(data2, label=label2)\n",
    "    plt.xlabel(label2)\n",
    "    plt.ylabel(hist_label)\n",
    "    plt.show()"
   ]
  },
  {
   "cell_type": "code",
   "execution_count": 7,
   "metadata": {},
   "outputs": [],
   "source": [
    "def get_bootstrap_samples(data, n_samples=100):\n",
    "    indices = np.random.randint(0, len(data), (n_samples, len(data)))\n",
    "    samples = data[indices]\n",
    "    return samples\n",
    "def stat_intervals(stat, alpha=0.05):\n",
    "    boundaries = np.percentile(stat, [100 * alpha / 2., 100 * (1 - alpha / 2.)])\n",
    "    return boundaries\n",
    "\n",
    "def permutation_t_stat_ind(sample1, sample2):\n",
    "    return np.mean(sample1) - np.mean(sample2)\n",
    "\n",
    "def get_random_combinations(n1, n2, max_combinations):\n",
    "    index = list(range(n1 + n2))\n",
    "    indices = set([tuple(index)])\n",
    "    for i in range(max_combinations - 1):\n",
    "        np.random.shuffle(index)\n",
    "        indices.add(tuple(index))\n",
    "    return [(index[:n1], index[n1:]) for index in indices]\n",
    "\n",
    "def permutation_zero_dist_ind(sample1, sample2, max_combinations=None):\n",
    "    joined_sample = np.hstack((sample1, sample2))\n",
    "    n1 = len(sample1)\n",
    "    n = len(joined_sample)\n",
    "    \n",
    "    if max_combinations:\n",
    "        indices = get_random_combinations(n1, len(sample2), max_combinations)\n",
    "    else:\n",
    "        indices = [(list(index), filter(lambda i: i not in index, range(n))) \\\n",
    "                    for index in itertools.combinations(range(n), n1)]\n",
    "    \n",
    "    distr = [joined_sample[list(i[0])].mean() - joined_sample[list(i[1])].mean() \\\n",
    "             for i in indices]\n",
    "    return distr\n",
    "\n",
    "def permutation_test(sample1, sample2, max_permutations=500, alternative='two-sided'):\n",
    "    if alternative not in ('two-sided', 'less', 'greater'):\n",
    "        raise ValueError(\"alternative not recognized\\n\"\n",
    "                         \"should be 'two-sided', 'less' or 'greater'\")\n",
    "    \n",
    "    t_stat = permutation_t_stat_ind(sample1, sample2)\n",
    "    \n",
    "    zero_distr = permutation_zero_dist_ind(sample1, sample2, max_permutations)\n",
    "    \n",
    "    if alternative == 'two-sided':\n",
    "        return sum([1. if abs(x) >= abs(t_stat) else 0. for x in zero_distr]) / len(zero_distr)\n",
    "    \n",
    "    if alternative == 'less':\n",
    "        return sum([1. if x <= t_stat else 0. for x in zero_distr]) / len(zero_distr)\n",
    "\n",
    "    if alternative == 'greater':\n",
    "        return sum([1. if x >= t_stat else 0. for x in zero_distr]) / len(zero_distr)"
   ]
  },
  {
   "cell_type": "markdown",
   "metadata": {},
   "source": [
    "## Решение 1.а\n",
    "\n",
    "Будем проверять гипотезу c помощью бутстрапа:\n",
    "\n",
    "H0: медианы выборок LIMIL_BAL для людей, вернувших и невернувших кредиты, равны\n",
    "\n",
    "С альтернативой:\n",
    "\n",
    "H1: не равны"
   ]
  },
  {
   "cell_type": "code",
   "execution_count": 39,
   "metadata": {},
   "outputs": [
    {
     "data": {
      "image/png": "[encoded data removed]",
      "text/plain": [
       "<Figure size 1008x576 with 1 Axes>"
      ]
     },
     "metadata": {
      "needs_background": "light"
     },
     "output_type": "display_data"
    },
    {
     "data": {
      "image/png": "[encoded data removed]",
      "text/plain": [
       "<Figure size 1152x504 with 2 Axes>"
      ]
     },
     "metadata": {
      "needs_background": "light"
     },
     "output_type": "display_data"
    },
    {
     "name": "stdout",
     "output_type": "stream",
     "text": [
      "median1 = 150000.0, median2 = 90000.0\n",
      "median diff 95% interval = [60000. 70000.]\n"
     ]
    }
   ],
   "source": [
    "from scipy.stats import median_test\n",
    "\n",
    "returned = data[data.default == 0]\n",
    "not_returned = data[data.default == 1]\n",
    "    \n",
    "print_plots(returned.LIMIT_BAL, not_returned.LIMIT_BAL, \n",
    "            label1 = 'Распределение LIMIT_BAL для вернувших',\n",
    "            label2 = 'Распределение LIMIT_BAL для невернувших',\n",
    "            boxplot_label = 'Кредитный лимит LIMIT_BAL',\n",
    "            hist_label = 'Количество человек')\n",
    "\n",
    "samples1 = np.array(list( map( np.median, get_bootstrap_samples(returned.LIMIT_BAL.values, 200) ) ) )\n",
    "samples2 = np.array(list( map( np.median, get_bootstrap_samples(not_returned.LIMIT_BAL.values, 200) )  ) )\n",
    "\n",
    "    \n",
    "print('median1 = {}, median2 = {}'.format(returned.LIMIT_BAL.median(), not_returned.LIMIT_BAL.median()))\n",
    "print('median diff 95% interval = {}'.format(stat_intervals(samples1 - samples2) ))"
   ]
  },
  {
   "cell_type": "markdown",
   "metadata": {},
   "source": [
    "### Вывод: интервал не пересекается, что говорит о статистическом различии медиан. И различия медиан в 90 тысяч и 150 тоже практически значимы."
   ]
  },
  {
   "cell_type": "markdown",
   "metadata": {},
   "source": [
    "## Решение 1.б"
   ]
  },
  {
   "cell_type": "markdown",
   "metadata": {},
   "source": [
    "H0: Распределения returned и not_returned равны\n",
    "\n",
    "H1: Распределения смещены друг относительно друга\n",
    "    \n",
    "Будем использовать критерий Манна-Уитни"
   ]
  },
  {
   "cell_type": "code",
   "execution_count": 5,
   "metadata": {},
   "outputs": [
    {
     "name": "stdout",
     "output_type": "stream",
     "text": [
      "mean(returned)=178099.72607430234, mean(not_returned)=130109.65641952984\n",
      "pvalue = 1.2255485818223303e-189\n"
     ]
    }
   ],
   "source": [
    "from scipy.stats import mannwhitneyu\n",
    "\n",
    "_, pvalue = mannwhitneyu(returned, not_returned, alternative='two-sided')\n",
    "\n",
    "print('mean(returned)={}, mean(not_returned)={}\\npvalue = {}'.format(returned.mean(), not_returned.mean(), pvalue))"
   ]
  },
  {
   "cell_type": "markdown",
   "metadata": {},
   "source": [
    "### Вывод: pvalue мало, следовательно кредитные лимиты в выборках имеют разные распределения. Различие медиан и средних практически значимо."
   ]
  },
  {
   "cell_type": "markdown",
   "metadata": {},
   "source": [
    "## Решение 2\n",
    "\n",
    "p1 - доля мужчин, вернувших долг\n",
    "p2 - доля женщин, вернувших долг\n",
    "\n",
    "используем двухсторонний z-критерий для доли двух независимых выборок\n",
    "\n",
    "H0: p1 и p2 равны\n",
    "\n",
    "H1: не равны"
   ]
  },
  {
   "cell_type": "code",
   "execution_count": 14,
   "metadata": {},
   "outputs": [],
   "source": [
    "from scipy.stats import norm\n",
    "def z_test_binom_ind(sample1, sample2):\n",
    "    p1 = np.mean(sample1)\n",
    "    n1 = len(sample1)\n",
    "    p2 = np.mean(sample2)\n",
    "    n2 = len(sample2)\n",
    "    \n",
    "    P = (p1 * n1 + p2 * n2) / (n1 + n2)\n",
    "    \n",
    "    statistics = (p1 - p2) / np.sqrt(P * (1 - P) * (1 / n1 + 1 / n2))\n",
    "    pvalue = 2 * (1 - norm.cdf(np.abs(statistics)))\n",
    "    \n",
    "    return (statistics, pvalue)"
   ]
  },
  {
   "cell_type": "code",
   "execution_count": 15,
   "metadata": {},
   "outputs": [],
   "source": [
    "def z_confint_one(values, alpha=0.05):\n",
    "    p = np.mean(values)\n",
    "    n = len(values)\n",
    "    \n",
    "    delta = norm.ppf(1 - alpha / 2) * np.sqrt(p * (1 - p) / n)\n",
    "    \n",
    "    return [max(p - delta, 0), min(p + delta, 1)]\n",
    "\n",
    "def z_confint_ind(sample1, sample2, alpha=0.05):\n",
    "    p1 = np.mean(sample1)\n",
    "    n1 = len(sample1)\n",
    "    p2 = np.mean(sample2)\n",
    "    n2 = len(sample2)\n",
    "    \n",
    "    diff = p1 - p2\n",
    "    \n",
    "    delta = norm.ppf(1 - alpha / 2) * np.sqrt(p1 * (1 - p1) / n1 + p2 * (1 - p2) / n2)\n",
    "    \n",
    "    return [diff - delta, diff + delta]"
   ]
  },
  {
   "cell_type": "code",
   "execution_count": 18,
   "metadata": {},
   "outputs": [
    {
     "data": {
      "image/png": "[encoded data removed]",
      "text/plain": [
       "<Figure size 1152x504 with 2 Axes>"
      ]
     },
     "metadata": {
      "needs_background": "light"
     },
     "output_type": "display_data"
    },
    {
     "name": "stdout",
     "output_type": "stream",
     "text": [
      "95%-доверительный интервал возврата для мужчин - 75.1%-76.6%\n",
      "95%-доверительный интервал возврата для женщин - 78.6%-79.8%\n",
      "95%-доверительный интервал разности долей женщин и мужчин - 2.4%-4.4%\n",
      "z-statistics=-6.921375088562891, pvalue=4.472866521609831e-12\n"
     ]
    }
   ],
   "source": [
    "man_is_returned = data[data.SEX == 1].default.map(lambda x: x == 0)\n",
    "woman_is_returned = data[data.SEX != 1].default.map(lambda x: x == 0)\n",
    "\n",
    "print_plots(man_is_returned.astype('int'),\n",
    "            woman_is_returned.astype('int'), \n",
    "            'man is returned', \n",
    "            'woman is returned', \n",
    "            show_boxplot=False)\n",
    "\n",
    "zstats, pvalue = z_test_binom_ind(man_is_returned, woman_is_returned)\n",
    "\n",
    "print('95%-доверительный интервал возврата для мужчин - {:.1%}-{:.1%}'.format(*z_confint_one(man_is_returned)))\n",
    "print('95%-доверительный интервал возврата для женщин - {:.1%}-{:.1%}'.format(*z_confint_one(woman_is_returned)))\n",
    "print('95%-доверительный интервал разности долей женщин и мужчин - {:.1%}-{:.1%}'.format(*z_confint_ind(woman_is_returned, man_is_returned)))\n",
    "\n",
    "print('z-statistics={}, pvalue={}'.format(zstats, pvalue))"
   ]
  },
  {
   "cell_type": "markdown",
   "metadata": {},
   "source": [
    "### Вывод: женщины возвращают на 3.39% ([2.4%, 4.36%] - 95%-доверительный интервал) чаще, чем мужчины. Причем т. к. pvalue мало, выбирается альтернатива: p1 и p2 не равны."
   ]
  },
  {
   "cell_type": "markdown",
   "metadata": {},
   "source": [
    "## Решение 3"
   ]
  },
  {
   "cell_type": "code",
   "execution_count": 19,
   "metadata": {},
   "outputs": [
    {
     "data": {
      "image/png": "[encoded data removed]",
      "text/plain": [
       "<Figure size 576x576 with 1 Axes>"
      ]
     },
     "metadata": {
      "needs_background": "light"
     },
     "output_type": "display_data"
    }
   ],
   "source": [
    "returned = data[data.default == 0]\n",
    "not_returned = data[data.default == 1]\n",
    "\n",
    "plt.figure(figsize=(8, 8))\n",
    "plt.hist(returned.EDUCATION, label='Returned')\n",
    "plt.hist(not_returned.EDUCATION, label='Not returned')\n",
    "plt.legend()\n",
    "plt.show()"
   ]
  },
  {
   "cell_type": "code",
   "execution_count": 20,
   "metadata": {
    "scrolled": true
   },
   "outputs": [
    {
     "data": {
      "text/plain": [
       "default  EDUCATION\n",
       "0        0               14\n",
       "         1             8549\n",
       "         2            10700\n",
       "         3             3680\n",
       "         4              116\n",
       "         5              262\n",
       "         6               43\n",
       "1        1             2036\n",
       "         2             3330\n",
       "         3             1237\n",
       "         4                7\n",
       "         5               18\n",
       "         6                8\n",
       "dtype: int64"
      ]
     },
     "execution_count": 20,
     "metadata": {},
     "output_type": "execute_result"
    }
   ],
   "source": [
    "data[['EDUCATION', 'default']].groupby(['default', 'EDUCATION']).size()"
   ]
  },
  {
   "cell_type": "code",
   "execution_count": 34,
   "metadata": {},
   "outputs": [
    {
     "data": {
      "image/png": "[encoded data removed]",
      "text/plain": [
       "<Figure size 432x288 with 1 Axes>"
      ]
     },
     "metadata": {
      "needs_background": "light"
     },
     "output_type": "display_data"
    }
   ],
   "source": [
    "proba_of_return = []\n",
    "count_by_edu = []\n",
    "returned_by_edu = []\n",
    "for education in range(7):\n",
    "    cur = data[ data.EDUCATION == education ]\n",
    "    ret_len = (cur.default == 0).sum()\n",
    "    proba = ret_len / len(cur)\n",
    "    \n",
    "    proba_of_return.append(proba)\n",
    "    count_by_edu.append( len(cur) )\n",
    "    returned_by_edu.append( ret_len )\n",
    "\n",
    "plt.title('Вероятность возврата кредита в зависимости от вида образования')\n",
    "plt.plot(proba_of_return)\n",
    "plt.axis([0, 6, 0, 1]);"
   ]
  },
  {
   "cell_type": "markdown",
   "metadata": {},
   "source": [
    "### Вывод: чаще всего возвращают кредит доктора (0 по оси абсцисс), реже всего закончившие школу (3 по оси абсцисс)"
   ]
  },
  {
   "cell_type": "markdown",
   "metadata": {},
   "source": [
    "### Проверим вывод с помощью критерия Хи-квадрат:\n",
    "\n",
    "H0: рассматривая величина имеет равномерное распределение\n",
    "\n",
    "H1: H0 не верна"
   ]
  },
  {
   "cell_type": "code",
   "execution_count": 35,
   "metadata": {},
   "outputs": [
    {
     "data": {
      "text/plain": [
       "0.8629526580788338"
      ]
     },
     "execution_count": 35,
     "metadata": {},
     "output_type": "execute_result"
    }
   ],
   "source": [
    "prob_mean = np.mean(proba_of_return)\n",
    "\n",
    "prob_mean"
   ]
  },
  {
   "cell_type": "code",
   "execution_count": 36,
   "metadata": {},
   "outputs": [
    {
     "data": {
      "text/plain": [
       "Power_divergenceResult(statistic=278.7725391716089, pvalue=3.653181595163598e-58)"
      ]
     },
     "execution_count": 36,
     "metadata": {},
     "output_type": "execute_result"
    }
   ],
   "source": [
    "from scipy.stats import chisquare\n",
    "\n",
    "chisquare(returned_by_edu, [ prob_mean * num for num in count_by_edu ], ddof=1)"
   ]
  },
  {
   "cell_type": "markdown",
   "metadata": {},
   "source": [
    "### Вывод: критерий хи квадрат применим, гипотеза H0 отвергается. Выдача кредита зависит от вида образования как статистически, так и практически."
   ]
  },
  {
   "cell_type": "markdown",
   "metadata": {},
   "source": [
    "## Решение 4"
   ]
  },
  {
   "cell_type": "markdown",
   "metadata": {},
   "source": [
    "H0: возрат кредита не зависит от семейного статуса\n",
    "\n",
    "H1: возрат кредита зависит от семейного статуса"
   ]
  },
  {
   "cell_type": "code",
   "execution_count": 12,
   "metadata": {},
   "outputs": [
    {
     "data": {
      "image/png": "[encoded data removed]",
      "text/plain": [
       "<Figure size 576x576 with 1 Axes>"
      ]
     },
     "metadata": {
      "needs_background": "light"
     },
     "output_type": "display_data"
    }
   ],
   "source": [
    "plt.figure(figsize=(8, 8))\n",
    "\n",
    "plt.hist(returned.MARRIAGE, label='Returned')\n",
    "plt.hist(not_returned.MARRIAGE, label='Not returned')\n",
    "plt.legend()\n",
    "plt.show()"
   ]
  },
  {
   "cell_type": "code",
   "execution_count": 13,
   "metadata": {},
   "outputs": [
    {
     "data": {
      "image/png": "[encoded data removed]",
      "text/plain": [
       "<Figure size 432x288 with 1 Axes>"
      ]
     },
     "metadata": {
      "needs_background": "light"
     },
     "output_type": "display_data"
    }
   ],
   "source": [
    "proba_of_return = []\n",
    "for mar in range(4):\n",
    "    cur = data[ data.MARRIAGE == mar ]\n",
    "    proba = (cur.default == 0).sum() / len(cur)\n",
    "    \n",
    "    proba_of_return.append(proba)\n",
    "\n",
    "plt.title('Вероятность возврата кредита в зависимости от семейного статуса')\n",
    "plt.plot(proba_of_return)\n",
    "plt.axis([0, 3, 0, 1]);"
   ]
  },
  {
   "cell_type": "markdown",
   "metadata": {},
   "source": [
    "### Воспользуемся коэффициентом V Крамера:"
   ]
  },
  {
   "cell_type": "code",
   "execution_count": 37,
   "metadata": {},
   "outputs": [
    {
     "name": "stdout",
     "output_type": "stream",
     "text": [
      "Таблица сопряженности:\n"
     ]
    },
    {
     "data": {
      "text/plain": [
       "array([[   49,     5],\n",
       "       [10453,  3206],\n",
       "       [12623,  3341],\n",
       "       [  239,    84]])"
      ]
     },
     "execution_count": 37,
     "metadata": {},
     "output_type": "execute_result"
    }
   ],
   "source": [
    "con_table = np.zeros((2, 4), dtype='int')\n",
    "for mar in range(4):\n",
    "    con_table[0, mar] = (returned.MARRIAGE == mar).sum()\n",
    "    con_table[1, mar] = (not_returned.MARRIAGE == mar).sum()\n",
    "\n",
    "con_table = con_table.T\n",
    "print('Таблица сопряженности:')\n",
    "con_table"
   ]
  },
  {
   "cell_type": "code",
   "execution_count": 28,
   "metadata": {},
   "outputs": [],
   "source": [
    "def cramers_stat(confusion_matrix):\n",
    "    chi2 = stats.chi2_contingency(confusion_matrix)[0]\n",
    "    n = confusion_matrix.sum()\n",
    "    return np.sqrt(chi2 / (n*(min(confusion_matrix.shape)-1)))"
   ]
  },
  {
   "cell_type": "code",
   "execution_count": 29,
   "metadata": {},
   "outputs": [
    {
     "data": {
      "text/plain": [
       "0.034478203662766466"
      ]
     },
     "execution_count": 29,
     "metadata": {},
     "output_type": "execute_result"
    }
   ],
   "source": [
    "cramers_stat(con_table)"
   ]
  },
  {
   "cell_type": "markdown",
   "metadata": {},
   "source": [
    "### Вывод: условия применимости критерия хи-2 выполнены. Коэффициент принимает близкое к нулю значение, следовательно взаимосвязь признаков отсутствует"
   ]
  },
  {
   "cell_type": "markdown",
   "metadata": {},
   "source": [
    "## Решение 5.а"
   ]
  },
  {
   "cell_type": "code",
   "execution_count": 31,
   "metadata": {},
   "outputs": [
    {
     "data": {
      "image/png": "[encoded data removed]",
      "text/plain": [
       "<Figure size 432x288 with 1 Axes>"
      ]
     },
     "metadata": {
      "needs_background": "light"
     },
     "output_type": "display_data"
    }
   ],
   "source": [
    "plt.hist(returned.AGE, label='Returned')\n",
    "plt.hist(not_returned.AGE, label='Not returned')\n",
    "plt.legend()\n",
    "plt.show()"
   ]
  },
  {
   "cell_type": "code",
   "execution_count": 32,
   "metadata": {},
   "outputs": [
    {
     "data": {
      "text/plain": [
       "(34.0, 34.0)"
      ]
     },
     "execution_count": 32,
     "metadata": {},
     "output_type": "execute_result"
    }
   ],
   "source": [
    "returned.AGE.median(), not_returned.AGE.median()"
   ]
  },
  {
   "cell_type": "markdown",
   "metadata": {},
   "source": [
    "Доверительный интервал разницы медиан через метод бутстрепа:"
   ]
  },
  {
   "cell_type": "code",
   "execution_count": 39,
   "metadata": {},
   "outputs": [],
   "source": []
  },
  {
   "cell_type": "code",
   "execution_count": 47,
   "metadata": {},
   "outputs": [],
   "source": [
    "N = 200\n",
    "returned_medians = np.array( list(map(np.median, get_bootstrap_samples(returned.AGE.values, N))) )\n",
    "not_returned_medians = np.array( list(map(np.median, get_bootstrap_samples(not_returned.AGE.values, N)) ))"
   ]
  },
  {
   "cell_type": "code",
   "execution_count": 54,
   "metadata": {},
   "outputs": [
    {
     "name": "stdout",
     "output_type": "stream",
     "text": [
      "Доверительный интервал для разности медиан: [-1.0; 0.0]\n"
     ]
    }
   ],
   "source": [
    "print('Доверительный интервал для разности медиан: [{}; {}]'.format(\n",
    "    *stat_intervals(returned_medians - not_returned_medians)\n",
    "))"
   ]
  },
  {
   "cell_type": "markdown",
   "metadata": {},
   "source": [
    "### Вывод: т. к. 0 включается в доверительный интервал, это говорит о том, что возвраст не влияет на возврат кредита. Этот результат практически значим"
   ]
  },
  {
   "cell_type": "markdown",
   "metadata": {},
   "source": [
    "## Решение 5.б"
   ]
  },
  {
   "cell_type": "markdown",
   "metadata": {},
   "source": [
    "Проверим двустороннюю с помощью критерия Манна-Уитни:\n",
    "\n",
    "H0: распределения выборок равны\n",
    "\n",
    "H1: распределения выборок различны"
   ]
  },
  {
   "cell_type": "code",
   "execution_count": 41,
   "metadata": {},
   "outputs": [
    {
     "data": {
      "text/plain": [
       "MannwhitneyuResult(statistic=76966879.5, pvalue=0.1862517717449308)"
      ]
     },
     "execution_count": 41,
     "metadata": {},
     "output_type": "execute_result"
    }
   ],
   "source": [
    "from scipy.stats import mannwhitneyu\n",
    "\n",
    "mannwhitneyu(returned.AGE.values, not_returned.AGE.values)"
   ]
  },
  {
   "cell_type": "code",
   "execution_count": 65,
   "metadata": {},
   "outputs": [
    {
     "data": {
      "text/plain": [
       "(35.417265879130284, 35.72573839662447)"
      ]
     },
     "execution_count": 65,
     "metadata": {},
     "output_type": "execute_result"
    }
   ],
   "source": [
    "returned.AGE.mean(), not_returned.AGE.mean()"
   ]
  },
  {
   "cell_type": "markdown",
   "metadata": {},
   "source": [
    "### Вывод: с alpha=0.05 можем говорить о том, что распределения статистически не различимы."
   ]
  },
  {
   "cell_type": "code",
   "execution_count": null,
   "metadata": {},
   "outputs": [],
   "source": []
  }
 ],
 "metadata": {
  "kernelspec": {
   "display_name": "Python 2",
   "language": "python",
   "name": "python2"
  },
  "language_info": {
   "codemirror_mode": {
    "name": "ipython",
    "version": 2
   },
   "file_extension": ".py",
   "mimetype": "text/x-python",
   "name": "python",
   "nbconvert_exporter": "python",
   "pygments_lexer": "ipython2",
   "version": "2.7.15"
  }
 },
 "nbformat": 4,
 "nbformat_minor": 2
}
