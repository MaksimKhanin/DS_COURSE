{
 "cells": [
  {
   "cell_type": "code",
   "execution_count": 3,
   "metadata": {},
   "outputs": [],
   "source": [
    "import numpy as np\n",
    "import pandas as pd\n",
    "import seaborn as sns\n",
    "import scipy \n",
    "from scipy import stats\n",
    "from statsmodels.stats.weightstats import zconfint\n",
    "from statsmodels.stats.proportion import proportion_confint\n",
    "from scipy.stats import chi2_contingency"
   ]
  },
  {
   "cell_type": "code",
   "execution_count": 4,
   "metadata": {},
   "outputs": [
    {
     "name": "stdout",
     "output_type": "stream",
     "text": [
      "Populating the interactive namespace from numpy and matplotlib\n"
     ]
    }
   ],
   "source": [
    "%pylab inline"
   ]
  },
  {
   "cell_type": "code",
   "execution_count": 5,
   "metadata": {},
   "outputs": [
    {
     "data": {
      "text/html": [
       "<div>\n",
       "<style scoped>\n",
       "    .dataframe tbody tr th:only-of-type {\n",
       "        vertical-align: middle;\n",
       "    }\n",
       "\n",
       "    .dataframe tbody tr th {\n",
       "        vertical-align: top;\n",
       "    }\n",
       "\n",
       "    .dataframe thead th {\n",
       "        text-align: right;\n",
       "    }\n",
       "</style>\n",
       "<table border=\"1\" class=\"dataframe\">\n",
       "  <thead>\n",
       "    <tr style=\"text-align: right;\">\n",
       "      <th></th>\n",
       "      <th>ID</th>\n",
       "      <th>LIMIT_BAL</th>\n",
       "      <th>SEX</th>\n",
       "      <th>EDUCATION</th>\n",
       "      <th>MARRIAGE</th>\n",
       "      <th>AGE</th>\n",
       "      <th>PAY_0</th>\n",
       "      <th>PAY_2</th>\n",
       "      <th>PAY_3</th>\n",
       "      <th>PAY_4</th>\n",
       "      <th>...</th>\n",
       "      <th>BILL_AMT4</th>\n",
       "      <th>BILL_AMT5</th>\n",
       "      <th>BILL_AMT6</th>\n",
       "      <th>PAY_AMT1</th>\n",
       "      <th>PAY_AMT2</th>\n",
       "      <th>PAY_AMT3</th>\n",
       "      <th>PAY_AMT4</th>\n",
       "      <th>PAY_AMT5</th>\n",
       "      <th>PAY_AMT6</th>\n",
       "      <th>default</th>\n",
       "    </tr>\n",
       "  </thead>\n",
       "  <tbody>\n",
       "    <tr>\n",
       "      <th>0</th>\n",
       "      <td>1</td>\n",
       "      <td>20000</td>\n",
       "      <td>2</td>\n",
       "      <td>2</td>\n",
       "      <td>1</td>\n",
       "      <td>24</td>\n",
       "      <td>2</td>\n",
       "      <td>2</td>\n",
       "      <td>0</td>\n",
       "      <td>0</td>\n",
       "      <td>...</td>\n",
       "      <td>0</td>\n",
       "      <td>0</td>\n",
       "      <td>0</td>\n",
       "      <td>0</td>\n",
       "      <td>689</td>\n",
       "      <td>0</td>\n",
       "      <td>0</td>\n",
       "      <td>0</td>\n",
       "      <td>0</td>\n",
       "      <td>1</td>\n",
       "    </tr>\n",
       "    <tr>\n",
       "      <th>1</th>\n",
       "      <td>2</td>\n",
       "      <td>120000</td>\n",
       "      <td>2</td>\n",
       "      <td>2</td>\n",
       "      <td>2</td>\n",
       "      <td>26</td>\n",
       "      <td>0</td>\n",
       "      <td>2</td>\n",
       "      <td>0</td>\n",
       "      <td>0</td>\n",
       "      <td>...</td>\n",
       "      <td>3272</td>\n",
       "      <td>3455</td>\n",
       "      <td>3261</td>\n",
       "      <td>0</td>\n",
       "      <td>1000</td>\n",
       "      <td>1000</td>\n",
       "      <td>1000</td>\n",
       "      <td>0</td>\n",
       "      <td>2000</td>\n",
       "      <td>1</td>\n",
       "    </tr>\n",
       "    <tr>\n",
       "      <th>2</th>\n",
       "      <td>3</td>\n",
       "      <td>90000</td>\n",
       "      <td>2</td>\n",
       "      <td>2</td>\n",
       "      <td>2</td>\n",
       "      <td>34</td>\n",
       "      <td>0</td>\n",
       "      <td>0</td>\n",
       "      <td>0</td>\n",
       "      <td>0</td>\n",
       "      <td>...</td>\n",
       "      <td>14331</td>\n",
       "      <td>14948</td>\n",
       "      <td>15549</td>\n",
       "      <td>1518</td>\n",
       "      <td>1500</td>\n",
       "      <td>1000</td>\n",
       "      <td>1000</td>\n",
       "      <td>1000</td>\n",
       "      <td>5000</td>\n",
       "      <td>0</td>\n",
       "    </tr>\n",
       "    <tr>\n",
       "      <th>3</th>\n",
       "      <td>4</td>\n",
       "      <td>50000</td>\n",
       "      <td>2</td>\n",
       "      <td>2</td>\n",
       "      <td>1</td>\n",
       "      <td>37</td>\n",
       "      <td>0</td>\n",
       "      <td>0</td>\n",
       "      <td>0</td>\n",
       "      <td>0</td>\n",
       "      <td>...</td>\n",
       "      <td>28314</td>\n",
       "      <td>28959</td>\n",
       "      <td>29547</td>\n",
       "      <td>2000</td>\n",
       "      <td>2019</td>\n",
       "      <td>1200</td>\n",
       "      <td>1100</td>\n",
       "      <td>1069</td>\n",
       "      <td>1000</td>\n",
       "      <td>0</td>\n",
       "    </tr>\n",
       "    <tr>\n",
       "      <th>4</th>\n",
       "      <td>5</td>\n",
       "      <td>50000</td>\n",
       "      <td>1</td>\n",
       "      <td>2</td>\n",
       "      <td>1</td>\n",
       "      <td>57</td>\n",
       "      <td>0</td>\n",
       "      <td>0</td>\n",
       "      <td>0</td>\n",
       "      <td>0</td>\n",
       "      <td>...</td>\n",
       "      <td>20940</td>\n",
       "      <td>19146</td>\n",
       "      <td>19131</td>\n",
       "      <td>2000</td>\n",
       "      <td>36681</td>\n",
       "      <td>10000</td>\n",
       "      <td>9000</td>\n",
       "      <td>689</td>\n",
       "      <td>679</td>\n",
       "      <td>0</td>\n",
       "    </tr>\n",
       "  </tbody>\n",
       "</table>\n",
       "<p>5 rows × 25 columns</p>\n",
       "</div>"
      ],
      "text/plain": [
       "   ID  LIMIT_BAL  SEX  EDUCATION  MARRIAGE  AGE  PAY_0  PAY_2  PAY_3  PAY_4  \\\n",
       "0   1      20000    2          2         1   24      2      2      0      0   \n",
       "1   2     120000    2          2         2   26      0      2      0      0   \n",
       "2   3      90000    2          2         2   34      0      0      0      0   \n",
       "3   4      50000    2          2         1   37      0      0      0      0   \n",
       "4   5      50000    1          2         1   57      0      0      0      0   \n",
       "\n",
       "    ...     BILL_AMT4  BILL_AMT5  BILL_AMT6  PAY_AMT1  PAY_AMT2  PAY_AMT3  \\\n",
       "0   ...             0          0          0         0       689         0   \n",
       "1   ...          3272       3455       3261         0      1000      1000   \n",
       "2   ...         14331      14948      15549      1518      1500      1000   \n",
       "3   ...         28314      28959      29547      2000      2019      1200   \n",
       "4   ...         20940      19146      19131      2000     36681     10000   \n",
       "\n",
       "   PAY_AMT4  PAY_AMT5  PAY_AMT6  default  \n",
       "0         0         0         0        1  \n",
       "1      1000         0      2000        1  \n",
       "2      1000      1000      5000        0  \n",
       "3      1100      1069      1000        0  \n",
       "4      9000       689       679        0  \n",
       "\n",
       "[5 rows x 25 columns]"
      ]
     },
     "execution_count": 5,
     "metadata": {},
     "output_type": "execute_result"
    }
   ],
   "source": [
    "df = pd.read_csv(\"credit_card_default_analysis.csv\", sep=\",\", index_col=False) \n",
    "df.head()"
   ]
  },
  {
   "cell_type": "markdown",
   "metadata": {},
   "source": [
    "## Вопрос 1. Анализ размера кредитного лимита."
   ]
  },
  {
   "cell_type": "code",
   "execution_count": 6,
   "metadata": {},
   "outputs": [
    {
     "data": {
      "image/png": "[encoded data removed]",
      "text/plain": [
       "<Figure size 864x288 with 2 Axes>"
      ]
     },
     "metadata": {
      "needs_background": "light"
     },
     "output_type": "display_data"
    }
   ],
   "source": [
    "pylab.figure(figsize=(12,4))\n",
    "\n",
    "pylab.subplot(1,2,1)\n",
    "pylab.grid()\n",
    "pylab.hist(df[ df['default'] == 0].LIMIT_BAL, color = 'r')\n",
    "pylab.xlabel(u'Кредит возвращен')\n",
    "pylab.xlim(0, 1000000)\n",
    "pylab.ylim(0, 9000)\n",
    "\n",
    "pylab.subplot(1,2,2)\n",
    "pylab.grid()\n",
    "pylab.hist(df[ df['default'] == 1].LIMIT_BAL, color = 'b')\n",
    "pylab.xlabel(u'Кредит не возвращен')\n",
    "pylab.xlim(0, 1000000)\n",
    "pylab.ylim(0, 9000)\n",
    "\n",
    "pylab.show()"
   ]
  },
  {
   "cell_type": "markdown",
   "metadata": {},
   "source": [
    "Для оценки разности медиан построим доверительный интервал на основе бутстрепа.  "
   ]
  },
  {
   "cell_type": "code",
   "execution_count": 7,
   "metadata": {},
   "outputs": [],
   "source": [
    "def get_bootstrap_samples(data, n_samples):\n",
    "    indices = np.random.randint(0, len(data), (n_samples, len(data)))\n",
    "    samples = data[indices]\n",
    "    return samples\n",
    "\n",
    "def stat_intervals(stat, alpha):\n",
    "    boundaries = np.percentile(stat, [100 * alpha / 2., 100 * (1 - alpha / 2.)])\n",
    "    return boundaries"
   ]
  },
  {
   "cell_type": "code",
   "execution_count": 9,
   "metadata": {},
   "outputs": [],
   "source": [
    "lim_bal_ok = df[ df['default'] == 0].LIMIT_BAL\n",
    "lim_bal_no = df[ df['default'] == 1].LIMIT_BAL"
   ]
  },
  {
   "cell_type": "code",
   "execution_count": 10,
   "metadata": {},
   "outputs": [
    {
     "name": "stdout",
     "output_type": "stream",
     "text": [
      "95% доверительный интервал для медианны кредитного лимита возвращенного кредита   : [150000. 150000.]\n",
      "95% доверительный интервал для медианны кредитного лимита не возвращенного кредита: [80000. 90000.]\n"
     ]
    }
   ],
   "source": [
    "np.random.seed(0)\n",
    "\n",
    "lim_bal_ok_median_scores = map(np.median, get_bootstrap_samples(lim_bal_ok.values, 1000))\n",
    "lim_bal_no_median_scores = map(np.median, get_bootstrap_samples(lim_bal_no.values, 1000))\n",
    "print u\"95% доверительный интервал для медианны кредитного лимита возвращенного кредита   :\",  stat_intervals(lim_bal_ok_median_scores, 0.05)\n",
    "print u\"95% доверительный интервал для медианны кредитного лимита не возвращенного кредита:\",  stat_intervals(lim_bal_no_median_scores, 0.05)"
   ]
  },
  {
   "cell_type": "code",
   "execution_count": 11,
   "metadata": {},
   "outputs": [
    {
     "name": "stdout",
     "output_type": "stream",
     "text": [
      "95% доверительный интервал для разности медиан: [60000. 70000.]\n"
     ]
    }
   ],
   "source": [
    "delta_median_scores = map(lambda x: x[0] - x[1], zip(lim_bal_ok_median_scores, lim_bal_no_median_scores))\n",
    "print \"95% доверительный интервал для разности медиан:\",  stat_intervals(delta_median_scores, 0.05)"
   ]
  },
  {
   "cell_type": "markdown",
   "metadata": {},
   "source": [
    "Гипотеза о равенстве медиан отвергается (в противном случае доверительный интервал охватывал 0)."
   ]
  },
  {
   "cell_type": "markdown",
   "metadata": {},
   "source": [
    "Рассматириваем задачу как двухвыборочную задачу с независимыми выборками и применяем ранговый критерий Манна-Уитни, который является в каком-то виде гипотезой о средних.\n",
    "\n",
    "Гипотеза $H_0\\colon F_{X_1}(x) = F_{X_2}(x)$  \n",
    "Гипотеза $H_1\\colon F_{X_1}(x) = F_{X_2}(x + \\Delta), \\Delta\\neq 0$\n",
    "\n",
    "$H_0\\colon$  среднее значение кредитного лимита не отличаются, против двухсторонней альтернативы $H_1\\colon$ среднее значение кредитного лимита отличается."
   ]
  },
  {
   "cell_type": "code",
   "execution_count": 49,
   "metadata": {},
   "outputs": [
    {
     "data": {
      "text/plain": [
       "MannwhitneyuResult(statistic=59257217.5, pvalue=6.127742909111652e-190)"
      ]
     },
     "execution_count": 49,
     "metadata": {},
     "output_type": "execute_result"
    }
   ],
   "source": [
    "stats.mannwhitneyu(lim_bal_ok, lim_bal_no)"
   ]
  },
  {
   "cell_type": "markdown",
   "metadata": {},
   "source": [
    "Так как вычисленный уровень значимости 6.1e-190, то на уровне значимости 0.05 нулевая гипотеза о равенстве среднего кредитного лимита для возвращенных и не возвращенных кредитов отвергается.\n",
    "\n",
    "Полученные результаты о различии медиан и различии среднего кредитного лимита для возвращенного и невозвращенного кредита с практической точки зрения не значимы так как на основе этиъ данных принимать решение о выдаче кредита не возможно."
   ]
  },
  {
   "cell_type": "markdown",
   "metadata": {},
   "source": [
    "## Вопрос 2. Анализ гендерного состава."
   ]
  },
  {
   "cell_type": "code",
   "execution_count": 50,
   "metadata": {},
   "outputs": [
    {
     "data": {
      "image/png": "[encoded data removed]",
      "text/plain": [
       "<Figure size 864x288 with 2 Axes>"
      ]
     },
     "metadata": {
      "needs_background": "light"
     },
     "output_type": "display_data"
    }
   ],
   "source": [
    "pylab.figure(figsize=(12,4))\n",
    "\n",
    "pylab.subplot(1,2,1)\n",
    "pylab.grid()\n",
    "pylab.hist(df[ df['default'] == 0].SEX, color = 'r')\n",
    "pylab.xlabel(u'Кредит возвращен')\n",
    "\n",
    "pylab.subplot(1,2,2)\n",
    "pylab.grid()\n",
    "pylab.hist(df[ df['default'] == 1].SEX, color = 'b')\n",
    "pylab.xlabel(u'Кредит не возвращен')\n",
    "\n",
    "pylab.show()"
   ]
  },
  {
   "cell_type": "markdown",
   "metadata": {},
   "source": [
    "Применяем Z-критерий для двух долей независимых выборок.\n",
    "\n",
    "Гипотеза $H_0\\colon$ гендерный состав группы людей вернувших и не вернувших кредит совпадает.  \n",
    "Гипотеза $H_1\\colon$ гендерный состав группы людей вернувших и не вернувших кредит отличаются."
   ]
  },
  {
   "cell_type": "code",
   "execution_count": 51,
   "metadata": {},
   "outputs": [],
   "source": [
    "def proportions_diff_z_stat_ind(sample1, sample2):\n",
    "    n1 = len(sample1)\n",
    "    n2 = len(sample2)\n",
    "    \n",
    "    p1 = float(sum(sample1)) / n1\n",
    "    p2 = float(sum(sample2)) / n2 \n",
    "    P = float(p1*n1 + p2*n2) / (n1 + n2)\n",
    "    \n",
    "    return (p1 - p2) / np.sqrt(P * (1 - P) * (1. / n1 + 1. / n2))\n",
    "\n",
    "def proportions_diff_z_test(z_stat):\n",
    "    return 2 * (1 - scipy.stats.norm.cdf(np.abs(z_stat)))"
   ]
  },
  {
   "cell_type": "code",
   "execution_count": 52,
   "metadata": {},
   "outputs": [],
   "source": [
    "df_sex_ok = df[df['default'] == 0].SEX-1.\n",
    "df_sex_no = df[df['default'] == 1].SEX-1."
   ]
  },
  {
   "cell_type": "code",
   "execution_count": 53,
   "metadata": {},
   "outputs": [
    {
     "name": "stdout",
     "output_type": "stream",
     "text": [
      "p-value: 4.472867e-12\n"
     ]
    }
   ],
   "source": [
    "print \"p-value: %e\" % proportions_diff_z_test(proportions_diff_z_stat_ind(df_sex_ok.values, df_sex_no.values))"
   ]
  },
  {
   "cell_type": "markdown",
   "metadata": {},
   "source": [
    "Так как вычисленный уровень значимости 4.4e-12, то на уровне значимости 0.05 нулевая гипотеза о равенстве гендерного состава групп людей вернувших и не вернувших кредит отвергается.  \n",
    "Можно утверждать что гендерный состав группы людей вернувших и не вернувших кредит отличается."
   ]
  },
  {
   "cell_type": "code",
   "execution_count": 54,
   "metadata": {},
   "outputs": [],
   "source": [
    "# Расчет 95% доверитьельношо интервала по методу Уилсона\n",
    "conf_interval_sex_ok = proportion_confint(sum(df_sex_ok),df_sex_ok.shape[0],method = 'wilson')\n",
    "conf_interval_sex_no = proportion_confint(sum(df_sex_no), df_sex_no.shape[0],method = 'wilson')"
   ]
  },
  {
   "cell_type": "code",
   "execution_count": 55,
   "metadata": {},
   "outputs": [
    {
     "name": "stdout",
     "output_type": "stream",
     "text": [
      "(0.607889734030124, 0.6203726841910749)\n",
      "(0.5551017630282817, 0.578937581965066)\n"
     ]
    }
   ],
   "source": [
    "print conf_interval_sex_ok\n",
    "print conf_interval_sex_no"
   ]
  },
  {
   "cell_type": "markdown",
   "metadata": {},
   "source": [
    "95% доверительные интервалы для долей мужчин и женщин возвращенного и не возвращенного кредита не перекрываются.  \n",
    "Можно утверждать что гендерный состав группы людей вернувших и не вернувших кредит отличается."
   ]
  },
  {
   "cell_type": "markdown",
   "metadata": {},
   "source": [
    "## Вопрос 3. Анализ влияния образования"
   ]
  },
  {
   "cell_type": "code",
   "execution_count": 56,
   "metadata": {},
   "outputs": [
    {
     "data": {
      "image/png": "[encoded data removed]",
      "text/plain": [
       "<Figure size 864x288 with 2 Axes>"
      ]
     },
     "metadata": {
      "needs_background": "light"
     },
     "output_type": "display_data"
    }
   ],
   "source": [
    "pylab.figure(figsize=(12,4))\n",
    "\n",
    "pylab.subplot(1,2,1)\n",
    "pylab.grid()\n",
    "pylab.hist(df[ df['default'] == 0].EDUCATION, color = 'r')\n",
    "pylab.xlabel(u'Кредит возвращен')\n",
    "pylab.xlim(0, 6)\n",
    "pylab.subplot(1,2,2)\n",
    "pylab.grid()\n",
    "pylab.hist(df[ df['default'] == 1].EDUCATION, color = 'b')\n",
    "pylab.xlabel(u'Кредит не возвращен')\n",
    "pylab.xlim(0, 6)\n",
    "pylab.show()"
   ]
  },
  {
   "cell_type": "markdown",
   "metadata": {},
   "source": [
    "Предложения по модификации таблицы: заменить абсолютные значения границами 95% доверительного интервала для доли, рассчитанного по методу Уилсона, что и сделано в таблице ниже.  \n",
    "Столбцы \"wilLo Ret\", \"wilHi Ret\" - верхние и нижние значения 95% доверительного интервала. "
   ]
  },
  {
   "cell_type": "code",
   "execution_count": 57,
   "metadata": {},
   "outputs": [
    {
     "data": {
      "text/html": [
       "<div>\n",
       "<style scoped>\n",
       "    .dataframe tbody tr th:only-of-type {\n",
       "        vertical-align: middle;\n",
       "    }\n",
       "\n",
       "    .dataframe tbody tr th {\n",
       "        vertical-align: top;\n",
       "    }\n",
       "\n",
       "    .dataframe thead th {\n",
       "        text-align: right;\n",
       "    }\n",
       "</style>\n",
       "<table border=\"1\" class=\"dataframe\">\n",
       "  <thead>\n",
       "    <tr style=\"text-align: right;\">\n",
       "      <th>default</th>\n",
       "      <th>0</th>\n",
       "      <th>1</th>\n",
       "      <th>wilLo Ret</th>\n",
       "      <th>wilHi Ret</th>\n",
       "      <th>mean Ret</th>\n",
       "    </tr>\n",
       "    <tr>\n",
       "      <th>EDUCATION</th>\n",
       "      <th></th>\n",
       "      <th></th>\n",
       "      <th></th>\n",
       "      <th></th>\n",
       "      <th></th>\n",
       "    </tr>\n",
       "  </thead>\n",
       "  <tbody>\n",
       "    <tr>\n",
       "      <th>0</th>\n",
       "      <td>14</td>\n",
       "      <td>0</td>\n",
       "      <td>0.7847</td>\n",
       "      <td>1.0000</td>\n",
       "      <td>1.0000</td>\n",
       "    </tr>\n",
       "    <tr>\n",
       "      <th>1</th>\n",
       "      <td>8549</td>\n",
       "      <td>2036</td>\n",
       "      <td>0.8000</td>\n",
       "      <td>0.8150</td>\n",
       "      <td>0.8077</td>\n",
       "    </tr>\n",
       "    <tr>\n",
       "      <th>2</th>\n",
       "      <td>10700</td>\n",
       "      <td>3330</td>\n",
       "      <td>0.7555</td>\n",
       "      <td>0.7696</td>\n",
       "      <td>0.7627</td>\n",
       "    </tr>\n",
       "    <tr>\n",
       "      <th>3</th>\n",
       "      <td>3680</td>\n",
       "      <td>1237</td>\n",
       "      <td>0.7361</td>\n",
       "      <td>0.7604</td>\n",
       "      <td>0.7484</td>\n",
       "    </tr>\n",
       "    <tr>\n",
       "      <th>4</th>\n",
       "      <td>116</td>\n",
       "      <td>7</td>\n",
       "      <td>0.8872</td>\n",
       "      <td>0.9722</td>\n",
       "      <td>0.9431</td>\n",
       "    </tr>\n",
       "    <tr>\n",
       "      <th>5</th>\n",
       "      <td>262</td>\n",
       "      <td>18</td>\n",
       "      <td>0.9007</td>\n",
       "      <td>0.9590</td>\n",
       "      <td>0.9357</td>\n",
       "    </tr>\n",
       "    <tr>\n",
       "      <th>6</th>\n",
       "      <td>43</td>\n",
       "      <td>8</td>\n",
       "      <td>0.7199</td>\n",
       "      <td>0.9183</td>\n",
       "      <td>0.8431</td>\n",
       "    </tr>\n",
       "  </tbody>\n",
       "</table>\n",
       "</div>"
      ],
      "text/plain": [
       "default        0     1  wilLo Ret  wilHi Ret  mean Ret\n",
       "EDUCATION                                             \n",
       "0             14     0     0.7847     1.0000    1.0000\n",
       "1           8549  2036     0.8000     0.8150    0.8077\n",
       "2          10700  3330     0.7555     0.7696    0.7627\n",
       "3           3680  1237     0.7361     0.7604    0.7484\n",
       "4            116     7     0.8872     0.9722    0.9431\n",
       "5            262    18     0.9007     0.9590    0.9357\n",
       "6             43     8     0.7199     0.9183    0.8431"
      ]
     },
     "execution_count": 57,
     "metadata": {},
     "output_type": "execute_result"
    }
   ],
   "source": [
    "df31 = pd.crosstab(df.EDUCATION, df.default)\n",
    "df31['wilLo Ret'] = df31.apply(lambda x: round( proportion_confint(x[0], x[0] + x[1] ,method = 'wilson')[0], 4), axis=1)\n",
    "df31['wilHi Ret'] = df31.apply(lambda x: round( proportion_confint(x[0], x[0] + x[1] ,method = 'wilson')[1], 4), axis=1)\n",
    "df31['mean Ret'] = df31.apply(lambda x: round( x[0] /( x[0] + x[1] ), 4), axis=1)\n",
    "df31"
   ]
  },
  {
   "cell_type": "markdown",
   "metadata": {},
   "source": [
    "Пессиместическая оценка:  \n",
    "Наилучшим индикатором того, что заемщик вернет долг (по нижней границе 95% доверительного интервала для доли) является образование - 5 (прочее)  \n",
    "Наилучшим индикатором того, что заемщик не вернет кредит (по нижней границе 95% доверительного интервала для доли) является образование 6 (нет данных)\n",
    "\n",
    "\n",
    "Оптимистическая оценка:  \n",
    "Наилучшим индикатором того, что заемщик вернет долг (по верхней границе 95% доверительного интервала для доли) является образование - 0 (доктор)  \n",
    "Наилучшим индикатором того, что заемщик не вернет кредит (по верхней границе 95% доверительного интервала для доли) является образование 3 (выпускник школы)\n"
   ]
  },
  {
   "cell_type": "markdown",
   "metadata": {},
   "source": [
    "Чтобы оценивать взаимосвязь образования и вероятности дефолта клиента, будем оценивать отличие коэффициента V-Крамера от нуля с помощью соответствующего Хи-квадрат критерия на уровне значимости 5%. Нулевая гипотеза - равенство нулю коэффициента проверятся против двусторонней альтернативы. Число элементов в выборке больше 20, всего в одной из 14 клеток стоит число меньше 5, поэтому критерий применять можно."
   ]
  },
  {
   "cell_type": "code",
   "execution_count": 13,
   "metadata": {},
   "outputs": [
    {
     "name": "stdout",
     "output_type": "stream",
     "text": [
      "P-value is equal to 1.233263e-32\n"
     ]
    }
   ],
   "source": [
    "confusion_matrix = pd.crosstab(df.EDUCATION, df.default)\n",
    "chi2_ret = chi2_contingency(confusion_matrix.values)\n",
    "print 'P-value is equal to %e' % chi2_ret[1]\n",
    "expected_freg = chi2_ret[3]"
   ]
  },
  {
   "cell_type": "markdown",
   "metadata": {},
   "source": [
    "Гипотеза о независимости влияния образования на возврат долга отвергается. Наблюдаемые вероятности отличаются существенно, практическая значимость влияния образования на вероятность не высока.\n",
    "\n",
    "Таблица разницы в ожидаемых и наблюдаемых значениях количества человек вернувших и не вернувших долг."
   ]
  },
  {
   "cell_type": "code",
   "execution_count": 59,
   "metadata": {},
   "outputs": [
    {
     "data": {
      "text/html": [
       "<div>\n",
       "<style scoped>\n",
       "    .dataframe tbody tr th:only-of-type {\n",
       "        vertical-align: middle;\n",
       "    }\n",
       "\n",
       "    .dataframe tbody tr th {\n",
       "        vertical-align: top;\n",
       "    }\n",
       "\n",
       "    .dataframe thead th {\n",
       "        text-align: right;\n",
       "    }\n",
       "</style>\n",
       "<table border=\"1\" class=\"dataframe\">\n",
       "  <thead>\n",
       "    <tr style=\"text-align: right;\">\n",
       "      <th>default</th>\n",
       "      <th>0</th>\n",
       "      <th>1</th>\n",
       "    </tr>\n",
       "    <tr>\n",
       "      <th>EDUCATION</th>\n",
       "      <th></th>\n",
       "      <th></th>\n",
       "    </tr>\n",
       "  </thead>\n",
       "  <tbody>\n",
       "    <tr>\n",
       "      <th>0</th>\n",
       "      <td>3.0968</td>\n",
       "      <td>-3.0968</td>\n",
       "    </tr>\n",
       "    <tr>\n",
       "      <th>1</th>\n",
       "      <td>305.4020</td>\n",
       "      <td>-305.4020</td>\n",
       "    </tr>\n",
       "    <tr>\n",
       "      <th>2</th>\n",
       "      <td>-226.5640</td>\n",
       "      <td>226.5640</td>\n",
       "    </tr>\n",
       "    <tr>\n",
       "      <th>3</th>\n",
       "      <td>-149.3596</td>\n",
       "      <td>149.3596</td>\n",
       "    </tr>\n",
       "    <tr>\n",
       "      <th>4</th>\n",
       "      <td>20.2076</td>\n",
       "      <td>-20.2076</td>\n",
       "    </tr>\n",
       "    <tr>\n",
       "      <th>5</th>\n",
       "      <td>43.9360</td>\n",
       "      <td>-43.9360</td>\n",
       "    </tr>\n",
       "    <tr>\n",
       "      <th>6</th>\n",
       "      <td>3.2812</td>\n",
       "      <td>-3.2812</td>\n",
       "    </tr>\n",
       "  </tbody>\n",
       "</table>\n",
       "</div>"
      ],
      "text/plain": [
       "default           0         1\n",
       "EDUCATION                    \n",
       "0            3.0968   -3.0968\n",
       "1          305.4020 -305.4020\n",
       "2         -226.5640  226.5640\n",
       "3         -149.3596  149.3596\n",
       "4           20.2076  -20.2076\n",
       "5           43.9360  -43.9360\n",
       "6            3.2812   -3.2812"
      ]
     },
     "execution_count": 59,
     "metadata": {},
     "output_type": "execute_result"
    }
   ],
   "source": [
    "confusion_matrix-expected_freg"
   ]
  },
  {
   "cell_type": "markdown",
   "metadata": {},
   "source": [
    "## Вопрос 4. Анализ cемейное положение"
   ]
  },
  {
   "cell_type": "code",
   "execution_count": 15,
   "metadata": {},
   "outputs": [
    {
     "data": {
      "image/png": "[encoded data removed]",
      "text/plain": [
       "<Figure size 864x288 with 2 Axes>"
      ]
     },
     "metadata": {
      "needs_background": "light"
     },
     "output_type": "display_data"
    }
   ],
   "source": [
    "pylab.figure(figsize=(12,4))\n",
    "\n",
    "pylab.subplot(1,2,1)\n",
    "pylab.grid()\n",
    "pylab.hist(df[ df['default'] == 0].MARRIAGE, color = 'r')\n",
    "pylab.xlabel(u'Кредит возвращен')\n",
    "\n",
    "pylab.subplot(1,2,2)\n",
    "pylab.grid()\n",
    "pylab.hist(df[ df['default'] == 1].MARRIAGE, color = 'b')\n",
    "pylab.xlabel(u'Кредит не возвращен')\n",
    "\n",
    "pylab.show()"
   ]
  },
  {
   "cell_type": "code",
   "execution_count": 21,
   "metadata": {},
   "outputs": [
    {
     "data": {
      "text/html": [
       "<div>\n",
       "<style scoped>\n",
       "    .dataframe tbody tr th:only-of-type {\n",
       "        vertical-align: middle;\n",
       "    }\n",
       "\n",
       "    .dataframe tbody tr th {\n",
       "        vertical-align: top;\n",
       "    }\n",
       "\n",
       "    .dataframe thead th {\n",
       "        text-align: right;\n",
       "    }\n",
       "</style>\n",
       "<table border=\"1\" class=\"dataframe\">\n",
       "  <thead>\n",
       "    <tr style=\"text-align: right;\">\n",
       "      <th>default</th>\n",
       "      <th>0</th>\n",
       "      <th>1</th>\n",
       "    </tr>\n",
       "    <tr>\n",
       "      <th>MARRIAGE</th>\n",
       "      <th></th>\n",
       "      <th></th>\n",
       "    </tr>\n",
       "  </thead>\n",
       "  <tbody>\n",
       "    <tr>\n",
       "      <th>0</th>\n",
       "      <td>49</td>\n",
       "      <td>5</td>\n",
       "    </tr>\n",
       "    <tr>\n",
       "      <th>1</th>\n",
       "      <td>10453</td>\n",
       "      <td>3206</td>\n",
       "    </tr>\n",
       "    <tr>\n",
       "      <th>2</th>\n",
       "      <td>12623</td>\n",
       "      <td>3341</td>\n",
       "    </tr>\n",
       "    <tr>\n",
       "      <th>3</th>\n",
       "      <td>239</td>\n",
       "      <td>84</td>\n",
       "    </tr>\n",
       "  </tbody>\n",
       "</table>\n",
       "</div>"
      ],
      "text/plain": [
       "default       0     1\n",
       "MARRIAGE             \n",
       "0            49     5\n",
       "1         10453  3206\n",
       "2         12623  3341\n",
       "3           239    84"
      ]
     },
     "execution_count": 21,
     "metadata": {},
     "output_type": "execute_result"
    }
   ],
   "source": [
    "confusion_matrix4 = pd.crosstab(df.MARRIAGE, df.default)\n",
    "confusion_matrix4"
   ]
  },
  {
   "cell_type": "markdown",
   "metadata": {},
   "source": [
    "Ни в одной клетке значение не получилось меньше 5. Общий размер выборки больше 20. Можем применять Хи-квадрат критерий."
   ]
  },
  {
   "cell_type": "code",
   "execution_count": 22,
   "metadata": {},
   "outputs": [],
   "source": [
    "def cramers_corrected_stat(confusion_matrix):\n",
    "    \"\"\" calculate Cramers V statistic for categorial-categorial association.\n",
    "        uses correction from Bergsma and Wicher, \n",
    "        Journal of the Korean Statistical Society 42 (2013): 323-328\n",
    "    \"\"\"\n",
    "    chi2 = chi2_contingency(confusion_matrix)[0]\n",
    "    n = confusion_matrix.sum()\n",
    "    phi2 = chi2/n\n",
    "    r,k = confusion_matrix.shape\n",
    "    phi2corr = max(0, phi2 - ((k-1)*(r-1))/(n-1))    \n",
    "    rcorr = r - ((r-1)**2)/(n-1)\n",
    "    kcorr = k - ((k-1)**2)/(n-1)\n",
    "    return np.sqrt(phi2corr / min( (kcorr-1), (rcorr-1)))"
   ]
  },
  {
   "cell_type": "markdown",
   "metadata": {},
   "source": [
    "Для оценки взаимосвязи используем коэффициент V-Крамера.  \n",
    "Основная гипотеза: Замужство и дефолт незаивимы  \n",
    "Альтернативная гипотеза: Замужство связано с дефолтом.  \n",
    "Основная гипотеза применяется при уровне знаимости более 0.05"
   ]
  },
  {
   "cell_type": "code",
   "execution_count": 63,
   "metadata": {},
   "outputs": [
    {
     "data": {
      "text/plain": [
       "0.034478203662766466"
      ]
     },
     "execution_count": 63,
     "metadata": {},
     "output_type": "execute_result"
    }
   ],
   "source": [
    "cramers_corrected_stat(confusion_matrix4.values)"
   ]
  },
  {
   "cell_type": "code",
   "execution_count": 25,
   "metadata": {},
   "outputs": [
    {
     "name": "stdout",
     "output_type": "stream",
     "text": [
      "Уровень значимости p: 8.825862e-08\n"
     ]
    }
   ],
   "source": [
    "print u'Уровень значимости p: %e' % chi2_contingency(confusion_matrix4.values)[1]"
   ]
  },
  {
   "cell_type": "markdown",
   "metadata": {},
   "source": [
    "В качестве меру, по которой можно измерить возможную связь этих переменных предложен коэффициент корреляции V Крамера, так как даннные относятся к категориальным признакам.  \n",
    "Значение коэффициент корреляции V Крамера: 0.034. \n",
    "Достигнутый уровень значимости 8.825862e-08 - Основная гипотеза отклоняется.   \n",
    "Замужство связано с дефолтом.  \n",
    "Практической значимости взаимосвязи семейного положения и возврата кредита нет."
   ]
  },
  {
   "cell_type": "markdown",
   "metadata": {},
   "source": [
    "## Вопрос 5. Анализ возраста"
   ]
  },
  {
   "cell_type": "code",
   "execution_count": 17,
   "metadata": {},
   "outputs": [
    {
     "data": {
      "image/png": "[encoded data removed]",
      "text/plain": [
       "<Figure size 864x288 with 2 Axes>"
      ]
     },
     "metadata": {
      "needs_background": "light"
     },
     "output_type": "display_data"
    }
   ],
   "source": [
    "pylab.figure(figsize=(12,4))\n",
    "\n",
    "pylab.subplot(1,2,1)\n",
    "pylab.grid()\n",
    "pylab.hist(df[ df['default'] == 0].AGE, color = 'r')\n",
    "pylab.xlabel(u'Кредит возвращен')\n",
    "\n",
    "pylab.subplot(1,2,2)\n",
    "pylab.grid()\n",
    "pylab.hist(df[ df['default'] == 1].AGE, color = 'b')\n",
    "pylab.xlabel(u'Кредит не возвращен')\n",
    "\n",
    "pylab.show()"
   ]
  },
  {
   "cell_type": "code",
   "execution_count": 18,
   "metadata": {},
   "outputs": [],
   "source": [
    "age_ok = df[ df['default'] == 0].AGE\n",
    "age_no = df[ df['default'] == 1].AGE"
   ]
  },
  {
   "cell_type": "markdown",
   "metadata": {},
   "source": [
    "Для оценки разности медиан построим доверительный интервал на основе бутстрепа. Будем на уровне значимости 5% проверять нулевую гипотезу о равенстве медиан против двусторонней альтернативы."
   ]
  },
  {
   "cell_type": "code",
   "execution_count": 19,
   "metadata": {},
   "outputs": [
    {
     "name": "stdout",
     "output_type": "stream",
     "text": [
      "95% доверительный интервал для медианны возраста возвращенного кредита   : [34. 34.]\n",
      "95% доверительный интервал для медианны возраста не возвращенного кредита: [34. 35.]\n"
     ]
    }
   ],
   "source": [
    "age_ok_median_scores = map(np.median, get_bootstrap_samples(age_ok.values, 1000))\n",
    "age_no_median_scores = map(np.median, get_bootstrap_samples(age_no.values, 1000))\n",
    "print u\"95% доверительный интервал для медианны возраста возвращенного кредита   :\",  stat_intervals(age_ok_median_scores, 0.05)\n",
    "print u\"95% доверительный интервал для медианны возраста не возвращенного кредита:\",  stat_intervals(age_no_median_scores, 0.05)"
   ]
  },
  {
   "cell_type": "code",
   "execution_count": 20,
   "metadata": {},
   "outputs": [
    {
     "name": "stdout",
     "output_type": "stream",
     "text": [
      "95% доверительный интервал для разности медиан: [-1.  0.]\n"
     ]
    }
   ],
   "source": [
    "delta_median_scores = map(lambda x: x[0] - x[1], zip(age_ok_median_scores, age_no_median_scores))\n",
    "print \"95% доверительный интервал для разности медиан:\",  stat_intervals(delta_median_scores, 0.05)"
   ]
  },
  {
   "cell_type": "markdown",
   "metadata": {},
   "source": [
    "Можно говорить о равенстве медианных значений возрастов людей вернувших и не вернувших кредит."
   ]
  },
  {
   "cell_type": "markdown",
   "metadata": {},
   "source": [
    "Рассматириваем задачу как двухвыборочную задачу с независимыми выборками и применяем ранговый критерий Манна-Уитни, который является в каком-то виде гипотезой о средних.\n",
    "\n",
    "Гипотеза $H_0\\colon F_{X_1}(x) = F_{X_2}(x)$  \n",
    "Гипотеза $H_1\\colon F_{X_1}(x) = F_{X_2}(x + \\Delta), \\Delta\\neq 0$\n",
    "\n",
    "$H_0\\colon$ среднее значение кредитного лимита не отличаются, против двухсторонней альтернативы $H_1\\colon$ среднее значение кредитного лимита отличается."
   ]
  },
  {
   "cell_type": "code",
   "execution_count": 67,
   "metadata": {},
   "outputs": [
    {
     "data": {
      "text/plain": [
       "MannwhitneyuResult(statistic=76966879.5, pvalue=0.1862517717449308)"
      ]
     },
     "execution_count": 67,
     "metadata": {},
     "output_type": "execute_result"
    }
   ],
   "source": [
    "stats.mannwhitneyu(age_ok, age_no)"
   ]
  },
  {
   "cell_type": "markdown",
   "metadata": {},
   "source": [
    "Так как вычисленный уровень значимости 0.19, то на уровне значимости 0.05 нулевая гипотеза о равенстве среднего возраста не отвергается. \n",
    "\n",
    "\n",
    "Полученные результаты о сходстве медиан и различии среднего возраста для людей, возвративших и не возвративших кредит с практической точки зрения не значимы."
   ]
  }
 ],
 "metadata": {
  "kernelspec": {
   "display_name": "Python 2",
   "language": "python",
   "name": "python2"
  },
  "language_info": {
   "codemirror_mode": {
    "name": "ipython",
    "version": 2
   },
   "file_extension": ".py",
   "mimetype": "text/x-python",
   "name": "python",
   "nbconvert_exporter": "python",
   "pygments_lexer": "ipython2",
   "version": "2.7.15"
  }
 },
 "nbformat": 4,
 "nbformat_minor": 2
}
