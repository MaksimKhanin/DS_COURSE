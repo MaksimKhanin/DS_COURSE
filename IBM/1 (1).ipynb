{
 "cells": [
  {
   "cell_type": "code",
   "execution_count": 26,
   "metadata": {},
   "outputs": [],
   "source": [
    "import pandas as pd"
   ]
  },
  {
   "cell_type": "code",
   "execution_count": 27,
   "metadata": {},
   "outputs": [],
   "source": [
    "df=pd.read_csv('https://cocl.us/datascience_survey_data', sep=',', index_col=0)"
   ]
  },
  {
   "cell_type": "code",
   "execution_count": 28,
   "metadata": {},
   "outputs": [
    {
     "data": {
      "text/html": [
       "<div>\n",
       "<style scoped>\n",
       "    .dataframe tbody tr th:only-of-type {\n",
       "        vertical-align: middle;\n",
       "    }\n",
       "\n",
       "    .dataframe tbody tr th {\n",
       "        vertical-align: top;\n",
       "    }\n",
       "\n",
       "    .dataframe thead th {\n",
       "        text-align: right;\n",
       "    }\n",
       "</style>\n",
       "<table border=\"1\" class=\"dataframe\">\n",
       "  <thead>\n",
       "    <tr style=\"text-align: right;\">\n",
       "      <th></th>\n",
       "      <th>Very interested</th>\n",
       "      <th>Somewhat interested</th>\n",
       "      <th>Not interested</th>\n",
       "    </tr>\n",
       "  </thead>\n",
       "  <tbody>\n",
       "    <tr>\n",
       "      <th>Big Data (Spark / Hadoop)</th>\n",
       "      <td>1332</td>\n",
       "      <td>729</td>\n",
       "      <td>127</td>\n",
       "    </tr>\n",
       "    <tr>\n",
       "      <th>Data Analysis / Statistics</th>\n",
       "      <td>1688</td>\n",
       "      <td>444</td>\n",
       "      <td>60</td>\n",
       "    </tr>\n",
       "    <tr>\n",
       "      <th>Data Journalism</th>\n",
       "      <td>429</td>\n",
       "      <td>1081</td>\n",
       "      <td>610</td>\n",
       "    </tr>\n",
       "    <tr>\n",
       "      <th>Data Visualization</th>\n",
       "      <td>1340</td>\n",
       "      <td>734</td>\n",
       "      <td>102</td>\n",
       "    </tr>\n",
       "    <tr>\n",
       "      <th>Deep Learning</th>\n",
       "      <td>1263</td>\n",
       "      <td>770</td>\n",
       "      <td>136</td>\n",
       "    </tr>\n",
       "    <tr>\n",
       "      <th>Machine Learning</th>\n",
       "      <td>1629</td>\n",
       "      <td>477</td>\n",
       "      <td>74</td>\n",
       "    </tr>\n",
       "  </tbody>\n",
       "</table>\n",
       "</div>"
      ],
      "text/plain": [
       "                            Very interested  Somewhat interested  \\\n",
       "Big Data (Spark / Hadoop)              1332                  729   \n",
       "Data Analysis / Statistics             1688                  444   \n",
       "Data Journalism                         429                 1081   \n",
       "Data Visualization                     1340                  734   \n",
       "Deep Learning                          1263                  770   \n",
       "Machine Learning                       1629                  477   \n",
       "\n",
       "                            Not interested  \n",
       "Big Data (Spark / Hadoop)              127  \n",
       "Data Analysis / Statistics              60  \n",
       "Data Journalism                        610  \n",
       "Data Visualization                     102  \n",
       "Deep Learning                          136  \n",
       "Machine Learning                        74  "
      ]
     },
     "execution_count": 28,
     "metadata": {},
     "output_type": "execute_result"
    }
   ],
   "source": [
    "df"
   ]
  },
  {
   "cell_type": "code",
   "execution_count": 32,
   "metadata": {},
   "outputs": [],
   "source": [
    "df.sort_values(['Very interested'], ascending=False, inplace=True)\n",
    "df=df.divide(2233).round(2)"
   ]
  },
  {
   "cell_type": "code",
   "execution_count": 34,
   "metadata": {},
   "outputs": [],
   "source": [
    " from matplotlib import pyplot as plt"
   ]
  },
  {
   "cell_type": "code",
   "execution_count": 90,
   "metadata": {},
   "outputs": [
    {
     "name": "stdout",
     "output_type": "stream",
     "text": [
      "Very interested 0.76 0.76\n",
      "Very interested 0.73 0.73\n",
      "Very interested 0.6 0.6\n",
      "Very interested 0.6 0.6\n",
      "Very interested 0.57 0.57\n",
      "Very interested 0.19 0.19\n",
      "Somewhat interested 0.2 0.2\n",
      "Somewhat interested 0.21 0.21\n",
      "Somewhat interested 0.33 0.33\n",
      "Somewhat interested 0.33 0.33\n",
      "Somewhat interested 0.34 0.34\n",
      "Somewhat interested 0.48 0.48\n",
      "Not interested 0.03 0.03\n",
      "Not interested 0.03 0.03\n",
      "Not interested 0.05 0.05\n",
      "Not interested 0.06 0.06\n",
      "Not interested 0.06 0.06\n",
      "Not interested 0.27 0.27\n"
     ]
    }
   ],
   "source": [
    "for column in df:\n",
    "    for value in df[column]:\n",
    "        label = format(float(value), ',')\n",
    "        print(column, value, label)"
   ]
  },
  {
   "cell_type": "code",
   "execution_count": 109,
   "metadata": {},
   "outputs": [
    {
     "name": "stdout",
     "output_type": "stream",
     "text": [
      "0 Data Analysis / Statistics\n",
      "1 Machine Learning\n",
      "2 Data Visualization\n",
      "3 Big Data (Spark / Hadoop)\n",
      "4 Deep Learning\n",
      "5 Data Journalism\n"
     ]
    }
   ],
   "source": [
    "for i, i2 in enumerate (df.transpose()):\n",
    "        print(i, i2)"
   ]
  },
  {
   "cell_type": "code",
   "execution_count": 120,
   "metadata": {},
   "outputs": [
    {
     "ename": "SyntaxError",
     "evalue": "invalid syntax (<ipython-input-120-bf3840f52075>, line 1)",
     "output_type": "error",
     "traceback": [
      "\u001b[0;36m  File \u001b[0;32m\"<ipython-input-120-bf3840f52075>\"\u001b[0;36m, line \u001b[0;32m1\u001b[0m\n\u001b[0;31m    for column in df[[:]1]:\u001b[0m\n\u001b[0m                      ^\u001b[0m\n\u001b[0;31mSyntaxError\u001b[0m\u001b[0;31m:\u001b[0m invalid syntax\n"
     ]
    }
   ],
   "source": [
    "for column in df:\n",
    "    for value in df[column]:\n",
    "        print(value)"
   ]
  },
  {
   "cell_type": "code",
   "execution_count": 130,
   "metadata": {},
   "outputs": [
    {
     "data": {
      "text/plain": [
       "0.76"
      ]
     },
     "execution_count": 130,
     "metadata": {},
     "output_type": "execute_result"
    }
   ],
   "source": [
    "df.iloc[0,0]"
   ]
  },
  {
   "cell_type": "code",
   "execution_count": 144,
   "metadata": {},
   "outputs": [
    {
     "data": {
      "text/plain": [
       "range(0, 3)"
      ]
     },
     "execution_count": 144,
     "metadata": {},
     "output_type": "execute_result"
    }
   ],
   "source": [
    "rows=0\n",
    "range(len(df.iloc[rows]))"
   ]
  },
  {
   "cell_type": "code",
   "execution_count": 165,
   "metadata": {},
   "outputs": [
    {
     "name": "stdout",
     "output_type": "stream",
     "text": [
      "0.76\n",
      "0.2\n",
      "0.03\n",
      "0.73\n",
      "0.21\n",
      "0.03\n",
      "0.6\n",
      "0.33\n",
      "0.05\n",
      "0.6\n",
      "0.33\n",
      "0.06\n",
      "0.57\n",
      "0.34\n",
      "0.06\n",
      "0.19\n",
      "0.48\n",
      "0.27\n"
     ]
    }
   ],
   "source": [
    "for row in df.values:\n",
    "    for value in row:\n",
    "        print (value)\n"
   ]
  },
  {
   "cell_type": "code",
   "execution_count": 189,
   "metadata": {},
   "outputs": [
    {
     "name": "stdout",
     "output_type": "stream",
     "text": [
      "0.76 0\n",
      "0.2 1\n",
      "0.03 2\n",
      "0.73 3\n",
      "0.21 4\n",
      "0.03 5\n",
      "0.6 6\n",
      "0.33 7\n",
      "0.05 8\n",
      "0.6 9\n",
      "0.33 10\n",
      "0.06 11\n",
      "0.57 12\n",
      "0.34 13\n",
      "0.06 14\n",
      "0.19 15\n",
      "0.48 16\n",
      "0.27 17\n"
     ]
    },
    {
     "data": {
      "image/png": "[encoded data removed]",
      "text/plain": [
       "<Figure size 1440x576 with 1 Axes>"
      ]
     },
     "metadata": {},
     "output_type": "display_data"
    }
   ],
   "source": [
    "c = ['#5cb85c','#5bc0de', '#d9534f']\n",
    "\n",
    "df.plot(kind='bar', figsize=(20, 8), width =0.8, color = c)\n",
    "plt.title(\"Percentage of Respondents' interest in Data Sience Areas\")\n",
    "\n",
    "i=0\n",
    "for row in df.values:\n",
    "    \n",
    "    for value in row:\n",
    "        \n",
    "        label=value\n",
    "        plt.annotate(label, xy=(i*0.333333333333333333333333333, label), color='black')\n",
    "        print(label, i)\n",
    "        i+=1\n",
    "#for column in df:\n",
    "#    for value in df[column]:\n",
    "#        label = format(float(value)*100, ',')\n",
    "#        plt.annotate(label, xy=(value, column), color='white')\n",
    "#for index, value in enumerate(df): \n",
    "#     # format int with commas\n",
    "    \n",
    "    # place text at the end of bar (subtracting 47000 from x, and 0.1 from y to make it fit within the bar)\n",
    "#    plt.annotate(label, xy=(value, index - 0.10), color='white')\n",
    "plt.show()   "
   ]
  }
 ],
 "metadata": {
  "kernelspec": {
   "display_name": "Python 3",
   "language": "python",
   "name": "python3"
  },
  "language_info": {
   "codemirror_mode": {
    "name": "ipython",
    "version": 3
   },
   "file_extension": ".py",
   "mimetype": "text/x-python",
   "name": "python",
   "nbconvert_exporter": "python",
   "pygments_lexer": "ipython3",
   "version": "3.6.7"
  }
 },
 "nbformat": 4,
 "nbformat_minor": 4
}
