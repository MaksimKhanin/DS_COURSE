{
 "cells": [
  {
   "cell_type": "code",
   "execution_count": 94,
   "metadata": {
    "collapsed": true
   },
   "outputs": [],
   "source": [
    "from sklearn.model_selection import train_test_split, cross_val_score, cross_val_predict, GridSearchCV\n",
    "from sklearn.linear_model import LinearRegression, Ridge\n",
    "from sklearn.preprocessing import PolynomialFeatures, StandardScaler\n",
    "from sklearn import metrics\n",
    "from sklearn.tree import DecisionTreeClassifier\n",
    "from sklearn.externals.six import StringIO\n",
    "import matplotlib.image as mpimg\n",
    "from sklearn import tree\n",
    "import pandas as pd\n",
    "import numpy as np\n",
    "\n",
    "import matplotlib.pyplot as plt\n",
    "import seaborn as sns\n",
    "%matplotlib inline "
   ]
  },
  {
   "cell_type": "code",
   "execution_count": 95,
   "metadata": {
    "collapsed": true
   },
   "outputs": [],
   "source": [
    "USD=1\n",
    "EUR=1.13566\n",
    "GLD=1.22477\n",
    "RUR=65.6664"
   ]
  },
  {
   "cell_type": "code",
   "execution_count": 96,
   "metadata": {
    "collapsed": false
   },
   "outputs": [
    {
     "name": "stdout",
     "output_type": "stream",
     "text": [
      "Done\n"
     ]
    }
   ],
   "source": [
    "path1=\"H:\\LtsDoModel!\\RawData.csv\"\n",
    "\n",
    "df1 = pd.read_csv(path1, sep=\";\")\n",
    "print(\"Done\")"
   ]
  },
  {
   "cell_type": "code",
   "execution_count": 97,
   "metadata": {
    "collapsed": false,
    "scrolled": true
   },
   "outputs": [
    {
     "name": "stdout",
     "output_type": "stream",
     "text": [
      "Done\n"
     ]
    }
   ],
   "source": [
    "path2=\"H:\\LtsDoModel!\\ClientsInfo.csv\"\n",
    "\n",
    "df2 = pd.read_csv(path2, sep=\";\")\n",
    "print(\"Done\")"
   ]
  },
  {
   "cell_type": "code",
   "execution_count": 98,
   "metadata": {
    "collapsed": true,
    "scrolled": false
   },
   "outputs": [],
   "source": [
    "df=df1.merge(df2, how='inner', on='Login')"
   ]
  },
  {
   "cell_type": "code",
   "execution_count": 99,
   "metadata": {
    "collapsed": true
   },
   "outputs": [],
   "source": [
    "df[['Login', 'Leverage', 'MarketExecution', 'client_id', 'agent_id']] = df[['Login', 'Leverage', 'MarketExecution', 'client_id', 'agent_id']].astype('object')"
   ]
  },
  {
   "cell_type": "code",
   "execution_count": 100,
   "metadata": {
    "collapsed": true
   },
   "outputs": [],
   "source": [
    "df[\"Profit Pips\"].replace(np.nan, 0, inplace = True)\n",
    "df[\"Loss Pips\"].replace(np.nan, 0, inplace = True)\n",
    "df[\"agent_id\"].replace(np.nan, 0, inplace = True)"
   ]
  },
  {
   "cell_type": "code",
   "execution_count": 101,
   "metadata": {
    "collapsed": true
   },
   "outputs": [],
   "source": [
    "df[\"agent_id\"]=df[\"agent_id\"].astype(bool)\n",
    "df[\"agent_id\"]=df[\"agent_id\"].astype(int)"
   ]
  },
  {
   "cell_type": "code",
   "execution_count": 102,
   "metadata": {
    "collapsed": true
   },
   "outputs": [],
   "source": [
    "df.loc[df['Currency']=='RUR', ['Fin.Result Fx Majors','Fin.Result Fx Minors','Fin.Result Fx Exotics',\n",
    "'Fin.Result Fx Special','Fin.Result Spot Metals', 'Fin.Result Fx Rub', 'Fin.Result Crypto',\n",
    "'Fin.Result CFD', 'Fin.Result', 'FastDeals Fin.Result','MaxBalance', 'MinFloating', 'Equity','Future Clearing']] /= RUR"
   ]
  },
  {
   "cell_type": "code",
   "execution_count": 103,
   "metadata": {
    "collapsed": true
   },
   "outputs": [],
   "source": [
    "df.loc[df['Currency']=='EUR', ['Fin.Result Fx Majors','Fin.Result Fx Minors','Fin.Result Fx Exotics',\n",
    "'Fin.Result Fx Special','Fin.Result Spot Metals', 'Fin.Result Fx Rub', 'Fin.Result Crypto',\n",
    "'Fin.Result CFD', 'Fin.Result', 'FastDeals Fin.Result','MaxBalance', 'MinFloating', 'Equity','Future Clearing']] *= EUR"
   ]
  },
  {
   "cell_type": "code",
   "execution_count": 104,
   "metadata": {
    "collapsed": true
   },
   "outputs": [],
   "source": [
    "df.loc[df['Currency']=='GLD', ['Fin.Result Fx Majors','Fin.Result Fx Minors','Fin.Result Fx Exotics',\n",
    "'Fin.Result Fx Special','Fin.Result Spot Metals', 'Fin.Result Fx Rub', 'Fin.Result Crypto',\n",
    "'Fin.Result CFD', 'Fin.Result', 'FastDeals Fin.Result','MaxBalance', 'MinFloating', 'Equity','Future Clearing']] *= GLD"
   ]
  },
  {
   "cell_type": "code",
   "execution_count": 105,
   "metadata": {
    "collapsed": false
   },
   "outputs": [
    {
     "data": {
      "text/html": [
       "<div>\n",
       "<style scoped>\n",
       "    .dataframe tbody tr th:only-of-type {\n",
       "        vertical-align: middle;\n",
       "    }\n",
       "\n",
       "    .dataframe tbody tr th {\n",
       "        vertical-align: top;\n",
       "    }\n",
       "\n",
       "    .dataframe thead th {\n",
       "        text-align: right;\n",
       "    }\n",
       "</style>\n",
       "<table border=\"1\" class=\"dataframe\">\n",
       "  <thead>\n",
       "    <tr style=\"text-align: right;\">\n",
       "      <th></th>\n",
       "      <th>Login</th>\n",
       "      <th>MarketExecution</th>\n",
       "      <th>AccountType</th>\n",
       "      <th>Country</th>\n",
       "      <th>Currency</th>\n",
       "      <th>Leverage</th>\n",
       "      <th>Fin.Result Fx Majors</th>\n",
       "      <th>Fin.Result Fx Minors</th>\n",
       "      <th>Fin.Result Fx Exotics</th>\n",
       "      <th>Fin.Result Fx Special</th>\n",
       "      <th>...</th>\n",
       "      <th>Loss Pips</th>\n",
       "      <th>Min MarginLevel</th>\n",
       "      <th>MaxBalance</th>\n",
       "      <th>MinFloating</th>\n",
       "      <th>Equity</th>\n",
       "      <th>Turnover USD</th>\n",
       "      <th>Future Clearing</th>\n",
       "      <th>client_id</th>\n",
       "      <th>agent_id</th>\n",
       "      <th>Client Name</th>\n",
       "    </tr>\n",
       "  </thead>\n",
       "  <tbody>\n",
       "    <tr>\n",
       "      <th>count</th>\n",
       "      <td>35446.0</td>\n",
       "      <td>35446.0</td>\n",
       "      <td>35446</td>\n",
       "      <td>35446</td>\n",
       "      <td>35446</td>\n",
       "      <td>35446.0</td>\n",
       "      <td>35446.000000</td>\n",
       "      <td>35446.000000</td>\n",
       "      <td>35446.000000</td>\n",
       "      <td>35446.000000</td>\n",
       "      <td>...</td>\n",
       "      <td>3.544600e+04</td>\n",
       "      <td>35446.000000</td>\n",
       "      <td>3.544600e+04</td>\n",
       "      <td>35446.000000</td>\n",
       "      <td>35446.000000</td>\n",
       "      <td>3.544600e+04</td>\n",
       "      <td>35446.000000</td>\n",
       "      <td>35446.0</td>\n",
       "      <td>35446.000000</td>\n",
       "      <td>35446</td>\n",
       "    </tr>\n",
       "    <tr>\n",
       "      <th>unique</th>\n",
       "      <td>35446.0</td>\n",
       "      <td>2.0</td>\n",
       "      <td>3</td>\n",
       "      <td>154</td>\n",
       "      <td>4</td>\n",
       "      <td>10.0</td>\n",
       "      <td>NaN</td>\n",
       "      <td>NaN</td>\n",
       "      <td>NaN</td>\n",
       "      <td>NaN</td>\n",
       "      <td>...</td>\n",
       "      <td>NaN</td>\n",
       "      <td>NaN</td>\n",
       "      <td>NaN</td>\n",
       "      <td>NaN</td>\n",
       "      <td>NaN</td>\n",
       "      <td>NaN</td>\n",
       "      <td>NaN</td>\n",
       "      <td>31164.0</td>\n",
       "      <td>NaN</td>\n",
       "      <td>29745</td>\n",
       "    </tr>\n",
       "    <tr>\n",
       "      <th>top</th>\n",
       "      <td>5322718.0</td>\n",
       "      <td>0.0</td>\n",
       "      <td>Standard</td>\n",
       "      <td>Russian Federation</td>\n",
       "      <td>USD</td>\n",
       "      <td>500.0</td>\n",
       "      <td>NaN</td>\n",
       "      <td>NaN</td>\n",
       "      <td>NaN</td>\n",
       "      <td>NaN</td>\n",
       "      <td>...</td>\n",
       "      <td>NaN</td>\n",
       "      <td>NaN</td>\n",
       "      <td>NaN</td>\n",
       "      <td>NaN</td>\n",
       "      <td>NaN</td>\n",
       "      <td>NaN</td>\n",
       "      <td>NaN</td>\n",
       "      <td>10921118.0</td>\n",
       "      <td>NaN</td>\n",
       "      <td>Sergey Sannikov</td>\n",
       "    </tr>\n",
       "    <tr>\n",
       "      <th>freq</th>\n",
       "      <td>1.0</td>\n",
       "      <td>22240.0</td>\n",
       "      <td>22240</td>\n",
       "      <td>22500</td>\n",
       "      <td>25535</td>\n",
       "      <td>26695.0</td>\n",
       "      <td>NaN</td>\n",
       "      <td>NaN</td>\n",
       "      <td>NaN</td>\n",
       "      <td>NaN</td>\n",
       "      <td>...</td>\n",
       "      <td>NaN</td>\n",
       "      <td>NaN</td>\n",
       "      <td>NaN</td>\n",
       "      <td>NaN</td>\n",
       "      <td>NaN</td>\n",
       "      <td>NaN</td>\n",
       "      <td>NaN</td>\n",
       "      <td>43.0</td>\n",
       "      <td>NaN</td>\n",
       "      <td>43</td>\n",
       "    </tr>\n",
       "    <tr>\n",
       "      <th>mean</th>\n",
       "      <td>NaN</td>\n",
       "      <td>NaN</td>\n",
       "      <td>NaN</td>\n",
       "      <td>NaN</td>\n",
       "      <td>NaN</td>\n",
       "      <td>NaN</td>\n",
       "      <td>0.136046</td>\n",
       "      <td>-5.764008</td>\n",
       "      <td>-2.970074</td>\n",
       "      <td>-0.037437</td>\n",
       "      <td>...</td>\n",
       "      <td>-8.070458e+03</td>\n",
       "      <td>1217.889005</td>\n",
       "      <td>3.149210e+03</td>\n",
       "      <td>-919.396326</td>\n",
       "      <td>2028.379629</td>\n",
       "      <td>3.802914e+06</td>\n",
       "      <td>-223.282216</td>\n",
       "      <td>NaN</td>\n",
       "      <td>0.294786</td>\n",
       "      <td>NaN</td>\n",
       "    </tr>\n",
       "    <tr>\n",
       "      <th>std</th>\n",
       "      <td>NaN</td>\n",
       "      <td>NaN</td>\n",
       "      <td>NaN</td>\n",
       "      <td>NaN</td>\n",
       "      <td>NaN</td>\n",
       "      <td>NaN</td>\n",
       "      <td>3804.315442</td>\n",
       "      <td>349.171937</td>\n",
       "      <td>202.408349</td>\n",
       "      <td>4.909746</td>\n",
       "      <td>...</td>\n",
       "      <td>5.170472e+04</td>\n",
       "      <td>6488.740977</td>\n",
       "      <td>2.413783e+04</td>\n",
       "      <td>10878.230475</td>\n",
       "      <td>17477.062891</td>\n",
       "      <td>2.579850e+07</td>\n",
       "      <td>5409.643304</td>\n",
       "      <td>NaN</td>\n",
       "      <td>0.455953</td>\n",
       "      <td>NaN</td>\n",
       "    </tr>\n",
       "    <tr>\n",
       "      <th>min</th>\n",
       "      <td>NaN</td>\n",
       "      <td>NaN</td>\n",
       "      <td>NaN</td>\n",
       "      <td>NaN</td>\n",
       "      <td>NaN</td>\n",
       "      <td>NaN</td>\n",
       "      <td>-97619.920000</td>\n",
       "      <td>-19413.120000</td>\n",
       "      <td>-14260.930000</td>\n",
       "      <td>-805.660000</td>\n",
       "      <td>...</td>\n",
       "      <td>-3.024462e+06</td>\n",
       "      <td>0.000000</td>\n",
       "      <td>-2.011580e+03</td>\n",
       "      <td>-690519.330000</td>\n",
       "      <td>-4590.180000</td>\n",
       "      <td>1.330000e+00</td>\n",
       "      <td>-586264.490000</td>\n",
       "      <td>NaN</td>\n",
       "      <td>0.000000</td>\n",
       "      <td>NaN</td>\n",
       "    </tr>\n",
       "    <tr>\n",
       "      <th>25%</th>\n",
       "      <td>NaN</td>\n",
       "      <td>NaN</td>\n",
       "      <td>NaN</td>\n",
       "      <td>NaN</td>\n",
       "      <td>NaN</td>\n",
       "      <td>NaN</td>\n",
       "      <td>-76.394386</td>\n",
       "      <td>0.000000</td>\n",
       "      <td>0.000000</td>\n",
       "      <td>0.000000</td>\n",
       "      <td>...</td>\n",
       "      <td>0.000000e+00</td>\n",
       "      <td>104.010000</td>\n",
       "      <td>7.438500e+01</td>\n",
       "      <td>-158.020000</td>\n",
       "      <td>6.490000</td>\n",
       "      <td>6.065100e+04</td>\n",
       "      <td>-39.067500</td>\n",
       "      <td>NaN</td>\n",
       "      <td>0.000000</td>\n",
       "      <td>NaN</td>\n",
       "    </tr>\n",
       "    <tr>\n",
       "      <th>50%</th>\n",
       "      <td>NaN</td>\n",
       "      <td>NaN</td>\n",
       "      <td>NaN</td>\n",
       "      <td>NaN</td>\n",
       "      <td>NaN</td>\n",
       "      <td>NaN</td>\n",
       "      <td>-4.984817</td>\n",
       "      <td>0.000000</td>\n",
       "      <td>0.000000</td>\n",
       "      <td>0.000000</td>\n",
       "      <td>...</td>\n",
       "      <td>0.000000e+00</td>\n",
       "      <td>189.145000</td>\n",
       "      <td>2.771037e+02</td>\n",
       "      <td>-22.580000</td>\n",
       "      <td>97.227710</td>\n",
       "      <td>2.886262e+05</td>\n",
       "      <td>0.000000</td>\n",
       "      <td>NaN</td>\n",
       "      <td>0.000000</td>\n",
       "      <td>NaN</td>\n",
       "    </tr>\n",
       "    <tr>\n",
       "      <th>75%</th>\n",
       "      <td>NaN</td>\n",
       "      <td>NaN</td>\n",
       "      <td>NaN</td>\n",
       "      <td>NaN</td>\n",
       "      <td>NaN</td>\n",
       "      <td>NaN</td>\n",
       "      <td>27.330000</td>\n",
       "      <td>0.000000</td>\n",
       "      <td>0.000000</td>\n",
       "      <td>0.000000</td>\n",
       "      <td>...</td>\n",
       "      <td>0.000000e+00</td>\n",
       "      <td>777.835000</td>\n",
       "      <td>1.045650e+03</td>\n",
       "      <td>-1.730141</td>\n",
       "      <td>535.082500</td>\n",
       "      <td>1.339068e+06</td>\n",
       "      <td>10.328075</td>\n",
       "      <td>NaN</td>\n",
       "      <td>1.000000</td>\n",
       "      <td>NaN</td>\n",
       "    </tr>\n",
       "    <tr>\n",
       "      <th>max</th>\n",
       "      <td>NaN</td>\n",
       "      <td>NaN</td>\n",
       "      <td>NaN</td>\n",
       "      <td>NaN</td>\n",
       "      <td>NaN</td>\n",
       "      <td>NaN</td>\n",
       "      <td>237108.770000</td>\n",
       "      <td>23780.980000</td>\n",
       "      <td>13457.210000</td>\n",
       "      <td>88.720000</td>\n",
       "      <td>...</td>\n",
       "      <td>0.000000e+00</td>\n",
       "      <td>565691.280000</td>\n",
       "      <td>1.387732e+06</td>\n",
       "      <td>6091.260000</td>\n",
       "      <td>958108.660000</td>\n",
       "      <td>2.037341e+09</td>\n",
       "      <td>154312.094618</td>\n",
       "      <td>NaN</td>\n",
       "      <td>1.000000</td>\n",
       "      <td>NaN</td>\n",
       "    </tr>\n",
       "  </tbody>\n",
       "</table>\n",
       "<p>11 rows × 29 columns</p>\n",
       "</div>"
      ],
      "text/plain": [
       "            Login  MarketExecution AccountType             Country Currency  \\\n",
       "count     35446.0          35446.0       35446               35446    35446   \n",
       "unique    35446.0              2.0           3                 154        4   \n",
       "top     5322718.0              0.0    Standard  Russian Federation      USD   \n",
       "freq          1.0          22240.0       22240               22500    25535   \n",
       "mean          NaN              NaN         NaN                 NaN      NaN   \n",
       "std           NaN              NaN         NaN                 NaN      NaN   \n",
       "min           NaN              NaN         NaN                 NaN      NaN   \n",
       "25%           NaN              NaN         NaN                 NaN      NaN   \n",
       "50%           NaN              NaN         NaN                 NaN      NaN   \n",
       "75%           NaN              NaN         NaN                 NaN      NaN   \n",
       "max           NaN              NaN         NaN                 NaN      NaN   \n",
       "\n",
       "        Leverage  Fin.Result Fx Majors  Fin.Result Fx Minors  \\\n",
       "count    35446.0          35446.000000          35446.000000   \n",
       "unique      10.0                   NaN                   NaN   \n",
       "top        500.0                   NaN                   NaN   \n",
       "freq     26695.0                   NaN                   NaN   \n",
       "mean         NaN              0.136046             -5.764008   \n",
       "std          NaN           3804.315442            349.171937   \n",
       "min          NaN         -97619.920000         -19413.120000   \n",
       "25%          NaN            -76.394386              0.000000   \n",
       "50%          NaN             -4.984817              0.000000   \n",
       "75%          NaN             27.330000              0.000000   \n",
       "max          NaN         237108.770000          23780.980000   \n",
       "\n",
       "        Fin.Result Fx Exotics  Fin.Result Fx Special       ...         \\\n",
       "count            35446.000000           35446.000000       ...          \n",
       "unique                    NaN                    NaN       ...          \n",
       "top                       NaN                    NaN       ...          \n",
       "freq                      NaN                    NaN       ...          \n",
       "mean                -2.970074              -0.037437       ...          \n",
       "std                202.408349               4.909746       ...          \n",
       "min             -14260.930000            -805.660000       ...          \n",
       "25%                  0.000000               0.000000       ...          \n",
       "50%                  0.000000               0.000000       ...          \n",
       "75%                  0.000000               0.000000       ...          \n",
       "max              13457.210000              88.720000       ...          \n",
       "\n",
       "           Loss Pips  Min MarginLevel    MaxBalance    MinFloating  \\\n",
       "count   3.544600e+04     35446.000000  3.544600e+04   35446.000000   \n",
       "unique           NaN              NaN           NaN            NaN   \n",
       "top              NaN              NaN           NaN            NaN   \n",
       "freq             NaN              NaN           NaN            NaN   \n",
       "mean   -8.070458e+03      1217.889005  3.149210e+03    -919.396326   \n",
       "std     5.170472e+04      6488.740977  2.413783e+04   10878.230475   \n",
       "min    -3.024462e+06         0.000000 -2.011580e+03 -690519.330000   \n",
       "25%     0.000000e+00       104.010000  7.438500e+01    -158.020000   \n",
       "50%     0.000000e+00       189.145000  2.771037e+02     -22.580000   \n",
       "75%     0.000000e+00       777.835000  1.045650e+03      -1.730141   \n",
       "max     0.000000e+00    565691.280000  1.387732e+06    6091.260000   \n",
       "\n",
       "               Equity  Turnover USD  Future Clearing   client_id  \\\n",
       "count    35446.000000  3.544600e+04     35446.000000     35446.0   \n",
       "unique            NaN           NaN              NaN     31164.0   \n",
       "top               NaN           NaN              NaN  10921118.0   \n",
       "freq              NaN           NaN              NaN        43.0   \n",
       "mean      2028.379629  3.802914e+06      -223.282216         NaN   \n",
       "std      17477.062891  2.579850e+07      5409.643304         NaN   \n",
       "min      -4590.180000  1.330000e+00   -586264.490000         NaN   \n",
       "25%          6.490000  6.065100e+04       -39.067500         NaN   \n",
       "50%         97.227710  2.886262e+05         0.000000         NaN   \n",
       "75%        535.082500  1.339068e+06        10.328075         NaN   \n",
       "max     958108.660000  2.037341e+09    154312.094618         NaN   \n",
       "\n",
       "            agent_id      Client Name  \n",
       "count   35446.000000            35446  \n",
       "unique           NaN            29745  \n",
       "top              NaN  Sergey Sannikov  \n",
       "freq             NaN               43  \n",
       "mean        0.294786              NaN  \n",
       "std         0.455953              NaN  \n",
       "min         0.000000              NaN  \n",
       "25%         0.000000              NaN  \n",
       "50%         0.000000              NaN  \n",
       "75%         1.000000              NaN  \n",
       "max         1.000000              NaN  \n",
       "\n",
       "[11 rows x 29 columns]"
      ]
     },
     "execution_count": 105,
     "metadata": {},
     "output_type": "execute_result"
    }
   ],
   "source": [
    "df.describe(include='all')"
   ]
  },
  {
   "cell_type": "code",
   "execution_count": 106,
   "metadata": {
    "collapsed": true
   },
   "outputs": [],
   "source": [
    "df.drop(labels='Currency', axis=1, inplace=True)"
   ]
  },
  {
   "cell_type": "code",
   "execution_count": 107,
   "metadata": {
    "collapsed": true
   },
   "outputs": [],
   "source": [
    "#df.set_index('Login', inplace=True)"
   ]
  },
  {
   "cell_type": "code",
   "execution_count": 108,
   "metadata": {
    "collapsed": false
   },
   "outputs": [
    {
     "data": {
      "text/html": [
       "<div>\n",
       "<style scoped>\n",
       "    .dataframe tbody tr th:only-of-type {\n",
       "        vertical-align: middle;\n",
       "    }\n",
       "\n",
       "    .dataframe tbody tr th {\n",
       "        vertical-align: top;\n",
       "    }\n",
       "\n",
       "    .dataframe thead th {\n",
       "        text-align: right;\n",
       "    }\n",
       "</style>\n",
       "<table border=\"1\" class=\"dataframe\">\n",
       "  <thead>\n",
       "    <tr style=\"text-align: right;\">\n",
       "      <th></th>\n",
       "      <th>Fin.Result</th>\n",
       "      <th>FastDeals Fin.Result</th>\n",
       "      <th>MaxBalance</th>\n",
       "      <th>MinFloating</th>\n",
       "      <th>Equity</th>\n",
       "      <th>Profit Pips</th>\n",
       "      <th>Loss Pips</th>\n",
       "      <th>Min MarginLevel</th>\n",
       "      <th>Future Clearing</th>\n",
       "    </tr>\n",
       "  </thead>\n",
       "  <tbody>\n",
       "    <tr>\n",
       "      <th>Fin.Result</th>\n",
       "      <td>1.000000</td>\n",
       "      <td>0.266178</td>\n",
       "      <td>0.300064</td>\n",
       "      <td>-0.126092</td>\n",
       "      <td>0.349208</td>\n",
       "      <td>0.037018</td>\n",
       "      <td>0.049981</td>\n",
       "      <td>0.004179</td>\n",
       "      <td>0.005232</td>\n",
       "    </tr>\n",
       "    <tr>\n",
       "      <th>FastDeals Fin.Result</th>\n",
       "      <td>0.266178</td>\n",
       "      <td>1.000000</td>\n",
       "      <td>0.053026</td>\n",
       "      <td>-0.051758</td>\n",
       "      <td>0.068412</td>\n",
       "      <td>-0.010948</td>\n",
       "      <td>0.018957</td>\n",
       "      <td>-0.002036</td>\n",
       "      <td>-0.121098</td>\n",
       "    </tr>\n",
       "    <tr>\n",
       "      <th>MaxBalance</th>\n",
       "      <td>0.300064</td>\n",
       "      <td>0.053026</td>\n",
       "      <td>1.000000</td>\n",
       "      <td>-0.743901</td>\n",
       "      <td>0.913816</td>\n",
       "      <td>0.124063</td>\n",
       "      <td>-0.058592</td>\n",
       "      <td>0.022524</td>\n",
       "      <td>-0.214605</td>\n",
       "    </tr>\n",
       "    <tr>\n",
       "      <th>MinFloating</th>\n",
       "      <td>-0.126092</td>\n",
       "      <td>-0.051758</td>\n",
       "      <td>-0.743901</td>\n",
       "      <td>1.000000</td>\n",
       "      <td>-0.443875</td>\n",
       "      <td>-0.050089</td>\n",
       "      <td>0.039166</td>\n",
       "      <td>0.000099</td>\n",
       "      <td>0.314164</td>\n",
       "    </tr>\n",
       "    <tr>\n",
       "      <th>Equity</th>\n",
       "      <td>0.349208</td>\n",
       "      <td>0.068412</td>\n",
       "      <td>0.913816</td>\n",
       "      <td>-0.443875</td>\n",
       "      <td>1.000000</td>\n",
       "      <td>0.149720</td>\n",
       "      <td>-0.055046</td>\n",
       "      <td>0.031701</td>\n",
       "      <td>-0.086003</td>\n",
       "    </tr>\n",
       "    <tr>\n",
       "      <th>Profit Pips</th>\n",
       "      <td>0.037018</td>\n",
       "      <td>-0.010948</td>\n",
       "      <td>0.124063</td>\n",
       "      <td>-0.050089</td>\n",
       "      <td>0.149720</td>\n",
       "      <td>1.000000</td>\n",
       "      <td>-0.552724</td>\n",
       "      <td>-0.014211</td>\n",
       "      <td>-0.004313</td>\n",
       "    </tr>\n",
       "    <tr>\n",
       "      <th>Loss Pips</th>\n",
       "      <td>0.049981</td>\n",
       "      <td>0.018957</td>\n",
       "      <td>-0.058592</td>\n",
       "      <td>0.039166</td>\n",
       "      <td>-0.055046</td>\n",
       "      <td>-0.552724</td>\n",
       "      <td>1.000000</td>\n",
       "      <td>0.020191</td>\n",
       "      <td>-0.000956</td>\n",
       "    </tr>\n",
       "    <tr>\n",
       "      <th>Min MarginLevel</th>\n",
       "      <td>0.004179</td>\n",
       "      <td>-0.002036</td>\n",
       "      <td>0.022524</td>\n",
       "      <td>0.000099</td>\n",
       "      <td>0.031701</td>\n",
       "      <td>-0.014211</td>\n",
       "      <td>0.020191</td>\n",
       "      <td>1.000000</td>\n",
       "      <td>0.003236</td>\n",
       "    </tr>\n",
       "    <tr>\n",
       "      <th>Future Clearing</th>\n",
       "      <td>0.005232</td>\n",
       "      <td>-0.121098</td>\n",
       "      <td>-0.214605</td>\n",
       "      <td>0.314164</td>\n",
       "      <td>-0.086003</td>\n",
       "      <td>-0.004313</td>\n",
       "      <td>-0.000956</td>\n",
       "      <td>0.003236</td>\n",
       "      <td>1.000000</td>\n",
       "    </tr>\n",
       "  </tbody>\n",
       "</table>\n",
       "</div>"
      ],
      "text/plain": [
       "                      Fin.Result  FastDeals Fin.Result  MaxBalance  \\\n",
       "Fin.Result              1.000000              0.266178    0.300064   \n",
       "FastDeals Fin.Result    0.266178              1.000000    0.053026   \n",
       "MaxBalance              0.300064              0.053026    1.000000   \n",
       "MinFloating            -0.126092             -0.051758   -0.743901   \n",
       "Equity                  0.349208              0.068412    0.913816   \n",
       "Profit Pips             0.037018             -0.010948    0.124063   \n",
       "Loss Pips               0.049981              0.018957   -0.058592   \n",
       "Min MarginLevel         0.004179             -0.002036    0.022524   \n",
       "Future Clearing         0.005232             -0.121098   -0.214605   \n",
       "\n",
       "                      MinFloating    Equity  Profit Pips  Loss Pips  \\\n",
       "Fin.Result              -0.126092  0.349208     0.037018   0.049981   \n",
       "FastDeals Fin.Result    -0.051758  0.068412    -0.010948   0.018957   \n",
       "MaxBalance              -0.743901  0.913816     0.124063  -0.058592   \n",
       "MinFloating              1.000000 -0.443875    -0.050089   0.039166   \n",
       "Equity                  -0.443875  1.000000     0.149720  -0.055046   \n",
       "Profit Pips             -0.050089  0.149720     1.000000  -0.552724   \n",
       "Loss Pips                0.039166 -0.055046    -0.552724   1.000000   \n",
       "Min MarginLevel          0.000099  0.031701    -0.014211   0.020191   \n",
       "Future Clearing          0.314164 -0.086003    -0.004313  -0.000956   \n",
       "\n",
       "                      Min MarginLevel  Future Clearing  \n",
       "Fin.Result                   0.004179         0.005232  \n",
       "FastDeals Fin.Result        -0.002036        -0.121098  \n",
       "MaxBalance                   0.022524        -0.214605  \n",
       "MinFloating                  0.000099         0.314164  \n",
       "Equity                       0.031701        -0.086003  \n",
       "Profit Pips                 -0.014211        -0.004313  \n",
       "Loss Pips                    0.020191        -0.000956  \n",
       "Min MarginLevel              1.000000         0.003236  \n",
       "Future Clearing              0.003236         1.000000  "
      ]
     },
     "execution_count": 108,
     "metadata": {},
     "output_type": "execute_result"
    }
   ],
   "source": [
    "df[['Leverage', 'MarketExecution', 'Fin.Result', 'FastDeals Fin.Result','MaxBalance', 'MinFloating', 'Equity', 'Profit Pips', 'Loss Pips', 'Min MarginLevel','Future Clearing']].corr()"
   ]
  },
  {
   "cell_type": "code",
   "execution_count": 109,
   "metadata": {
    "collapsed": false
   },
   "outputs": [
    {
     "data": {
      "text/plain": [
       "Index(['Login', 'MarketExecution', 'AccountType', 'Country', 'Leverage',\n",
       "       'Fin.Result Fx Majors', 'Fin.Result Fx Minors', 'Fin.Result Fx Exotics',\n",
       "       'Fin.Result Fx Special', 'Fin.Result Spot Metals', 'Fin.Result Fx Rub',\n",
       "       'Fin.Result Crypto', 'Fin.Result CFD', 'Fin.Result',\n",
       "       'FastDeals Fin.Result', 'Loss Deals Count', 'Profit Deals Count',\n",
       "       'Profit Pips', 'Loss Pips', 'Min MarginLevel', 'MaxBalance',\n",
       "       'MinFloating', 'Equity', 'Turnover USD', 'Future Clearing', 'client_id',\n",
       "       'agent_id', 'Client Name'],\n",
       "      dtype='object')"
      ]
     },
     "execution_count": 109,
     "metadata": {},
     "output_type": "execute_result"
    }
   ],
   "source": [
    "df.columns"
   ]
  },
  {
   "cell_type": "code",
   "execution_count": 110,
   "metadata": {
    "collapsed": true
   },
   "outputs": [],
   "source": [
    "bins = pd.IntervalIndex.from_tuples([(-9999999, -5000), (-5000, 5000), (5000, 9999999)])\n",
    "df['Future Clearing'] = pd.cut(df['Future Clearing'], bins)"
   ]
  },
  {
   "cell_type": "code",
   "execution_count": 111,
   "metadata": {
    "collapsed": true
   },
   "outputs": [],
   "source": [
    "Y=df['Future Clearing'].cat.codes"
   ]
  },
  {
   "cell_type": "code",
   "execution_count": 112,
   "metadata": {
    "collapsed": true
   },
   "outputs": [],
   "source": [
    "Y = Y.replace(to_replace={0 : 'Client will lose', \n",
    "                                  1 : 'Client will near zero', \n",
    "                                  2:'Client will make profit'} )"
   ]
  },
  {
   "cell_type": "code",
   "execution_count": 113,
   "metadata": {
    "collapsed": true
   },
   "outputs": [],
   "source": [
    "X = df.drop(labels=['Login', 'Client Name', 'client_id', 'AccountType', 'Country', 'Future Clearing'], axis=1)"
   ]
  },
  {
   "cell_type": "code",
   "execution_count": 139,
   "metadata": {
    "collapsed": true
   },
   "outputs": [],
   "source": [
    "newdf= df.drop(labels=['Login', 'Client Name', 'client_id', 'AccountType', 'Country', 'Future Clearing'], axis=1)"
   ]
  },
  {
   "cell_type": "code",
   "execution_count": 114,
   "metadata": {
    "collapsed": true
   },
   "outputs": [],
   "source": [
    "X=X.values"
   ]
  },
  {
   "cell_type": "code",
   "execution_count": 124,
   "metadata": {
    "collapsed": false
   },
   "outputs": [
    {
     "data": {
      "text/plain": [
       "array([500.0, 1000.0, 200.0, 100.0, 50.0, 25.0, 10.0, 5.0, 1.0, 33.0],\n",
       "      dtype=object)"
      ]
     },
     "execution_count": 124,
     "metadata": {},
     "output_type": "execute_result"
    }
   ],
   "source": [
    "df['Leverage'].unique()"
   ]
  },
  {
   "cell_type": "code",
   "execution_count": 131,
   "metadata": {
    "collapsed": false
   },
   "outputs": [
    {
     "data": {
      "text/plain": [
       "array([500.0, 500.0, 1000.0, ..., 500.0, 100.0, 1000.0], dtype=object)"
      ]
     },
     "execution_count": 131,
     "metadata": {},
     "output_type": "execute_result"
    }
   ],
   "source": [
    "X[:,1]"
   ]
  },
  {
   "cell_type": "code",
   "execution_count": 135,
   "metadata": {
    "collapsed": true
   },
   "outputs": [],
   "source": [
    "from sklearn import preprocessing\n",
    "dummy_Leverage=preprocessing.LabelEncoder()\n",
    "dummy_Leverage.fit([500.0, 1000.0, 200.0, 100.0, 50.0, 25.0, 10.0, 5.0, 1.0, 33.0])\n",
    "X[:,1]=dummy_Leverage.transform(X[:,1])"
   ]
  },
  {
   "cell_type": "code",
   "execution_count": 141,
   "metadata": {
    "collapsed": true
   },
   "outputs": [],
   "source": [
    "X_trainset, X_testset, y_trainset, y_testset = train_test_split(X, Y, test_size=0.3, random_state=3)"
   ]
  },
  {
   "cell_type": "code",
   "execution_count": 142,
   "metadata": {
    "collapsed": false
   },
   "outputs": [
    {
     "data": {
      "text/plain": [
       "DecisionTreeClassifier(class_weight=None, criterion='entropy', max_depth=4,\n",
       "            max_features=None, max_leaf_nodes=None,\n",
       "            min_impurity_decrease=0.0, min_impurity_split=None,\n",
       "            min_samples_leaf=1, min_samples_split=2,\n",
       "            min_weight_fraction_leaf=0.0, presort=False, random_state=None,\n",
       "            splitter='best')"
      ]
     },
     "execution_count": 142,
     "metadata": {},
     "output_type": "execute_result"
    }
   ],
   "source": [
    "drugTree = DecisionTreeClassifier(criterion=\"entropy\", max_depth = 4)\n",
    "drugTree"
   ]
  },
  {
   "cell_type": "code",
   "execution_count": 143,
   "metadata": {
    "collapsed": false
   },
   "outputs": [
    {
     "data": {
      "text/plain": [
       "DecisionTreeClassifier(class_weight=None, criterion='entropy', max_depth=4,\n",
       "            max_features=None, max_leaf_nodes=None,\n",
       "            min_impurity_decrease=0.0, min_impurity_split=None,\n",
       "            min_samples_leaf=1, min_samples_split=2,\n",
       "            min_weight_fraction_leaf=0.0, presort=False, random_state=None,\n",
       "            splitter='best')"
      ]
     },
     "execution_count": 143,
     "metadata": {},
     "output_type": "execute_result"
    }
   ],
   "source": [
    "drugTree.fit(X_trainset,y_trainset)"
   ]
  },
  {
   "cell_type": "code",
   "execution_count": 145,
   "metadata": {
    "collapsed": false
   },
   "outputs": [
    {
     "name": "stdout",
     "output_type": "stream",
     "text": [
      "['Client will near zero' 'Client will near zero' 'Client will near zero'\n",
      " 'Client will near zero' 'Client will near zero']\n",
      "31307    Client will near zero\n",
      "27064    Client will near zero\n",
      "32081    Client will near zero\n",
      "6660     Client will near zero\n",
      "32864    Client will near zero\n",
      "dtype: object\n"
     ]
    }
   ],
   "source": [
    "print (predTree [0:5])\n",
    "print (y_testset [0:5])"
   ]
  },
  {
   "cell_type": "code",
   "execution_count": 150,
   "metadata": {
    "collapsed": false
   },
   "outputs": [
    {
     "name": "stdout",
     "output_type": "stream",
     "text": [
      "DecisionTrees's Accuracy:  0.9871167951852549\n"
     ]
    }
   ],
   "source": [
    "from sklearn import metrics\n",
    "import matplotlib.pyplot as plt\n",
    "print(\"DecisionTrees's Accuracy: \", metrics.accuracy_score(y_testset, predTree))"
   ]
  },
  {
   "cell_type": "code",
   "execution_count": 157,
   "metadata": {
    "collapsed": true
   },
   "outputs": [],
   "source": [
    "from sklearn.externals.six import StringIO\n",
    "import pydotplus\n",
    "import matplotlib.image as mpimg\n",
    "from sklearn import tree\n",
    "%matplotlib inline "
   ]
  },
  {
   "cell_type": "code",
   "execution_count": 159,
   "metadata": {
    "collapsed": false
   },
   "outputs": [
    {
     "ename": "InvocationException",
     "evalue": "GraphViz's executables not found",
     "output_type": "error",
     "traceback": [
      "\u001b[1;31m---------------------------------------------------------------------------\u001b[0m",
      "\u001b[1;31mInvocationException\u001b[0m                       Traceback (most recent call last)",
      "\u001b[1;32m<ipython-input-159-6be5c2776c93>\u001b[0m in \u001b[0;36m<module>\u001b[1;34m()\u001b[0m\n\u001b[0;32m      5\u001b[0m \u001b[0mout\u001b[0m\u001b[1;33m=\u001b[0m\u001b[0mtree\u001b[0m\u001b[1;33m.\u001b[0m\u001b[0mexport_graphviz\u001b[0m\u001b[1;33m(\u001b[0m\u001b[0mdrugTree\u001b[0m\u001b[1;33m,\u001b[0m\u001b[0mfeature_names\u001b[0m\u001b[1;33m=\u001b[0m\u001b[0mfeatureNames\u001b[0m\u001b[1;33m,\u001b[0m \u001b[0mout_file\u001b[0m\u001b[1;33m=\u001b[0m\u001b[0mdot_data\u001b[0m\u001b[1;33m,\u001b[0m \u001b[0mclass_names\u001b[0m\u001b[1;33m=\u001b[0m \u001b[0mnp\u001b[0m\u001b[1;33m.\u001b[0m\u001b[0munique\u001b[0m\u001b[1;33m(\u001b[0m\u001b[0my_trainset\u001b[0m\u001b[1;33m)\u001b[0m\u001b[1;33m,\u001b[0m \u001b[0mfilled\u001b[0m\u001b[1;33m=\u001b[0m\u001b[1;32mTrue\u001b[0m\u001b[1;33m,\u001b[0m  \u001b[0mspecial_characters\u001b[0m\u001b[1;33m=\u001b[0m\u001b[1;32mTrue\u001b[0m\u001b[1;33m,\u001b[0m\u001b[0mrotate\u001b[0m\u001b[1;33m=\u001b[0m\u001b[1;32mFalse\u001b[0m\u001b[1;33m)\u001b[0m\u001b[1;33m\u001b[0m\u001b[0m\n\u001b[0;32m      6\u001b[0m \u001b[0mgraph\u001b[0m \u001b[1;33m=\u001b[0m \u001b[0mpydotplus\u001b[0m\u001b[1;33m.\u001b[0m\u001b[0mgraph_from_dot_data\u001b[0m\u001b[1;33m(\u001b[0m\u001b[0mdot_data\u001b[0m\u001b[1;33m.\u001b[0m\u001b[0mgetvalue\u001b[0m\u001b[1;33m(\u001b[0m\u001b[1;33m)\u001b[0m\u001b[1;33m)\u001b[0m\u001b[1;33m\u001b[0m\u001b[0m\n\u001b[1;32m----> 7\u001b[1;33m \u001b[0mgraph\u001b[0m\u001b[1;33m.\u001b[0m\u001b[0mwrite_png\u001b[0m\u001b[1;33m(\u001b[0m\u001b[0mfilename\u001b[0m\u001b[1;33m)\u001b[0m\u001b[1;33m\u001b[0m\u001b[0m\n\u001b[0m\u001b[0;32m      8\u001b[0m \u001b[0mimg\u001b[0m \u001b[1;33m=\u001b[0m \u001b[0mmpimg\u001b[0m\u001b[1;33m.\u001b[0m\u001b[0mimread\u001b[0m\u001b[1;33m(\u001b[0m\u001b[0mfilename\u001b[0m\u001b[1;33m)\u001b[0m\u001b[1;33m\u001b[0m\u001b[0m\n\u001b[0;32m      9\u001b[0m \u001b[0mplt\u001b[0m\u001b[1;33m.\u001b[0m\u001b[0mfigure\u001b[0m\u001b[1;33m(\u001b[0m\u001b[0mfigsize\u001b[0m\u001b[1;33m=\u001b[0m\u001b[1;33m(\u001b[0m\u001b[1;36m100\u001b[0m\u001b[1;33m,\u001b[0m \u001b[1;36m200\u001b[0m\u001b[1;33m)\u001b[0m\u001b[1;33m)\u001b[0m\u001b[1;33m\u001b[0m\u001b[0m\n",
      "\u001b[1;32m~\\AppData\\Local\\Continuum\\anaconda3\\lib\\site-packages\\pydotplus\\graphviz.py\u001b[0m in \u001b[0;36m<lambda>\u001b[1;34m(path, f, prog)\u001b[0m\n\u001b[0;32m   1808\u001b[0m                 \u001b[1;32mlambda\u001b[0m \u001b[0mpath\u001b[0m\u001b[1;33m,\u001b[0m\u001b[1;33m\u001b[0m\u001b[0m\n\u001b[0;32m   1809\u001b[0m                 \u001b[0mf\u001b[0m\u001b[1;33m=\u001b[0m\u001b[0mfrmt\u001b[0m\u001b[1;33m,\u001b[0m\u001b[1;33m\u001b[0m\u001b[0m\n\u001b[1;32m-> 1810\u001b[1;33m                 \u001b[0mprog\u001b[0m\u001b[1;33m=\u001b[0m\u001b[0mself\u001b[0m\u001b[1;33m.\u001b[0m\u001b[0mprog\u001b[0m\u001b[1;33m:\u001b[0m \u001b[0mself\u001b[0m\u001b[1;33m.\u001b[0m\u001b[0mwrite\u001b[0m\u001b[1;33m(\u001b[0m\u001b[0mpath\u001b[0m\u001b[1;33m,\u001b[0m \u001b[0mformat\u001b[0m\u001b[1;33m=\u001b[0m\u001b[0mf\u001b[0m\u001b[1;33m,\u001b[0m \u001b[0mprog\u001b[0m\u001b[1;33m=\u001b[0m\u001b[0mprog\u001b[0m\u001b[1;33m)\u001b[0m\u001b[1;33m\u001b[0m\u001b[0m\n\u001b[0m\u001b[0;32m   1811\u001b[0m             )\n\u001b[0;32m   1812\u001b[0m \u001b[1;33m\u001b[0m\u001b[0m\n",
      "\u001b[1;32m~\\AppData\\Local\\Continuum\\anaconda3\\lib\\site-packages\\pydotplus\\graphviz.py\u001b[0m in \u001b[0;36mwrite\u001b[1;34m(self, path, prog, format)\u001b[0m\n\u001b[0;32m   1916\u001b[0m \u001b[1;33m\u001b[0m\u001b[0m\n\u001b[0;32m   1917\u001b[0m             \u001b[1;32melse\u001b[0m\u001b[1;33m:\u001b[0m\u001b[1;33m\u001b[0m\u001b[0m\n\u001b[1;32m-> 1918\u001b[1;33m                 \u001b[0mfobj\u001b[0m\u001b[1;33m.\u001b[0m\u001b[0mwrite\u001b[0m\u001b[1;33m(\u001b[0m\u001b[0mself\u001b[0m\u001b[1;33m.\u001b[0m\u001b[0mcreate\u001b[0m\u001b[1;33m(\u001b[0m\u001b[0mprog\u001b[0m\u001b[1;33m,\u001b[0m \u001b[0mformat\u001b[0m\u001b[1;33m)\u001b[0m\u001b[1;33m)\u001b[0m\u001b[1;33m\u001b[0m\u001b[0m\n\u001b[0m\u001b[0;32m   1919\u001b[0m         \u001b[1;32mfinally\u001b[0m\u001b[1;33m:\u001b[0m\u001b[1;33m\u001b[0m\u001b[0m\n\u001b[0;32m   1920\u001b[0m             \u001b[1;32mif\u001b[0m \u001b[0mclose\u001b[0m\u001b[1;33m:\u001b[0m\u001b[1;33m\u001b[0m\u001b[0m\n",
      "\u001b[1;32m~\\AppData\\Local\\Continuum\\anaconda3\\lib\\site-packages\\pydotplus\\graphviz.py\u001b[0m in \u001b[0;36mcreate\u001b[1;34m(self, prog, format)\u001b[0m\n\u001b[0;32m   1958\u001b[0m             \u001b[1;32mif\u001b[0m \u001b[0mself\u001b[0m\u001b[1;33m.\u001b[0m\u001b[0mprogs\u001b[0m \u001b[1;32mis\u001b[0m \u001b[1;32mNone\u001b[0m\u001b[1;33m:\u001b[0m\u001b[1;33m\u001b[0m\u001b[0m\n\u001b[0;32m   1959\u001b[0m                 raise InvocationException(\n\u001b[1;32m-> 1960\u001b[1;33m                     'GraphViz\\'s executables not found')\n\u001b[0m\u001b[0;32m   1961\u001b[0m \u001b[1;33m\u001b[0m\u001b[0m\n\u001b[0;32m   1962\u001b[0m         \u001b[1;32mif\u001b[0m \u001b[0mprog\u001b[0m \u001b[1;32mnot\u001b[0m \u001b[1;32min\u001b[0m \u001b[0mself\u001b[0m\u001b[1;33m.\u001b[0m\u001b[0mprogs\u001b[0m\u001b[1;33m:\u001b[0m\u001b[1;33m\u001b[0m\u001b[0m\n",
      "\u001b[1;31mInvocationException\u001b[0m: GraphViz's executables not found"
     ]
    }
   ],
   "source": [
    "dot_data = StringIO()\n",
    "filename = \"drugtree.png\"\n",
    "featureNames = newdf.columns\n",
    "targetNames = df['Future Clearing'].unique().tolist()\n",
    "out=tree.export_graphviz(drugTree,feature_names=featureNames, out_file=dot_data, class_names= np.unique(y_trainset), filled=True,  special_characters=True,rotate=False)  \n",
    "graph = pydotplus.graph_from_dot_data(dot_data.getvalue())  \n",
    "graph.write_png(filename)\n",
    "img = mpimg.imread(filename)\n",
    "plt.figure(figsize=(100, 200))\n",
    "plt.imshow(img,interpolation='nearest')"
   ]
  }
 ],
 "metadata": {
  "kernelspec": {
   "display_name": "Python 3",
   "language": "python",
   "name": "python3"
  },
  "language_info": {
   "codemirror_mode": {
    "name": "ipython",
    "version": 3
   },
   "file_extension": ".py",
   "mimetype": "text/x-python",
   "name": "python",
   "nbconvert_exporter": "python",
   "pygments_lexer": "ipython3",
   "version": "3.5.2"
  },
  "widgets": {
   "state": {},
   "version": "1.1.2"
  }
 },
 "nbformat": 4,
 "nbformat_minor": 2
}
