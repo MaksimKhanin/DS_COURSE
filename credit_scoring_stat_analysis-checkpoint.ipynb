{
 "cells": [
  {
   "cell_type": "code",
   "execution_count": 1,
   "metadata": {
    "collapsed": true
   },
   "outputs": [],
   "source": [
    "import numpy as np\n",
    "import scipy\n",
    "import scipy.stats\n",
    "\n",
    "import statsmodels.sandbox.stats.runs\n",
    "from statsmodels.stats.descriptivestats import sign_test\n",
    "from statsmodels.stats.weightstats import _zconfint_generic\n",
    "from statsmodels.stats.weightstats import *\n",
    "from statsmodels.stats.proportion import proportion_confint\n",
    "\n",
    "import statsmodels.formula.api as smf\n",
    "import statsmodels.stats.api as sms\n",
    "from statsmodels.graphics.regressionplots import plot_leverage_resid2\n",
    "\n",
    "import pandas as pd\n",
    "import matplotlib.pyplot as plt\n",
    "%matplotlib inline"
   ]
  },
  {
   "cell_type": "markdown",
   "metadata": {},
   "source": [
    "# 0. Загрузка данных"
   ]
  },
  {
   "cell_type": "code",
   "execution_count": 2,
   "metadata": {},
   "outputs": [
    {
     "data": {
      "text/html": [
       "<div>\n",
       "<table border=\"1\" class=\"dataframe\">\n",
       "  <thead>\n",
       "    <tr style=\"text-align: right;\">\n",
       "      <th></th>\n",
       "      <th>ID</th>\n",
       "      <th>LIMIT_BAL</th>\n",
       "      <th>SEX</th>\n",
       "      <th>EDUCATION</th>\n",
       "      <th>MARRIAGE</th>\n",
       "      <th>AGE</th>\n",
       "      <th>PAY_0</th>\n",
       "      <th>PAY_2</th>\n",
       "      <th>PAY_3</th>\n",
       "      <th>PAY_4</th>\n",
       "      <th>...</th>\n",
       "      <th>BILL_AMT4</th>\n",
       "      <th>BILL_AMT5</th>\n",
       "      <th>BILL_AMT6</th>\n",
       "      <th>PAY_AMT1</th>\n",
       "      <th>PAY_AMT2</th>\n",
       "      <th>PAY_AMT3</th>\n",
       "      <th>PAY_AMT4</th>\n",
       "      <th>PAY_AMT5</th>\n",
       "      <th>PAY_AMT6</th>\n",
       "      <th>default</th>\n",
       "    </tr>\n",
       "  </thead>\n",
       "  <tbody>\n",
       "    <tr>\n",
       "      <th>0</th>\n",
       "      <td>1</td>\n",
       "      <td>20000</td>\n",
       "      <td>2</td>\n",
       "      <td>2</td>\n",
       "      <td>1</td>\n",
       "      <td>24</td>\n",
       "      <td>2</td>\n",
       "      <td>2</td>\n",
       "      <td>0</td>\n",
       "      <td>0</td>\n",
       "      <td>...</td>\n",
       "      <td>0</td>\n",
       "      <td>0</td>\n",
       "      <td>0</td>\n",
       "      <td>0</td>\n",
       "      <td>689</td>\n",
       "      <td>0</td>\n",
       "      <td>0</td>\n",
       "      <td>0</td>\n",
       "      <td>0</td>\n",
       "      <td>1</td>\n",
       "    </tr>\n",
       "    <tr>\n",
       "      <th>1</th>\n",
       "      <td>2</td>\n",
       "      <td>120000</td>\n",
       "      <td>2</td>\n",
       "      <td>2</td>\n",
       "      <td>2</td>\n",
       "      <td>26</td>\n",
       "      <td>0</td>\n",
       "      <td>2</td>\n",
       "      <td>0</td>\n",
       "      <td>0</td>\n",
       "      <td>...</td>\n",
       "      <td>3272</td>\n",
       "      <td>3455</td>\n",
       "      <td>3261</td>\n",
       "      <td>0</td>\n",
       "      <td>1000</td>\n",
       "      <td>1000</td>\n",
       "      <td>1000</td>\n",
       "      <td>0</td>\n",
       "      <td>2000</td>\n",
       "      <td>1</td>\n",
       "    </tr>\n",
       "    <tr>\n",
       "      <th>2</th>\n",
       "      <td>3</td>\n",
       "      <td>90000</td>\n",
       "      <td>2</td>\n",
       "      <td>2</td>\n",
       "      <td>2</td>\n",
       "      <td>34</td>\n",
       "      <td>0</td>\n",
       "      <td>0</td>\n",
       "      <td>0</td>\n",
       "      <td>0</td>\n",
       "      <td>...</td>\n",
       "      <td>14331</td>\n",
       "      <td>14948</td>\n",
       "      <td>15549</td>\n",
       "      <td>1518</td>\n",
       "      <td>1500</td>\n",
       "      <td>1000</td>\n",
       "      <td>1000</td>\n",
       "      <td>1000</td>\n",
       "      <td>5000</td>\n",
       "      <td>0</td>\n",
       "    </tr>\n",
       "    <tr>\n",
       "      <th>3</th>\n",
       "      <td>4</td>\n",
       "      <td>50000</td>\n",
       "      <td>2</td>\n",
       "      <td>2</td>\n",
       "      <td>1</td>\n",
       "      <td>37</td>\n",
       "      <td>0</td>\n",
       "      <td>0</td>\n",
       "      <td>0</td>\n",
       "      <td>0</td>\n",
       "      <td>...</td>\n",
       "      <td>28314</td>\n",
       "      <td>28959</td>\n",
       "      <td>29547</td>\n",
       "      <td>2000</td>\n",
       "      <td>2019</td>\n",
       "      <td>1200</td>\n",
       "      <td>1100</td>\n",
       "      <td>1069</td>\n",
       "      <td>1000</td>\n",
       "      <td>0</td>\n",
       "    </tr>\n",
       "    <tr>\n",
       "      <th>4</th>\n",
       "      <td>5</td>\n",
       "      <td>50000</td>\n",
       "      <td>1</td>\n",
       "      <td>2</td>\n",
       "      <td>1</td>\n",
       "      <td>57</td>\n",
       "      <td>0</td>\n",
       "      <td>0</td>\n",
       "      <td>0</td>\n",
       "      <td>0</td>\n",
       "      <td>...</td>\n",
       "      <td>20940</td>\n",
       "      <td>19146</td>\n",
       "      <td>19131</td>\n",
       "      <td>2000</td>\n",
       "      <td>36681</td>\n",
       "      <td>10000</td>\n",
       "      <td>9000</td>\n",
       "      <td>689</td>\n",
       "      <td>679</td>\n",
       "      <td>0</td>\n",
       "    </tr>\n",
       "  </tbody>\n",
       "</table>\n",
       "<p>5 rows × 25 columns</p>\n",
       "</div>"
      ],
      "text/plain": [
       "   ID  LIMIT_BAL  SEX  EDUCATION  MARRIAGE  AGE  PAY_0  PAY_2  PAY_3  PAY_4  \\\n",
       "0   1      20000    2          2         1   24      2      2      0      0   \n",
       "1   2     120000    2          2         2   26      0      2      0      0   \n",
       "2   3      90000    2          2         2   34      0      0      0      0   \n",
       "3   4      50000    2          2         1   37      0      0      0      0   \n",
       "4   5      50000    1          2         1   57      0      0      0      0   \n",
       "\n",
       "    ...     BILL_AMT4  BILL_AMT5  BILL_AMT6  PAY_AMT1  PAY_AMT2  PAY_AMT3  \\\n",
       "0   ...             0          0          0         0       689         0   \n",
       "1   ...          3272       3455       3261         0      1000      1000   \n",
       "2   ...         14331      14948      15549      1518      1500      1000   \n",
       "3   ...         28314      28959      29547      2000      2019      1200   \n",
       "4   ...         20940      19146      19131      2000     36681     10000   \n",
       "\n",
       "   PAY_AMT4  PAY_AMT5  PAY_AMT6  default  \n",
       "0         0         0         0        1  \n",
       "1      1000         0      2000        1  \n",
       "2      1000      1000      5000        0  \n",
       "3      1100      1069      1000        0  \n",
       "4      9000       689       679        0  \n",
       "\n",
       "[5 rows x 25 columns]"
      ]
     },
     "execution_count": 2,
     "metadata": {},
     "output_type": "execute_result"
    }
   ],
   "source": [
    "df = pd.read_csv('credit_card_default_analysis.csv',sep=',')\n",
    "df.head()"
   ]
  },
  {
   "cell_type": "code",
   "execution_count": 3,
   "metadata": {
    "collapsed": true
   },
   "outputs": [],
   "source": [
    "## Разбиваем данные о кредитном лимите на две группы: вернувшие (df0) и не вернувшие (df1) кредит\n",
    "df0 = df[df['default']==0] ## плательщики\n",
    "df1 = df[df['default']==1] ## неплательщики"
   ]
  },
  {
   "cell_type": "markdown",
   "metadata": {},
   "source": [
    "# 1. Размер кредитного лимита"
   ]
  },
  {
   "cell_type": "code",
   "execution_count": 4,
   "metadata": {
    "collapsed": true
   },
   "outputs": [],
   "source": [
    "## Разбивка данных для удобства\n",
    "df0_lb = df0['LIMIT_BAL'] ## плательщики\n",
    "df1_lb = df1['LIMIT_BAL'] ## неплательщики"
   ]
  },
  {
   "cell_type": "code",
   "execution_count": 5,
   "metadata": {},
   "outputs": [
    {
     "data": {
      "image/png": "[encoded data removed]",
      "text/plain": [
       "<matplotlib.figure.Figure at 0x7f3e788d9d50>"
      ]
     },
     "metadata": {},
     "output_type": "display_data"
    }
   ],
   "source": [
    "## Строим распределения значений кредитных лимитов в двух группах\n",
    "plt.figure(figsize=(12,4))\n",
    "\n",
    "plt.subplot(1,2,1)\n",
    "plt.grid()\n",
    "plt.hist(df0_lb, color = 'g',bins=20)\n",
    "plt.title('Payers (df=0)')\n",
    "plt.xlabel('LIMIT_BAL')\n",
    "plt.ylabel('Number of people')\n",
    "plt.xlim(0,900000)\n",
    "locs, labels = plt.xticks()\n",
    "plt.setp(labels, rotation=90)\n",
    "\n",
    "\n",
    "plt.subplot(1,2,2)\n",
    "plt.grid()\n",
    "plt.hist(df1_lb, color = 'r',bins=20)\n",
    "plt.title('Non-payers (df=1)')\n",
    "plt.xlabel('LIMIT_BAL')\n",
    "plt.ylabel('Number of people')\n",
    "plt.xlim(0,900000)\n",
    "locs, labels = plt.xticks()\n",
    "plt.setp(labels, rotation=90)\n",
    "\n",
    "\n",
    "plt.show()"
   ]
  },
  {
   "cell_type": "markdown",
   "metadata": {},
   "source": [
    "Из графиков выше видно, что распределения значений лимитов различаются в подвыборках плательщиков и неплательщиков. Видно, что в подвыборке плательщиков (df=0), больше больших значений лимитов, тогда как в подвыборке неплательщиков (df=1) наблюдается концентрация малых значений."
   ]
  },
  {
   "cell_type": "markdown",
   "metadata": {},
   "source": [
    "\n",
    "### a) Интервальная оценка медиан распределений и их разностей в подгруппах"
   ]
  },
  {
   "cell_type": "markdown",
   "metadata": {},
   "source": [
    "Проведем оценку 95%-ых доверительных интервалов для медиан двух подвыборок (кредитных лимитов плательщиков и неплательщиков) и для разности медиан с помощью бутстрепа. Метод бутстрепа выбираем, поскольку метод подходит для распределений, не являющихся нормальными (наш случай)."
   ]
  },
  {
   "cell_type": "code",
   "execution_count": 6,
   "metadata": {
    "collapsed": true
   },
   "outputs": [],
   "source": [
    "def get_bootstrap_samples(data, n_samples):\n",
    "    indices = np.random.randint(0, len(data), (n_samples, len(data)))\n",
    "    samples = data[indices]\n",
    "    return samples\n",
    "\n",
    "def stat_intervals(stat, alpha):\n",
    "    boundaries = np.percentile(stat, [100 * alpha / 2., 100 * (1 - alpha / 2.)])\n",
    "    return boundaries"
   ]
  },
  {
   "cell_type": "code",
   "execution_count": 7,
   "metadata": {},
   "outputs": [
    {
     "name": "stdout",
     "output_type": "stream",
     "text": [
      "Точечная оценка для выборочной медианы v0 (плательщики): 150000.0\n",
      "Точечная оценка для выборочной медианы v1 (неплательщики):  90000.0\n",
      "95% доверительный интервал для v0 (плательщики): медиана=[150000.0 150000.0] \n",
      "95% доверительный интервал для v1 (неплательщики): медиана=[ 80000.0  90000.0] \n",
      "95% доверительный интервал для разности медиан=[-70000.0 -60000.0] \n"
     ]
    }
   ],
   "source": [
    "# Бутстреп\n",
    "\n",
    "v0 = df0_lb.values\n",
    "v1 = df1_lb.values\n",
    "\n",
    "v0_median_scores = map(np.median, get_bootstrap_samples(v0, 1000))\n",
    "v1_median_scores = map(np.median, get_bootstrap_samples(v1, 1000))\n",
    "\n",
    "print 'Точечная оценка для выборочной медианы v0 (плательщики): %8.1f' % np.median(v0)\n",
    "print 'Точечная оценка для выборочной медианы v1 (неплательщики): %8.1f' % np.median(v1)\n",
    "\n",
    "l,r = stat_intervals(v0_median_scores, 0.05)\n",
    "print '95%% доверительный интервал для v0 (плательщики): медиана=[%8.1f %8.1f] ' % (l,r)\n",
    "l,r = stat_intervals(v1_median_scores, 0.05)\n",
    "print '95%% доверительный интервал для v1 (неплательщики): медиана=[%8.1f %8.1f] ' % (l,r)\n",
    "\n",
    "delta_median_scores = map(lambda x: x[1] - x[0], zip(v0_median_scores,v1_median_scores))\n",
    "l,r = stat_intervals(delta_median_scores, 0.05)\n",
    "print '95%% доверительный интервал для разности медиан=[%8.1f %8.1f] ' % (l,r)\n"
   ]
  },
  {
   "cell_type": "markdown",
   "metadata": {},
   "source": [
    "Итак, 95% доверительные интервалы для медиан не пересекаются, а интервал для разности медиан - не содержит нуля. Это говорит о том, что медианы в двух подвыборках отличаются. В частности, подвыборка вернувших кредит содержит больше больших значений лимита."
   ]
  },
  {
   "cell_type": "markdown",
   "metadata": {},
   "source": [
    "### b) Проверка гипотезы о равенстве распределений с помощью перестановочного критерия "
   ]
  },
  {
   "cell_type": "markdown",
   "metadata": {},
   "source": [
    "Поскольку требуется проверить гипотезу о равенстве между собой функций распределения (причем неизвестных) двух независимых подвыборок (кредитных лимитов плательщиков и неплательщиков), применим перестановочный критерий для независимых выборок.\n",
    "Нулевая гипотеза состоит в том, что функции распределения равны. Альтернативная гипотеза состоит в том что они не равны, причем вторая получается из первой сдвигом в любую из сторон."
   ]
  },
  {
   "cell_type": "markdown",
   "metadata": {},
   "source": [
    "$H_0\\colon F_{X_1}(x) = F_{X_2}(x)$\n",
    "\n",
    "$H_1\\colon F_{X_1}(x) = F_{X_2}(x + \\Delta), \\Delta\\neq 0$"
   ]
  },
  {
   "cell_type": "code",
   "execution_count": 8,
   "metadata": {
    "collapsed": true
   },
   "outputs": [],
   "source": [
    "def permutation_t_stat_ind(sample1, sample2):\n",
    "    return np.mean(sample1) - np.mean(sample2)\n",
    "\n",
    "def get_random_combinations(n1, n2, max_combinations):\n",
    "    index = range(n1 + n2)\n",
    "    indices = set([tuple(index)])\n",
    "    for i in range(max_combinations - 1):\n",
    "        np.random.shuffle(index)\n",
    "        indices.add(tuple(index))\n",
    "    return [(index[:n1], index[n1:]) for index in indices]\n",
    "\n",
    "def permutation_zero_dist_ind(sample1, sample2, max_combinations = None):\n",
    "    joined_sample = np.hstack((sample1, sample2))\n",
    "    n1 = len(sample1)\n",
    "    n = len(joined_sample)\n",
    "    \n",
    "    if max_combinations:\n",
    "        indices = get_random_combinations(n1, len(sample2), max_combinations)\n",
    "    else:\n",
    "        indices = [(list(index), filter(lambda i: i not in index, range(n))) \\\n",
    "                    for index in itertools.combinations(range(n), n1)]\n",
    "    \n",
    "    distr = [joined_sample[list(i[0])].mean() - joined_sample[list(i[1])].mean() \\\n",
    "             for i in indices]\n",
    "    return distr\n",
    "\n",
    "\n",
    "def permutation_test(sample, mean, max_permutations = None, alternative = 'two-sided'):\n",
    "    if alternative not in ('two-sided', 'less', 'greater'):\n",
    "        raise ValueError(\"alternative not recognized\\n\"\n",
    "                         \"should be 'two-sided', 'less' or 'greater'\")\n",
    "    \n",
    "    t_stat = permutation_t_stat_ind(sample, mean)\n",
    "    \n",
    "    zero_distr = permutation_zero_dist_ind(sample, mean, max_permutations)\n",
    "    \n",
    "    if alternative == 'two-sided':\n",
    "        return sum([1. if abs(x) >= abs(t_stat) else 0. for x in zero_distr]) / len(zero_distr)\n",
    "    \n",
    "    if alternative == 'less':\n",
    "        return sum([1. if x <= t_stat else 0. for x in zero_distr]) / len(zero_distr)\n",
    "\n",
    "    if alternative == 'greater':\n",
    "        return sum([1. if x >= t_stat else 0. for x in zero_distr]) / len(zero_distr)"
   ]
  },
  {
   "cell_type": "code",
   "execution_count": 9,
   "metadata": {},
   "outputs": [
    {
     "name": "stdout",
     "output_type": "stream",
     "text": [
      "p-value: 0.000100\n",
      "CPU times: user 34.1 s, sys: 1.12 s, total: 35.2 s\n",
      "Wall time: 34.9 s\n"
     ]
    }
   ],
   "source": [
    "%%time\n",
    "print \"p-value: %f\" % permutation_test(df0_lb, df1_lb, max_permutations = 10000)"
   ]
  },
  {
   "cell_type": "markdown",
   "metadata": {
    "collapsed": true
   },
   "source": [
    "Итак, получен достигаемый уровень значимости p=0.0001, что позволяет уверенно отвергнуть нулевую гипотезу о равенстве функций распределения в подвыборках на уровне значимости 0.05. \n",
    "Полученные результаты значимы с практической точки зрения - средний лимит плательщиков почти в 2 раза больше лимита неплательщиков."
   ]
  },
  {
   "cell_type": "markdown",
   "metadata": {},
   "source": [
    "# 2. Пол клиента"
   ]
  },
  {
   "cell_type": "code",
   "execution_count": 10,
   "metadata": {
    "collapsed": true
   },
   "outputs": [],
   "source": [
    "## Разбивка данных для удобства\n",
    "df0_s = df0['SEX'] ## плательщики\n",
    "df1_s = df1['SEX'] ## неплательщики"
   ]
  },
  {
   "cell_type": "code",
   "execution_count": 11,
   "metadata": {},
   "outputs": [
    {
     "data": {
      "image/png": "[encoded data removed]",
      "text/plain": [
       "<matplotlib.figure.Figure at 0x7f3e788ff4d0>"
      ]
     },
     "metadata": {},
     "output_type": "display_data"
    }
   ],
   "source": [
    "## Строим распределения полов клиентов в двух группах\n",
    "plt.figure(figsize=(12,4))\n",
    "\n",
    "plt.subplot(1,2,1)\n",
    "plt.grid()\n",
    "plt.hist(df0_s-1, color = 'g',bins=3)\n",
    "plt.title('Payers (df=0)')\n",
    "plt.xlabel('SEX')\n",
    "plt.ylabel('Number of people')\n",
    "plt.xticks([ 0.175,0.85], ('Men', 'Women'))\n",
    "\n",
    "\n",
    "plt.subplot(1,2,2)\n",
    "plt.grid()\n",
    "plt.hist(df1_s-1, color = 'r',bins=3)\n",
    "plt.title('Non-payers (df=1)')\n",
    "plt.xlabel('SEX')\n",
    "plt.ylabel('Number of people')\n",
    "plt.xticks([ 0.175,0.85], ('Men', 'Women'))\n",
    "\n",
    "\n",
    "plt.show()"
   ]
  },
  {
   "cell_type": "markdown",
   "metadata": {},
   "source": [
    "Данные графики показывают, что гендерный состав двух подвыборок в целом схож (женщин больше чем мужчин, эту разницу подвыборки наследуют из общей совокупности), однако в плательщиках доля женщин немного выше (последующие графики более наглядно демонстрируют масштаб разницы). Численно, разность в долях женщин следующая:"
   ]
  },
  {
   "cell_type": "code",
   "execution_count": 12,
   "metadata": {},
   "outputs": [
    {
     "name": "stdout",
     "output_type": "stream",
     "text": [
      "Доля женщин в плательщиках = 0.61\n",
      "Доля женщин в неплательщиках = 0.57\n"
     ]
    }
   ],
   "source": [
    "fraction_girls_d0 = (df0_s==2).sum()*1.0/df0_s.shape[0]\n",
    "fraction_girls_d1 = (df1_s==2).sum()*1.0/df1_s.shape[0]\n",
    "\n",
    "print 'Доля женщин в плательщиках = %4.2f' % fraction_girls_d0\n",
    "print 'Доля женщин в неплательщиках = %4.2f' % fraction_girls_d1"
   ]
  },
  {
   "cell_type": "markdown",
   "metadata": {},
   "source": [
    "Проведем интервальные оценки для долей женщин в двух группах. Метод proportion_confint реализует расчет доверительного интервала для выборок с биномиальным распределением, поэтому нам подходит (вариант Вилсона точнее нормального, но при больших выборках это и не важно)."
   ]
  },
  {
   "cell_type": "code",
   "execution_count": 13,
   "metadata": {},
   "outputs": [
    {
     "name": "stdout",
     "output_type": "stream",
     "text": [
      "95% доверительный интервал для доли женщин в плательщиках=[0.608, 0.620]\n",
      "95% доверительный интервал для доли женщин в неплательщиках=[0.555, 0.579]\n"
     ]
    }
   ],
   "source": [
    "m0 = sum(df0_s-1)   # число женщин в группе плательщиков (df=0)\n",
    "n0 = df0_s.shape[0] # общая численность группы плательщиков (df=0)\n",
    "m1 = sum(df1_s-1)   # число женщин в группе неплательщиков (df=1)\n",
    "n1 = df1_s.shape[0] # общая численность группы неплательщиков (df=1)\n",
    "\n",
    "conf_interval_girls_d0 = proportion_confint(m0,n0,method = 'wilson')\n",
    "conf_interval_girls_d1 = proportion_confint(m1,n1,method = 'wilson')\n",
    "print '95%% доверительный интервал для доли женщин в плательщиках=[%4.3f, %4.3f]' % conf_interval_girls_d0\n",
    "print '95%% доверительный интервал для доли женщин в неплательщиках=[%4.3f, %4.3f]' % conf_interval_girls_d1"
   ]
  },
  {
   "cell_type": "code",
   "execution_count": 14,
   "metadata": {},
   "outputs": [
    {
     "data": {
      "image/png": "[encoded data removed]",
      "text/plain": [
       "<matplotlib.figure.Figure at 0x7f3e75a05810>"
      ]
     },
     "metadata": {},
     "output_type": "display_data"
    }
   ],
   "source": [
    "### Визуализация разницы численности и долей мужчин и женщин в двух группах\n",
    "\n",
    "w0 = sum(df0_s-1)    # число женщин в группе плательщиков (df=0) \n",
    "n0 = df0_s.shape[0]  # общая численность группы плательщиков (df=0)\n",
    "m0=n0-w0             # число мужчин в группе плательщиков (df=0) \n",
    "w1 = sum(df1_s-1)    # число женщин в группе неплательщиков (df=1)\n",
    "n1 = df1_s.shape[0]  # общая численность группы неплательщиков (df=1)\n",
    "m1=n1-w1             # число мужчин в группе неплательщиков (df=1) \n",
    "\n",
    "p0=m0*1.0/n0\n",
    "p1=m1*1.0/n1\n",
    "\n",
    "N = 2\n",
    "ind = np.arange(N)\n",
    "width = 0.35\n",
    "\n",
    "\n",
    "plt.figure(figsize=(12,4))\n",
    "\n",
    "\n",
    "## График распределения численности женщин и мужчин\n",
    "plt.subplot(1,2,1)\n",
    "plt.grid()\n",
    "\n",
    "men = (m0, m1)\n",
    "women = (w0, w1)\n",
    "\n",
    "pl1 = plt.bar(ind, men, width, color='b')\n",
    "pl2 = plt.bar(ind, women, width, color='r',bottom=men)\n",
    "\n",
    "plt.ylabel('Number of people')\n",
    "plt.title('Number of women and men in each group')\n",
    "plt.xticks(ind + width/2., ('Payers(df=0)', 'Non-payers(df=1)'))\n",
    "plt.yticks(np.arange(0, n0+n1, 5000))\n",
    "plt.legend((pl1[0], pl2[0]), ('Men', 'Women'))\n",
    "\n",
    "\n",
    "## График распределения долей женщин и мужчин\n",
    "plt.subplot(1,2,2)\n",
    "plt.grid()\n",
    "\n",
    "men = (p0, p1)\n",
    "women = (1-p0, 1-p1)\n",
    "\n",
    "pl1 = plt.bar(ind, men, width, color='b')\n",
    "pl2 = plt.bar(ind, women, width, color='r',bottom=men)\n",
    "\n",
    "plt.ylabel('Fraction')\n",
    "plt.title('Fraction of women and men in each group')\n",
    "plt.xticks(ind + width/2., ('Payers(df=0)', 'Non-payers(df=1)'))\n",
    "plt.yticks(np.arange(0, 1, 0.1))\n",
    "plt.legend((pl1[0], pl2[0]), ('Men', 'Women'))\n",
    "\n",
    "\n",
    "plt.show()"
   ]
  },
  {
   "cell_type": "markdown",
   "metadata": {},
   "source": [
    "Графики показывают что доля женщин в двух группах отличается, однако на малую величину в долях (см. в частности график справа)."
   ]
  },
  {
   "cell_type": "markdown",
   "metadata": {},
   "source": [
    "Получим теперь интервальную оценку разницы долей женщин в двух группах"
   ]
  },
  {
   "cell_type": "code",
   "execution_count": 15,
   "metadata": {
    "collapsed": true
   },
   "outputs": [],
   "source": [
    "def proportions_diff_confint_ind(sample1, sample2, alpha = 0.05):    \n",
    "    z = scipy.stats.norm.ppf(1 - alpha / 2.)\n",
    "    \n",
    "    p1 = float(sum(sample1)) / len(sample1)\n",
    "    p2 = float(sum(sample2)) / len(sample2)\n",
    "    \n",
    "    left_boundary = (p1 - p2) - z * np.sqrt(p1 * (1 - p1)/ len(sample1) + p2 * (1 - p2)/ len(sample2))\n",
    "    right_boundary = (p1 - p2) + z * np.sqrt(p1 * (1 - p1)/ len(sample1) + p2 * (1 - p2)/ len(sample2))\n",
    "    \n",
    "    return (left_boundary, right_boundary)\n",
    "\n",
    "def proportions_diff_z_stat_ind(sample1, sample2):\n",
    "    n1 = len(sample1)\n",
    "    n2 = len(sample2)\n",
    "    \n",
    "    p1 = float(sum(sample1)) / n1\n",
    "    p2 = float(sum(sample2)) / n2 \n",
    "    P = float(p1*n1 + p2*n2) / (n1 + n2)\n",
    "    \n",
    "    return (p1 - p2) / np.sqrt(P * (1 - P) * (1. / n1 + 1. / n2))\n",
    "\n",
    "def proportions_diff_z_test(z_stat, alternative = 'two-sided'):\n",
    "    if alternative not in ('two-sided', 'less', 'greater'):\n",
    "        raise ValueError(\"alternative not recognized\\n\"\n",
    "                         \"should be 'two-sided', 'less' or 'greater'\")\n",
    "    \n",
    "    if alternative == 'two-sided':\n",
    "        return 2 * (1 - scipy.stats.norm.cdf(np.abs(z_stat)))\n",
    "    \n",
    "    if alternative == 'less':\n",
    "        return scipy.stats.norm.cdf(z_stat)\n",
    "\n",
    "    if alternative == 'greater':\n",
    "        return 1 - scipy.stats.norm.cdf(z_stat)"
   ]
  },
  {
   "cell_type": "code",
   "execution_count": 16,
   "metadata": {},
   "outputs": [
    {
     "name": "stdout",
     "output_type": "stream",
     "text": [
      "Разница долей женщин в плательщиках и неплательщиках=0.047\n",
      "95% доверительный интервал для разницы долей женщин в двух группах=[0.034, 0.061]\n"
     ]
    }
   ],
   "source": [
    "print 'Разница долей женщин в плательщиках и неплательщиках=%4.3f' % (fraction_girls_d0-fraction_girls_d1)\n",
    "print '95%% доверительный интервал для разницы долей женщин в двух группах=[%4.3f, %4.3f]' %\\\n",
    "proportions_diff_confint_ind(df0_s-1, df1_s-1)      "
   ]
  },
  {
   "cell_type": "markdown",
   "metadata": {},
   "source": [
    "Проверим гипотезу о том, что доли женщин в двух группах не отличаются против двусторонней гипотезы о том, что они не равны. Итак, нулевая гипотеза: p1=p2 (доли женщин равны), двусторонняя альтернатива - не равны.\n",
    "\n",
    "При справедливости нулевой гипотезы величина стоящая после слова return в функции proportions_diff_z_stat_ind выше распределена нормально (при большом n тем более). Поэтому применима Z статистика. \n",
    "\n",
    "Итак, проверку нулевой гипотезы проведем с помощью Z критерия для 2 независимых выборок случайных величин, распределеных по биномиальному закону."
   ]
  },
  {
   "cell_type": "code",
   "execution_count": 17,
   "metadata": {},
   "outputs": [
    {
     "name": "stdout",
     "output_type": "stream",
     "text": [
      "p-value = 0.000000000004472867\n"
     ]
    }
   ],
   "source": [
    "print \"p-value = %20.18f\" %\\\n",
    "proportions_diff_z_test(proportions_diff_z_stat_ind(df0_s-1, df1_s-1),alternative = 'two-sided')"
   ]
  },
  {
   "cell_type": "markdown",
   "metadata": {
    "collapsed": true
   },
   "source": [
    "Итак, получен достигаемый уровень значимости, значительно меньший значения 0.05, что позволяет нам уверенно отвергнуть (на уровне значимости 0.05) нулевую гипотезу о равенстве долей женщин в двух подвыборках. \n",
    "\n",
    "Интервальные оценки показали, что 95% доверительные интервалы для долей женщин в подвыборках не пересекаются, а интервал их разности не содержит нуля, что говорит о различии долей в подвыборках. С 95%-ой вероятностью разница в долях женщин в двух группах составляет 3-6%.\n",
    "\n",
    "Как показатель, результат значим практически - несмотря на соотношение мужчин и женщин в целом, наследованное из генеральной совокупности (больще женщин в целом обращались за кредитами), в неплательщиках их доля ниже, что интуитивно и интерпретируемо. Однако, оценить практическую значимость разницы в 3-6% с коммерческой точки зрения в рамках этого задания сложно."
   ]
  },
  {
   "cell_type": "markdown",
   "metadata": {},
   "source": [
    "# 3. Образование"
   ]
  },
  {
   "cell_type": "code",
   "execution_count": 18,
   "metadata": {
    "collapsed": true
   },
   "outputs": [],
   "source": [
    "## Разбивка данных для удобства\n",
    "df0_ed = df0['EDUCATION'] ## плательщики\n",
    "df1_ed = df1['EDUCATION'] ## неплательщики"
   ]
  },
  {
   "cell_type": "code",
   "execution_count": 19,
   "metadata": {},
   "outputs": [
    {
     "data": {
      "image/png": "[encoded data removed]",
      "text/plain": [
       "<matplotlib.figure.Figure at 0x7f3e761d1110>"
      ]
     },
     "metadata": {},
     "output_type": "display_data"
    }
   ],
   "source": [
    "## Строим распределения видов образования в двух группах\n",
    "\n",
    "plt.figure(figsize=(12,4))\n",
    "\n",
    "plt.subplot(1,2,1)\n",
    "plt.grid()\n",
    "plt.hist(df0_ed, color = 'g',bins=7)\n",
    "plt.title('Payers (df=0)')\n",
    "plt.xlabel('EDUCATION')\n",
    "plt.ylabel('Number of people')\n",
    "plt.xticks([0.5,1.3,2.2,3,3.8,4.7,5.5], ('Doct.','MSc','BSc','School','Pr.Sch.','Other','ND'))\n",
    "\n",
    "\n",
    "plt.subplot(1,2,2)\n",
    "plt.grid()\n",
    "plt.hist(df1_ed, color = 'r',bins=7)\n",
    "plt.title('Non-payers (df=1)')\n",
    "plt.xlabel('EDUCATION')\n",
    "plt.ylabel('Number of people')\n",
    "plt.xticks([0.5,1.4,2.1,2.8,3.6,4.4,5.1], ('Doct.','MSc','BSc','School','Pr.Sch.','Other','ND'))\n",
    "\n",
    "plt.show()"
   ]
  },
  {
   "cell_type": "markdown",
   "metadata": {},
   "source": [
    "Данные графики показывают, что распределения по образованию в данных группах имеют некоторую схожесть, наследованную от общей совокупности. Однако, различия тоже наблюдаются: среди неплательщиков нет докторов, далее, доля бакалавров среди неплательщиков также выше их доли среди плательщиков."
   ]
  },
  {
   "cell_type": "code",
   "execution_count": 20,
   "metadata": {},
   "outputs": [
    {
     "data": {
      "text/plain": [
       "array([2, 1, 3, 5, 4, 6, 0])"
      ]
     },
     "execution_count": 20,
     "metadata": {},
     "output_type": "execute_result"
    }
   ],
   "source": [
    "## Для дальнейших вычислений определим состав признака в общей выборке\n",
    "df['EDUCATION'].unique()"
   ]
  },
  {
   "cell_type": "code",
   "execution_count": 21,
   "metadata": {},
   "outputs": [],
   "source": [
    "## Составим таблицу сопряженности\n",
    "t = np.zeros((2,7),dtype='int')\n",
    "\n",
    "for i in range(7):\n",
    "    t[0,i] = np.sum(df0['EDUCATION']==i)\n",
    "for i in range(7):\n",
    "    t[1,i] = np.sum(df1['EDUCATION']==i)"
   ]
  },
  {
   "cell_type": "markdown",
   "metadata": {},
   "source": [
    "Далее приводится визуализация таблицы сопряженности."
   ]
  },
  {
   "cell_type": "code",
   "execution_count": 22,
   "metadata": {},
   "outputs": [
    {
     "data": {
      "image/png": "[encoded data removed]",
      "text/plain": [
       "<matplotlib.figure.Figure at 0x7f3e756cee10>"
      ]
     },
     "metadata": {},
     "output_type": "display_data"
    }
   ],
   "source": [
    "## Визуализация\n",
    "\n",
    "# Число людей с каждым из образований в общей выборке\n",
    "m = np.zeros(7)\n",
    "for i in range(m.shape[0]):\n",
    "    m[i] = np.sum(df['EDUCATION']==i)\n",
    "    \n",
    "m0 = t[0,:] # Число людей с каждым из образований среди плательщиков\n",
    "m1 = t[1,:] # Число людей с каждым из образований среди неплательщиков\n",
    "\n",
    "plt.figure(figsize=(12,4))\n",
    "N = 7\n",
    "ind = np.arange(N)\n",
    "width = 0.35\n",
    "\n",
    "plt.subplot(1,2,1)\n",
    "plt.grid()\n",
    "\n",
    "pl1 = plt.bar(ind, m0, width, color='g')\n",
    "pl2 = plt.bar(ind, m1, width, color='r',bottom=m0)\n",
    "\n",
    "\n",
    "plt.ylabel('Number of people')\n",
    "plt.title('Number of payers and non-payers for each education')\n",
    "plt.xticks(ind + width/2., ('Doct','MSc', 'BSc','School','Pr.Sch','Other','ND'))\n",
    "plt.legend((pl1[0], pl2[0]), ('Payers', 'Nonpayers'))\n",
    "\n",
    "\n",
    "plt.subplot(1,2,2)\n",
    "plt.grid()\n",
    "\n",
    "m0f = m0*1.0/m # Доля людей с каждым из образований среди плательщиков\n",
    "m1f = m1*1.0/m # Доля людей с каждым из образований среди неплательщиков\n",
    "\n",
    "pl1 = plt.bar(ind, m0f, width, color='g')\n",
    "pl2 = plt.bar(ind, m1f, width, color='r',bottom=m0f)\n",
    "\n",
    "\n",
    "plt.ylabel('Fraction')\n",
    "plt.title('Fractions of payers and non-payers for each education')\n",
    "plt.xticks(ind + width/2., ('Doct','MSc', 'BSc','School','Pr.Sch','Other','ND'))\n",
    "plt.legend((pl1[0], pl2[0]), ('Payers', 'Nonpayers'),loc=4)\n",
    "\n",
    "plt.show()"
   ]
  },
  {
   "cell_type": "markdown",
   "metadata": {},
   "source": [
    "Поскольку число клиентов из группы {доктор, нач. школа, другое, нет данных} не только значительно меньше числа клиентов из группы {магистр, бакалавр и выпускник школы}, но и мало абсолютно, имеет смысл рассмотреть вторую группу отдельно, а вторую отбросить как шумовую. Это сделано в следующей визуализации:"
   ]
  },
  {
   "cell_type": "code",
   "execution_count": 23,
   "metadata": {},
   "outputs": [
    {
     "data": {
      "image/png": "[encoded data removed]",
      "text/plain": [
       "<matplotlib.figure.Figure at 0x7f3e75742990>"
      ]
     },
     "metadata": {},
     "output_type": "display_data"
    }
   ],
   "source": [
    "## Визуализация - только многочисленные группы\n",
    "\n",
    "plt.figure(figsize=(12,4))\n",
    "plt.subplot(1,2,1)\n",
    "plt.grid()\n",
    "N = 3\n",
    "ind = np.arange(N)\n",
    "\n",
    "pl1 = plt.bar(ind, m0[1:4], width, color='g')\n",
    "pl2 = plt.bar(ind, m1[1:4], width, color='r',bottom=m0[1:4])\n",
    "\n",
    "plt.ylabel('Number of people')\n",
    "plt.title('Number of payers and non-payers for each education')\n",
    "plt.xticks(ind + width/2., ('MSc', 'BSc','School'))\n",
    "plt.legend((pl1[0], pl2[0]), ('Payers', 'Nonpayers'))\n",
    "\n",
    "\n",
    "plt.subplot(1,2,2)\n",
    "plt.grid()\n",
    "\n",
    "pl1 = plt.bar(ind, m0f[1:4], width, color='g')\n",
    "pl2 = plt.bar(ind, m1f[1:4], width, color='r',bottom=m0f[1:4])\n",
    "\n",
    "plt.ylabel('Fraction')\n",
    "plt.title('Fractions of payers and non-payers for each education')\n",
    "plt.xticks(ind + width/2., ('MSc', 'BSc','School'))\n",
    "plt.legend((pl1[0], pl2[0]), ('Payers', 'Nonpayers'),loc=4)\n",
    "\n",
    "plt.show()"
   ]
  },
  {
   "cell_type": "markdown",
   "metadata": {},
   "source": [
    "Данные графики показывают, что доля неплательщиков растет с падением \"уровня\" образования. "
   ]
  },
  {
   "cell_type": "markdown",
   "metadata": {},
   "source": [
    "В следующем разделе будет проанализирована таблица сопряженности, наблюденные значения ячеек таблицы будут сравнены с ожидаемыми. Кроме этого, мы проверим гипотезу о том, что образование не влияет на то, вернет ли человек долг, \n",
    "\n",
    "т.е. проверим нулевую гипотезу о том, что признаки \"deafult\" и \"EDUCATION\" связаны против общей альтернативы\n",
    "что они не связаны. \n",
    "\n",
    "Для этого применим критерий Хи квадрат для категориальных признаков."
   ]
  },
  {
   "cell_type": "code",
   "execution_count": 24,
   "metadata": {},
   "outputs": [
    {
     "name": "stdout",
     "output_type": "stream",
     "text": [
      "n = 30000\n"
     ]
    }
   ],
   "source": [
    "n = df.shape[0]\n",
    "print 'n =',n"
   ]
  },
  {
   "cell_type": "markdown",
   "metadata": {},
   "source": [
    "Применимость критерия Хи квадрат установим следующим образом. Первое требование, о том, что n>40 заведомо выполняется, т.к. размер выборки=30000.\n",
    "\n",
    "Второе требование о том, что доля ячеек с ожидаемым количеством элементов меньше 5 была не более 20% мы проверим после вычисления ожидаемой таблицы сопряженности. Таблица 2 ниже показывает что в нашем случае есть одна такая ячейка (со значением 3), т.е. это 7%. \n",
    "\n",
    "Критерий Хи квадрат применим."
   ]
  },
  {
   "cell_type": "code",
   "execution_count": 25,
   "metadata": {},
   "outputs": [
    {
     "name": "stdout",
     "output_type": "stream",
     "text": [
      "Критерий Хи квадрат:\n",
      "статистика = 163.21655787      уровень значимости = 1.23326262454e-32\n",
      "\n",
      "Доля невозврата во всей выборке: 22% \n",
      "\n",
      "Таблица 1. Наблюденная таблица сопряженности t.\n",
      "\t\t Доктор   Магистр  Бакалавр     Школа   Нач.шк.    Прочее   Нет данных\n",
      "default=0            14      8549     10700      3680       116       262        43\n",
      "default=1             0      2036      3330      1237         7        18         8\n",
      "разница:             14      6513      7370      2443       109       244        35\n",
      "% невозврата:         0        19        24        25         6         6        16\n",
      "отклонение %:       -22        -3         2         3       -16       -16        -6 \n",
      "\n",
      "\n",
      "\n",
      "\n",
      "Таблица 2. Ожидаемая таблица сопряженности t (значения округленны до целых).\n",
      "\t\t Доктор   Магистр  Бакалавр     Школа   Нач.шк.    Прочее   Нет данных\n",
      "default=0            11      8244     10927      3829        96       218        40\n",
      "default=1             3      2341      3103      1088        27        62        11\n",
      "% невозврата:        22        22        22        22        22        22        22 \n",
      "\n",
      "\n",
      "\n"
     ]
    }
   ],
   "source": [
    "chi2, p, dof, ex = scipy.stats.chi2_contingency(t)\n",
    "print 'Критерий Хи квадрат:\\nстатистика =',chi2,'     уровень значимости =', p\n",
    "\n",
    "\n",
    "n0 = df0.shape[0]\n",
    "n1 = df1.shape[0]\n",
    "n = df.shape[0]\n",
    "overall_default_rate = n1*100.0/n\n",
    "\n",
    "print '\\nДоля невозврата во всей выборке: %2.0f%% ' % overall_default_rate\n",
    "\n",
    "\n",
    "    \n",
    "print '\\nТаблица 1. Наблюденная таблица сопряженности t.'\n",
    "print '\\t\\t Доктор   Магистр  Бакалавр     Школа   Нач.шк.    Прочее   Нет данных'\n",
    "for i in range(2):\n",
    "    print 'default=%d    ' % i,\n",
    "    for j in range(7):\n",
    "        print \"%9.0f\" % t[i,j],\n",
    "    print\n",
    "\n",
    "print 'разница:     ',\n",
    "for j in range(7):\n",
    "    print '%9.0f' % (t[0,j]-t[1,j]),\n",
    "print\n",
    "print '% невозврата:',\n",
    "for j in range(7):\n",
    "    print '%9.0f' % (t[1,j]*100.0/(t[0,j]+t[1,j])),\n",
    "print\n",
    "print 'отклонение %:',\n",
    "for j in range(7):\n",
    "    print '%9.0f' % (t[1,j]*100.0/(t[0,j]+t[1,j])-overall_default_rate),\n",
    "print '\\n\\n'    \n",
    "\n",
    "\n",
    "print '\\n\\nТаблица 2. Ожидаемая таблица сопряженности t (значения округленны до целых).'\n",
    "print '\\t\\t Доктор   Магистр  Бакалавр     Школа   Нач.шк.    Прочее   Нет данных'\n",
    "for i in range(2):\n",
    "    print 'default=%d    ' % i,\n",
    "    for j in range(7):\n",
    "        print \"%9.0f\" % ex[i,j],\n",
    "    print\n",
    "\n",
    "print '% невозврата:',\n",
    "for j in range(7):\n",
    "    print '%9.0f' % (ex[1,j]*100.0/(ex[0,j]+ex[1,j])),\n",
    "print '\\n\\n\\n'"
   ]
  },
  {
   "cell_type": "markdown",
   "metadata": {},
   "source": [
    "Уровень значимости для полученной статистики Хи квадрат (1.2e-32) значительно ниже 0.05, что позволяет уверенно отвергнуть гипотезу о том, что признаки независимы, т.е. нулевая гипотеза на уровне значимости 0.05 отвергается.\n",
    "\n",
    "Проведем анализ наблюденной и ожидаемой таблиц сопряженности, т.е. соответственно таблица 1 и таблица 2 выше.\n",
    "В первых двух строках таблицы 1 приведено число людей с разным образованием среди плательщиков (def=0) и неплательщиков (def=1). \n",
    "В третьей строке - разница числа вернувших и невернувших кредит для каждого из образований. \n",
    "В четвертой строке - процент невозврата для каждого из образований.\n",
    "И наконец в пятой строке - отклонение процента невозврата для данного образования от общего процента невозврата (около 22%).\n",
    "\n",
    "Ответ на вопрос задания о том, как привести значения разности вернувших и невернувших кредиты (строка 3 таблицы 1) к одному масштабу - нужно расчитать процент невозврата и отклонение от общего процента невозврата, как это и сделано в таблице 1 (строки 4 и 5).\n",
    "\n",
    "То, как меняется процент невозврата и отклонение от общего процента, дополнительно проиллюстрировано на графиках ниже.\n",
    "\n",
    "В частности, видно что выпускники школ связаны с наибольшим невозвратом кредита, а доктора с наименьшим невозвратом. Если мы откинем докторов как слишком малочисленную выборку, то наилучшие плательщики - магистры.\n",
    "\n",
    "Ожидаемая таблица 2 получена в результате применения критерия Хи квадрат, она содержит ожидаемые значения для независимых признаков. Как и ожидалось, ожидаемый процент невозврата в таблице составляет около 22%.\n",
    "\n",
    "Практическая значимость (в коммерческом плане) наблюдаемой зависимости возврата кредита от образования скорее всего ограничена, т.к. отклонение от среднего в пределах 3 процентов (для многочисленных групп). Как показатель-же этот результат интуитивен и хорошо интерпретируем."
   ]
  },
  {
   "cell_type": "code",
   "execution_count": 26,
   "metadata": {},
   "outputs": [
    {
     "data": {
      "image/png": "[encoded data removed]",
      "text/plain": [
       "<matplotlib.figure.Figure at 0x7f3e7644c0d0>"
      ]
     },
     "metadata": {},
     "output_type": "display_data"
    }
   ],
   "source": [
    "nonpayment = t[1,:]*100.0/(t[0,:]+t[1,:])\n",
    "deviations = t[1,:]*100.0/(t[0,:]+t[1,:])-overall_default_rate\n",
    "\n",
    "plt.figure(figsize=(12,4))\n",
    "plt.subplot(1,2,1)\n",
    "plt.grid()\n",
    "ind = np.arange(7)\n",
    "width = 0.4\n",
    "plt.bar(ind, nonpayment, width, color='r')\n",
    "plt.ylabel('Non-payment rate,%')\n",
    "plt.title('Non-payment rate')\n",
    "plt.xticks(ind + width/2., ('Doct','MSc', 'BSc','School','Pr.Sch','Other','ND'))\n",
    "\n",
    "plt.subplot(1,2,2)\n",
    "plt.grid()\n",
    "plt.bar(ind, deviations, width, color='r')\n",
    "plt.ylabel('Deviation,%')\n",
    "plt.title('Deviation from overall non-payment rate')\n",
    "plt.xticks(ind + width/2., ('Doct','MSc', 'BSc','School','Pr.Sch','Other','ND'))\n",
    "\n",
    "\n",
    "plt.show()"
   ]
  },
  {
   "cell_type": "markdown",
   "metadata": {},
   "source": [
    "Графики показывают, что процент невозврата кредита растет с падением уровня образования (если не брать в расчет малочисленне признаки нач. школа, другое и нет данных). Кроме того, график справа показывает, что процент невозврата бакалавров и выпускников школ выше среднего, тогда как магистров - ниже (малочисленные опять не смотрим)."
   ]
  },
  {
   "cell_type": "markdown",
   "metadata": {},
   "source": [
    "# 4. Семейное положение"
   ]
  },
  {
   "cell_type": "code",
   "execution_count": 27,
   "metadata": {
    "collapsed": true
   },
   "outputs": [],
   "source": [
    "## Разбивка данных для удобства\n",
    "df0_m = df0['MARRIAGE'] ## плательщики\n",
    "df1_m = df1['MARRIAGE'] ## неплательщики"
   ]
  },
  {
   "cell_type": "code",
   "execution_count": 28,
   "metadata": {},
   "outputs": [
    {
     "data": {
      "text/plain": [
       "array([2, 1, 3, 0])"
      ]
     },
     "execution_count": 28,
     "metadata": {},
     "output_type": "execute_result"
    }
   ],
   "source": [
    "## состав признака\n",
    "df0_m.unique()"
   ]
  },
  {
   "cell_type": "code",
   "execution_count": 29,
   "metadata": {},
   "outputs": [
    {
     "data": {
      "image/png": "[encoded data removed]",
      "text/plain": [
       "<matplotlib.figure.Figure at 0x7f3e754e87d0>"
      ]
     },
     "metadata": {},
     "output_type": "display_data"
    }
   ],
   "source": [
    "## Строим распределения полов клиентов в двух группах\n",
    "plt.figure(figsize=(12,4))\n",
    "\n",
    "plt.subplot(1,2,1)\n",
    "plt.grid()\n",
    "plt.hist(df0_m, color = 'g',bins=8)\n",
    "plt.title('Payers (df=0)')\n",
    "plt.xlabel('MARRIAGE')\n",
    "plt.ylabel('Number of people')\n",
    "plt.xticks([ 0.175,0.9, 2.0, 2.8], ('No answer', 'Married', 'Not married', 'ND'))\n",
    "\n",
    "\n",
    "plt.subplot(1,2,2)\n",
    "plt.grid()\n",
    "plt.hist(df1_m, color = 'r',bins=8)\n",
    "plt.title('Non-payers (df=1)')\n",
    "plt.xlabel('MARRIAGE')\n",
    "plt.ylabel('Number of people')\n",
    "plt.xticks([ 0.175,0.9, 2.0, 2.8], ('No answer', 'Married', 'Not married', 'ND'))\n",
    "\n",
    "\n",
    "plt.show()"
   ]
  },
  {
   "cell_type": "markdown",
   "metadata": {},
   "source": [
    "Очевидно что значения признака \"Нет ответа\" и \"Нет данных\" малочислены и не несут информации - удаляем их из дальнейшего рассмотрения."
   ]
  },
  {
   "cell_type": "code",
   "execution_count": 30,
   "metadata": {},
   "outputs": [
    {
     "data": {
      "image/png": "[encoded data removed]",
      "text/plain": [
       "<matplotlib.figure.Figure at 0x7f3e75427750>"
      ]
     },
     "metadata": {},
     "output_type": "display_data"
    }
   ],
   "source": [
    "## Поменяем обозначения\n",
    "df0_m = df0['MARRIAGE']\n",
    "df1_m = df1['MARRIAGE']\n",
    "df0_m = df0_m[(df0_m==1)|(df0_m==2)]-2\n",
    "df1_m = df1_m[(df1_m==1)|(df1_m==2)]-2\n",
    "df0_m = df0_m**2\n",
    "df1_m = df1_m**2\n",
    "#теперь:\n",
    "# 0 - не в браке\n",
    "# 1 - в браке\n",
    "plt.figure(figsize=(12,4))\n",
    "\n",
    "\n",
    "\n",
    "plt.subplot(1,2,1)\n",
    "plt.grid()\n",
    "plt.hist(df0_m, color = 'g',bins=3)\n",
    "plt.title('Payers (df=0)')\n",
    "plt.xlabel('MARRIAGE')\n",
    "plt.ylabel('Number of people')\n",
    "plt.xticks([ 0.175,0.82], ('Not married', 'Married'))\n",
    "\n",
    "\n",
    "plt.subplot(1,2,2)\n",
    "plt.grid()\n",
    "plt.hist(df1_m, color = 'r',bins=3)\n",
    "plt.title('Non-payers (df=1)')\n",
    "plt.xlabel('MARRIAGE')\n",
    "plt.ylabel('Number of people')\n",
    "plt.xticks([ 0.175,0.82], ('Not married', 'Married'))\n",
    "\n",
    "\n",
    "plt.show()"
   ]
  },
  {
   "cell_type": "markdown",
   "metadata": {},
   "source": [
    "Судя по графикам, доля холостых больше среди плательщиков, тогда как среди неплательщиков доли холостых и женатых(замужних) примерно равны."
   ]
  },
  {
   "cell_type": "markdown",
   "metadata": {},
   "source": [
    "Составим таблицу сопряженности для признаков \"default\" и \"MARRIAGE\" и визуализируем ее."
   ]
  },
  {
   "cell_type": "code",
   "execution_count": 31,
   "metadata": {
    "collapsed": true
   },
   "outputs": [],
   "source": [
    "t = np.zeros((2,2),dtype='int')\n",
    "\n",
    "t[0,0] = np.sum(df0['MARRIAGE']==2) # default=0,married=0 - холостые плательщики\n",
    "t[0,1] = np.sum(df0['MARRIAGE']==1) # default=0,married=1 - плательщики в браке\n",
    "t[1,0] = np.sum(df1['MARRIAGE']==2) # default=1,married=0 - холостые неплательщики\n",
    "t[1,1] = np.sum(df1['MARRIAGE']==1) # default=1,married=1 - неплательщики в браке"
   ]
  },
  {
   "cell_type": "code",
   "execution_count": 32,
   "metadata": {},
   "outputs": [
    {
     "data": {
      "image/png": "[encoded data removed]",
      "text/plain": [
       "<matplotlib.figure.Figure at 0x7f3e754bb890>"
      ]
     },
     "metadata": {},
     "output_type": "display_data"
    }
   ],
   "source": [
    "## Визуализация\n",
    "\n",
    "m = np.zeros(2)\n",
    "m[0] = np.sum(df['MARRIAGE']==2) ## общее число холостых\n",
    "m[1] = np.sum(df['MARRIAGE']==1) ## общее число людей в браке\n",
    "\n",
    "m0 = t[0,:] # Число холостых и в браке среди плательщиков\n",
    "m1 = t[1,:] # Число холостых и в браке среди неплательщиков\n",
    "\n",
    "plt.figure(figsize=(12,4))\n",
    "N = 2\n",
    "ind = np.arange(N)\n",
    "width = 0.35\n",
    "\n",
    "plt.subplot(1,2,1)\n",
    "plt.grid()\n",
    "\n",
    "pl1 = plt.bar(ind, m0, width, color='g')\n",
    "pl2 = plt.bar(ind, m1, width, color='r',bottom=m0)\n",
    "\n",
    "\n",
    "plt.ylabel('Number of people')\n",
    "plt.title('Number of payers and non-payers for each marital status')\n",
    "plt.xticks(ind + width/2., ('Not married','Married'))\n",
    "plt.ylim(0,18000)\n",
    "plt.legend((pl1[0], pl2[0]), ('Payers', 'Nonpayers'),loc=8)\n",
    "\n",
    "\n",
    "plt.subplot(1,2,2)\n",
    "plt.grid()\n",
    "\n",
    "m0f = m0*1.0/m # Доли холостых и в браке среди плательщиков\n",
    "m1f = m1*1.0/m # Доли холостых и в браке среди неплательщиков\n",
    "\n",
    "pl1 = plt.bar(ind, m0f, width, color='g')\n",
    "pl2 = plt.bar(ind, m1f, width, color='r',bottom=m0f)\n",
    "\n",
    "\n",
    "plt.ylabel('Fraction')\n",
    "plt.title('Fractions of payers and non-payers for each marital status')\n",
    "plt.xticks(ind + width/2., ('Not married','Married'))\n",
    "plt.legend((pl1[0], pl2[0]), ('Payers', 'Nonpayers'),loc=8)\n",
    "\n",
    "plt.show()"
   ]
  },
  {
   "cell_type": "markdown",
   "metadata": {},
   "source": [
    "Графики показывают что доля неплательщиков несколько больше среди женатых/замужних клиентов - в частности это видно по графику справа. "
   ]
  },
  {
   "cell_type": "markdown",
   "metadata": {},
   "source": [
    "В следующем разделе будет проанализирована таблица сопряженности, наблюденные значения ячеек таблицы будут сравнены с ожидаемыми. Кроме этого, мы проверим гипотезу о том, что семейное положение не влияет на то, вернет ли человек долг, \n",
    "\n",
    "т.е. проверим нулевую гипотезу о том, что признаки \"deafult\" и \"MARRIAGE\" связаны против общей альтернативы что они не связаны. \n",
    "\n",
    "Для этого применим критерий Хи квадрат."
   ]
  },
  {
   "cell_type": "markdown",
   "metadata": {},
   "source": [
    "Аналогично предыдущему заданию, применимость критерия Хи квадрат установим следующим образом. Первое требование, о том, что n>40 заведомо выполняется, т.к. размер выборки=30000.\n",
    "\n",
    "Второе требование о том, что доля ячеек с ожидаемым количеством элементов меньше 5 была не более 20% мы проверим после вычисления ожидаемой таблицы сопряженности. Таблица 2 ниже показывает что в нашем случае таких ячеек нет.\n",
    "\n",
    "Итак, критерий Хи квадрат применим."
   ]
  },
  {
   "cell_type": "code",
   "execution_count": 33,
   "metadata": {},
   "outputs": [
    {
     "name": "stdout",
     "output_type": "stream",
     "text": [
      "Критерий Хи квадрат:\n",
      "статистика = 27.509409093      уровень значимости = 1.5633210356e-07\n",
      "\n",
      "Доля невозврата во всей выборке: 22% \n",
      "\n",
      "\n",
      "Таблица 1. Наблюденная таблица сопряженности t.\n",
      "\t       Холостые   В браке\n",
      "default=0         12623     10453\n",
      "default=1          3341      3206\n",
      "разница:           9282      7247\n",
      "% невозврата:        21        23\n",
      "отклонение %:        -1         1 \n",
      "\n",
      "\n",
      "\n",
      "Таблица 2. Ожидаемая таблица сопряженности t (значения округленны до целых).\n",
      "\t       Холостые   В браке\n",
      "default=0         12436     10640\n",
      "default=1          3528      3019\n",
      "% невозврата:        22        22 \n",
      "\n",
      "\n",
      "\n"
     ]
    }
   ],
   "source": [
    "chi2, p, dof, ex = scipy.stats.chi2_contingency(t)\n",
    "print 'Критерий Хи квадрат:\\nстатистика =',chi2,'     уровень значимости =', p\n",
    "\n",
    "print '\\nДоля невозврата во всей выборке: %2.0f%% ' % overall_default_rate\n",
    "\n",
    "\n",
    "print '\\n\\nТаблица 1. Наблюденная таблица сопряженности t.'\n",
    "print '\\t       Холостые   В браке'\n",
    "for i in range(2):\n",
    "    print 'default=%d    ' % i,\n",
    "    for j in range(2):\n",
    "        print \"%9.0f\" % t[i,j],\n",
    "    print\n",
    "\n",
    "print 'разница:     ',\n",
    "for j in range(2):\n",
    "    print '%9.0f' % (t[0,j]-t[1,j]),\n",
    "print\n",
    "print '% невозврата:',\n",
    "for j in range(2):\n",
    "    print '%9.0f' % (t[1,j]*100.0/(t[0,j]+t[1,j])),\n",
    "print\n",
    "print 'отклонение %:',\n",
    "for j in range(2):\n",
    "    print '%9.0f' % (t[1,j]*100.0/(t[0,j]+t[1,j])-overall_default_rate),\n",
    "print '\\n\\n'    \n",
    "\n",
    "\n",
    "print '\\nТаблица 2. Ожидаемая таблица сопряженности t (значения округленны до целых).'\n",
    "print '\\t       Холостые   В браке'\n",
    "for i in range(2):\n",
    "    print 'default=%d    ' % i,\n",
    "    for j in range(2):\n",
    "        print \"%9.0f\" % ex[i,j],\n",
    "    print\n",
    "\n",
    "print '% невозврата:',\n",
    "for j in range(2):\n",
    "    print '%9.0f' % (ex[1,j]*100.0/(ex[0,j]+ex[1,j])),\n",
    "print '\\n\\n\\n'\n",
    "\n",
    "\n"
   ]
  },
  {
   "cell_type": "markdown",
   "metadata": {},
   "source": [
    "Уровень значимости для полученной статистики Хи квадрат (1.6e-7) значительно ниже 0.05, что позволяет уверенно отвергнуть гипотезу о том, что признаки независимы, т.е. нулевая гипотеза на уровне значимости 0.05 отвергается.\n",
    "\n",
    "Таблица 1 показывает число людей с различным семейным положением вернувших и не вернувших кредиты (строки 1-2). В третьей строке приведена разница между плательщиками и неплательщиками в зависимости от семейного положения.\n",
    "В четвертой строке - процент невозврата, в пятой строке - отклонение процента невозврата от общего процента невозврата (около 22%).\n",
    "По таблице 1 видно, что семейное положение меньше влияет на возврат кредита, чем например образование (см. таблицу 1 раздела 3). Отклонение от общего процента невозврата всего 1%. Практически это мало значимо.\n",
    "\n",
    "Таблица 2 показывает ожидаемые значение в предположении что признаки не связаны. Как видно из строки 5 таблицы 1, наблюденный процент невозврата весьма близок к ожидаемому.\n",
    "\n",
    "\n",
    "Мера взаимосвязи бинарных признаков \"default\" и \"MARRIAGE\" - это коэфициент корреляции Крамера, он рассчитывается ниже:"
   ]
  },
  {
   "cell_type": "code",
   "execution_count": 34,
   "metadata": {},
   "outputs": [
    {
     "name": "stdout",
     "output_type": "stream",
     "text": [
      "\n",
      "Коэффициент корреляции Крамера PHIc=0.03\n"
     ]
    }
   ],
   "source": [
    "## Коэфициент корреляции Крамера\n",
    "PHIc = np.sqrt(chi2/n)\n",
    "print '\\nКоэффициент корреляции Крамера PHIc=%3.2f' % PHIc"
   ]
  },
  {
   "cell_type": "markdown",
   "metadata": {},
   "source": [
    "Полученное значение коэфициент корреляции Крамера весьма мало, что согласуется со слабой связью семейного положения с возвратом кредита."
   ]
  },
  {
   "cell_type": "markdown",
   "metadata": {},
   "source": [
    "# 5. Возраст"
   ]
  },
  {
   "cell_type": "code",
   "execution_count": 35,
   "metadata": {
    "collapsed": true
   },
   "outputs": [],
   "source": [
    "## Разбивка данных для удобства\n",
    "df0_a = df0['AGE'] ## плательщики\n",
    "df1_a = df1['AGE'] ## неплательщики"
   ]
  },
  {
   "cell_type": "code",
   "execution_count": 36,
   "metadata": {},
   "outputs": [
    {
     "data": {
      "image/png": "[encoded data removed]",
      "text/plain": [
       "<matplotlib.figure.Figure at 0x7f3e761aff50>"
      ]
     },
     "metadata": {},
     "output_type": "display_data"
    }
   ],
   "source": [
    "## Строим распределения значений кредитных лимитов в двух группах\n",
    "plt.figure(figsize=(12,4))\n",
    "\n",
    "plt.subplot(1,2,1)\n",
    "plt.grid()\n",
    "plt.hist(df0_a, color = 'g',bins=20)\n",
    "plt.title('Payers (df=0)')\n",
    "plt.xlabel('AGE')\n",
    "plt.ylabel('Number of people')\n",
    "locs, labels = plt.xticks()\n",
    "plt.setp(labels, rotation=90)\n",
    "\n",
    "\n",
    "plt.subplot(1,2,2)\n",
    "plt.grid()\n",
    "plt.hist(df1_a, color = 'r',bins=20)\n",
    "plt.title('Non-payers (df=1)')\n",
    "plt.xlabel('AGE')\n",
    "plt.ylabel('Number of people')\n",
    "locs, labels = plt.xticks()\n",
    "plt.setp(labels, rotation=90)\n",
    "\n",
    "\n",
    "plt.show()"
   ]
  },
  {
   "cell_type": "markdown",
   "metadata": {},
   "source": [
    "Графики показывают, что распределения возрастов в двух группах схожи, за исключением скорее локальных различий. По-видимому, мы, в основном, наблюдаем общий характер распределения по возрасту в двух подвыборках, наследованный из общей совокупности клиентов."
   ]
  },
  {
   "cell_type": "markdown",
   "metadata": {},
   "source": [
    "\n",
    "### a) Интервальная оценка медиан распределений и их разностей в подгруппах"
   ]
  },
  {
   "cell_type": "markdown",
   "metadata": {},
   "source": [
    "Проведем оценку 95%-ых доверительных интервалов для медиан двух подвыборок (возрастов плательщиков и возрастов неплательщиков) и для разности медиан подвыборок с помощью бутстрепа. Метод бутстрепа выбираем, поскольку метод подходит для распределений, не являющихся нормальными (наш случай)."
   ]
  },
  {
   "cell_type": "code",
   "execution_count": 37,
   "metadata": {},
   "outputs": [
    {
     "name": "stdout",
     "output_type": "stream",
     "text": [
      "Точечная оценка для выборочной медианы v0 (плательщики): 34.0\n",
      "Точечная оценка для выборочной медианы v1 (неплательщики): 34.0\n",
      "95% доверительный интервал для v0 (плательщики): медиана=[34.0 34.0] \n",
      "95% доверительный интервал для v1 (неплательщики): медиана=[34.0 35.0] \n",
      "95% доверительный интервал для разности медиан=[ 0.0  1.0] \n"
     ]
    }
   ],
   "source": [
    "# Бутстреп\n",
    "\n",
    "v0 = df0_a.values\n",
    "v1 = df1_a.values\n",
    "\n",
    "v0_median_scores = map(np.median, get_bootstrap_samples(v0, 1000))\n",
    "v1_median_scores = map(np.median, get_bootstrap_samples(v1, 1000))\n",
    "\n",
    "print 'Точечная оценка для выборочной медианы v0 (плательщики): %4.1f' % np.median(v0)\n",
    "print 'Точечная оценка для выборочной медианы v1 (неплательщики): %4.1f' % np.median(v1)\n",
    "\n",
    "l,r = stat_intervals(v0_median_scores, 0.05)\n",
    "print '95%% доверительный интервал для v0 (плательщики): медиана=[%4.1f %4.1f] ' % (l,r)\n",
    "l,r = stat_intervals(v1_median_scores, 0.05)\n",
    "print '95%% доверительный интервал для v1 (неплательщики): медиана=[%4.1f %4.1f] ' % (l,r)\n",
    "\n",
    "delta_median_scores = map(lambda x: x[1] - x[0], zip(v0_median_scores,v1_median_scores))\n",
    "l,r = stat_intervals(delta_median_scores, 0.05)\n",
    "print '95%% доверительный интервал для разности медиан=[%4.1f %4.1f] ' % (l,r)\n"
   ]
  },
  {
   "cell_type": "markdown",
   "metadata": {},
   "source": [
    "Итак, мы получили перекрывающиеся 95%-ые доверительные интервалы для оценок медиан двух подвыборок, а доверительный интервал для разности медиан содержит нуль. На основании этого мы не можем заключить, что медианы подвыборок различны."
   ]
  },
  {
   "cell_type": "markdown",
   "metadata": {},
   "source": [
    "### b) Проверка гипотезы о равенстве распределений с помощью рангового критерия Манна-Уитни"
   ]
  },
  {
   "cell_type": "markdown",
   "metadata": {},
   "source": [
    "Проверим нулевую гипотезу о том, что функции распределений двух подвыборок (возрастов плательщиков и неплательщиков) равны против двусторонней альтернативы о том, что они не равны. \n",
    "\n",
    "Нулевая гипотеза состоит в том, что функции распределения равны. Альтернативная гипотеза состоит в том что они не равны, причем вторая получается из первой сдвигом в любую из сторон.\n",
    "\n",
    "$H_0\\colon F_{df_0}(x) = F_{df_1}(x)$\n",
    "\n",
    "$H_1\\colon F_{df_0}(x) = F_{df_1}(x + \\Delta), \\Delta\\neq 0$\n",
    "\n",
    "Проверку проведем с помощью рангового критерия Манна-Уитни для независимых выборок поскольку выборки возрастов плательщиков и неплательщиков независимы, их распределения неизвестны."
   ]
  },
  {
   "cell_type": "code",
   "execution_count": 38,
   "metadata": {},
   "outputs": [
    {
     "data": {
      "text/plain": [
       "MannwhitneyuResult(statistic=76966879.5, pvalue=0.37276989592390031)"
      ]
     },
     "execution_count": 38,
     "metadata": {},
     "output_type": "execute_result"
    }
   ],
   "source": [
    "stats.mannwhitneyu(df0_a, df1_a, alternative='two-sided')"
   ]
  },
  {
   "cell_type": "markdown",
   "metadata": {},
   "source": [
    "Получен уровень значимости 0.37 => гипотезу $H_0$ на уровне 0.05 отвергнуть не можем."
   ]
  },
  {
   "cell_type": "markdown",
   "metadata": {},
   "source": [
    "Итак, данные не позволяют отвергнуть гипотезу о том, что возраст не влияет на возврат кредита.\n",
    "Можно заключить, что также и практически, возрастная характеристика двух групп схожа и нет оснований судить о возврате/не возврате по одному лишь возрасту."
   ]
  }
 ],
 "metadata": {
  "kernelspec": {
   "display_name": "Python 2",
   "language": "python",
   "name": "python2"
  },
  "language_info": {
   "codemirror_mode": {
    "name": "ipython",
    "version": 2
   },
   "file_extension": ".py",
   "mimetype": "text/x-python",
   "name": "python",
   "nbconvert_exporter": "python",
   "pygments_lexer": "ipython2",
   "version": "2.7.15"
  }
 },
 "nbformat": 4,
 "nbformat_minor": 1
}
