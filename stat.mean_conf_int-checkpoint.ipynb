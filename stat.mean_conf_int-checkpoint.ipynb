{
 "cells": [
  {
   "cell_type": "markdown",
   "metadata": {},
   "source": [
    "# Доверительные интервалы для оценки среднего"
   ]
  },
  {
   "cell_type": "code",
   "execution_count": null,
   "metadata": {},
   "outputs": [],
   "source": [
    "from sklearn import cross_validation, datasets, linear_model, metrics\n",
    "\n",
    "import numpy as np"
   ]
  },
  {
   "cell_type": "code",
   "execution_count": null,
   "metadata": {},
   "outputs": [],
   "source": [
    "%pylab inline"
   ]
  },
  {
   "cell_type": "markdown",
   "metadata": {},
   "source": [
    "## Генерация данных"
   ]
  },
  {
   "cell_type": "code",
   "execution_count": null,
   "metadata": {},
   "outputs": [],
   "source": [
    "blobs = datasets.make_blobs(300, centers = 2, cluster_std = 6, random_state=1)"
   ]
  },
  {
   "cell_type": "code",
   "execution_count": null,
   "metadata": {},
   "outputs": [],
   "source": [
    "pylab.figure(figsize(8, 8))\n",
    "pylab.scatter(map(lambda x: x[0], blobs[0]), map(lambda x: x[1], blobs[0]), c = blobs[1], cmap = 'autumn',\n",
    "             s=100)"
   ]
  },
  {
   "cell_type": "markdown",
   "metadata": {},
   "source": [
    "## Сравнение линейных моделей"
   ]
  },
  {
   "cell_type": "markdown",
   "metadata": {},
   "source": [
    "### Точечная оценка"
   ]
  },
  {
   "cell_type": "code",
   "execution_count": null,
   "metadata": {},
   "outputs": [],
   "source": [
    "train_data, test_data, train_labels, test_labels = cross_validation.train_test_split(blobs[0], blobs[1], \n",
    "                                                                                    test_size = 15,\n",
    "                                                                                    random_state = 1)"
   ]
  },
  {
   "cell_type": "code",
   "execution_count": null,
   "metadata": {},
   "outputs": [],
   "source": [
    "ridge_model = linear_model.RidgeClassifier()\n",
    "ridge_model.fit(train_data, train_labels)\n",
    "metrics.roc_auc_score(test_labels, ridge_model.predict(test_data))"
   ]
  },
  {
   "cell_type": "code",
   "execution_count": null,
   "metadata": {},
   "outputs": [],
   "source": [
    "sgd_model = linear_model.SGDClassifier(random_state = 0)\n",
    "sgd_model.fit(train_data, train_labels)\n",
    "metrics.roc_auc_score(test_labels, sgd_model.predict(test_data))"
   ]
  },
  {
   "cell_type": "markdown",
   "metadata": {},
   "source": [
    "### Оценка среднего"
   ]
  },
  {
   "cell_type": "code",
   "execution_count": null,
   "metadata": {},
   "outputs": [],
   "source": [
    "sgd_auc_scores = cross_validation.cross_val_score(linear_model.SGDClassifier(), \n",
    "                                 blobs[0], blobs[1], scoring = 'roc_auc',  \n",
    "                                 cv = 20)"
   ]
  },
  {
   "cell_type": "code",
   "execution_count": 9,
   "metadata": {},
   "outputs": [],
   "source": [
    "ridge_auc_scores = cross_validation.cross_val_score(linear_model.RidgeClassifier(), \n",
    "                                 blobs[0], blobs[1], scoring = 'roc_auc',  \n",
    "                                 cv = 20)"
   ]
  },
  {
   "cell_type": "markdown",
   "metadata": {},
   "source": [
    "### Точечная оценка среднего"
   ]
  },
  {
   "cell_type": "code",
   "execution_count": 10,
   "metadata": {},
   "outputs": [
    {
     "name": "stdout",
     "output_type": "stream",
     "text": [
      "sgd model auc: mean 0.904, std 0.117\n",
      "ridge model auc: mean 0.948, std 0.054\n"
     ]
    }
   ],
   "source": [
    "print \"sgd model auc: mean %.3f, std %.3f\" % (sgd_auc_scores.mean(), sgd_auc_scores.std(ddof=1))\n",
    "print \"ridge model auc: mean %.3f, std %.3f\" % (ridge_auc_scores.mean(), ridge_auc_scores.std(ddof=1))"
   ]
  },
  {
   "cell_type": "markdown",
   "metadata": {},
   "source": [
    "### Интервальная оценка среднего "
   ]
  },
  {
   "cell_type": "code",
   "execution_count": 11,
   "metadata": {},
   "outputs": [],
   "source": [
    "from statsmodels.stats.weightstats import _zconfint_generic, _tconfint_generic"
   ]
  },
  {
   "cell_type": "code",
   "execution_count": 12,
   "metadata": {
    "collapsed": true
   },
   "outputs": [],
   "source": [
    "sgd_mean = sgd_auc_scores.mean()\n",
    "ridge_mean = ridge_auc_scores.mean()"
   ]
  },
  {
   "cell_type": "markdown",
   "metadata": {},
   "source": [
    "#### z-интервал"
   ]
  },
  {
   "cell_type": "markdown",
   "metadata": {},
   "source": [
    "Допустим, нам откуда-то известно, что дисперсия auc_scores $\\sigma^2=0.25$. Построим доверительные интервалы для средних вида $$\\bar{X}_n \\pm z_{1-\\frac{\\alpha}{2}} \\frac{\\sigma}{\\sqrt{n}}$$"
   ]
  },
  {
   "cell_type": "code",
   "execution_count": 13,
   "metadata": {},
   "outputs": [
    {
     "name": "stdout",
     "output_type": "stream",
     "text": [
      "sgd model mean auc 95%% confidence interval (0.68512638016197691, 1.1233876504502678)\n",
      "ridge model mean auc 95%% confidence interval (0.72886043628442598, 1.1671217065727166)\n"
     ]
    }
   ],
   "source": [
    "print \"sgd model mean auc 95%% confidence interval\", _zconfint_generic(sgd_mean, \n",
    "                                                                  sqrt(0.25/len(sgd_auc_scores)), \n",
    "                                                                  0.05, 'two-sided')\n",
    "\n",
    "print \"ridge model mean auc 95%% confidence interval\", _zconfint_generic(ridge_mean, \n",
    "                                                                    sqrt(0.25/len(sgd_auc_scores)), \n",
    "                                                                    0.05, 'two-sided')"
   ]
  },
  {
   "cell_type": "markdown",
   "metadata": {},
   "source": [
    "#### t-интервал"
   ]
  },
  {
   "cell_type": "markdown",
   "metadata": {},
   "source": [
    "Вместо гипотетической теоретической дисперсии $\\sigma^2$, которую мы на самом деле в данном случае не знаем, используем выборочные дисперсии, и построим доверительные интервалы вида $$\\bar{X}_n \\pm t_{1-\\frac{\\alpha}{2}} \\frac{S}{\\sqrt{n}}$$"
   ]
  },
  {
   "cell_type": "code",
   "execution_count": 14,
   "metadata": {},
   "outputs": [
    {
     "data": {
      "text/plain": [
       "numpy.ndarray"
      ]
     },
     "execution_count": 14,
     "metadata": {},
     "output_type": "execute_result"
    }
   ],
   "source": [
    "type(sgd_auc_scores)"
   ]
  },
  {
   "cell_type": "code",
   "execution_count": 15,
   "metadata": {
    "collapsed": true
   },
   "outputs": [],
   "source": [
    "sgd_mean_std = sgd_auc_scores.std(ddof=1)/sqrt(len(sgd_auc_scores))\n",
    "ridge_mean_std = ridge_auc_scores.std(ddof=1)/sqrt(len(ridge_auc_scores))"
   ]
  },
  {
   "cell_type": "code",
   "execution_count": 16,
   "metadata": {},
   "outputs": [
    {
     "name": "stdout",
     "output_type": "stream",
     "text": [
      "sgd model mean auc 95%% confidence interval (0.84939983366532035, 0.95911419694692435)\n",
      "ridge model mean auc 95%% confidence interval (0.92287832593023689, 0.97310381692690573)\n"
     ]
    }
   ],
   "source": [
    "print \"sgd model mean auc 95%% confidence interval\", _tconfint_generic(sgd_mean, sgd_mean_std,\n",
    "                                                                       len(sgd_auc_scores) - 1,\n",
    "                                                                       0.05, 'two-sided')\n",
    "\n",
    "print \"ridge model mean auc 95%% confidence interval\", _tconfint_generic(ridge_mean, ridge_mean_std,\n",
    "                                                                         len(sgd_auc_scores) - 1,\n",
    "                                                                         0.05, 'two-sided')"
   ]
  }
 ],
 "metadata": {
  "kernelspec": {
   "display_name": "Python 3",
   "language": "python",
   "name": "python3"
  },
  "language_info": {
   "codemirror_mode": {
    "name": "ipython",
    "version": 3
   },
   "file_extension": ".py",
   "mimetype": "text/x-python",
   "name": "python",
   "nbconvert_exporter": "python",
   "pygments_lexer": "ipython3",
   "version": "3.7.1"
  }
 },
 "nbformat": 4,
 "nbformat_minor": 1
}
